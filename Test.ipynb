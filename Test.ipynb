{
 "cells": [
  {
   "cell_type": "code",
   "execution_count": 18,
   "outputs": [
    {
     "name": "stdout",
     "output_type": "stream",
     "text": [
      "The autoreload extension is already loaded. To reload it, use:\n",
      "  %reload_ext autoreload\n"
     ]
    }
   ],
   "source": [
    "%load_ext autoreload\n",
    "%autoreload 2"
   ],
   "metadata": {
    "collapsed": false,
    "pycharm": {
     "name": "#%%\n"
    }
   }
  },
  {
   "cell_type": "markdown",
   "metadata": {
    "pycharm": {
     "name": "#%% md\n"
    }
   },
   "source": [
    "# Random tests with pythons library"
   ]
  },
  {
   "cell_type": "code",
   "execution_count": 19,
   "metadata": {
    "pycharm": {
     "name": "#%%\n"
    }
   },
   "outputs": [
    {
     "data": {
      "text/plain": "'\\nimport pandas as pd\\nimport numpy as np\\n'"
     },
     "execution_count": 19,
     "metadata": {},
     "output_type": "execute_result"
    }
   ],
   "source": [
    "\"\"\"\n",
    "import pandas as pd\n",
    "import numpy as np\n",
    "\"\"\""
   ]
  },
  {
   "cell_type": "code",
   "execution_count": 20,
   "metadata": {
    "pycharm": {
     "name": "#%%\n"
    }
   },
   "outputs": [
    {
     "data": {
      "text/plain": "'\\ndata = pd.read_csv(\\n    \"https://www.data.gouv.fr/fr/datasets/r/3004168d-bec4-44d9-a781-ef16f41856a2\",\\n    sep=\"|\",\\n    decimal=\",\"\\n    # dtype={\\'Valeur fonciere\\': np.float64}\\n)\\n'"
     },
     "execution_count": 20,
     "metadata": {},
     "output_type": "execute_result"
    }
   ],
   "source": [
    "\"\"\"\n",
    "data = pd.read_csv(\n",
    "    \"https://www.data.gouv.fr/fr/datasets/r/3004168d-bec4-44d9-a781-ef16f41856a2\",\n",
    "    sep=\"|\",\n",
    "    decimal=\",\"\n",
    "    # dtype={'Valeur fonciere': np.float64}\n",
    ")\n",
    "\"\"\""
   ]
  },
  {
   "cell_type": "code",
   "execution_count": 21,
   "metadata": {
    "pycharm": {
     "name": "#%%\n"
    }
   },
   "outputs": [
    {
     "data": {
      "text/plain": "'\\nprint(data[\"Valeur fonciere\"][:10])\\nprint(data[\"Surface reelle bati\"][:10])\\n'"
     },
     "execution_count": 21,
     "metadata": {},
     "output_type": "execute_result"
    }
   ],
   "source": [
    "\"\"\"\n",
    "print(data[\"Valeur fonciere\"][:10])\n",
    "print(data[\"Surface reelle bati\"][:10])\n",
    "\"\"\""
   ]
  },
  {
   "cell_type": "code",
   "execution_count": 22,
   "metadata": {
    "pycharm": {
     "name": "#%%\n"
    }
   },
   "outputs": [
    {
     "data": {
      "text/plain": "'\\ndata\\n\\n#print(data[:1])\\nprint(data\\n      .filter(items=[\\'Valeur fonciere\\', \\'Surface reelle bati\\', \\'Type local\\'])\\n      .groupby(by=\"Type local\")\\n      .mean()\\n)\\n'"
     },
     "execution_count": 22,
     "metadata": {},
     "output_type": "execute_result"
    }
   ],
   "source": [
    "\"\"\"\n",
    "data\n",
    "\n",
    "#print(data[:1])\n",
    "print(data\n",
    "      .filter(items=['Valeur fonciere', 'Surface reelle bati', 'Type local'])\n",
    "      .groupby(by=\"Type local\")\n",
    "      .mean()\n",
    ")\n",
    "\"\"\""
   ]
  },
  {
   "cell_type": "code",
   "execution_count": 23,
   "metadata": {
    "pycharm": {
     "name": "#%%\n"
    }
   },
   "outputs": [
    {
     "data": {
      "text/plain": "'\\nrefinedData = data[(data[\"Type local\"] == \"Appartement\") | (data[\"Type local\"] == \"Maison\")]\\n'"
     },
     "execution_count": 23,
     "metadata": {},
     "output_type": "execute_result"
    }
   ],
   "source": [
    "\"\"\"\n",
    "refinedData = data[(data[\"Type local\"] == \"Appartement\") | (data[\"Type local\"] == \"Maison\")]\n",
    "\"\"\""
   ]
  },
  {
   "cell_type": "code",
   "execution_count": 24,
   "metadata": {
    "pycharm": {
     "name": "#%%\n"
    }
   },
   "outputs": [
    {
     "data": {
      "text/plain": "'\\nprint(refinedData[:10]\\n      .filter(items=[\\'Valeur fonciere\\', \\'Surface reelle bati\\', \\'Type local\\'])\\n      .groupby(by=\"Type local\")\\n      .mean()\\n)\\n'"
     },
     "execution_count": 24,
     "metadata": {},
     "output_type": "execute_result"
    }
   ],
   "source": [
    "\"\"\"\n",
    "print(refinedData[:10]\n",
    "      .filter(items=['Valeur fonciere', 'Surface reelle bati', 'Type local'])\n",
    "      .groupby(by=\"Type local\")\n",
    "      .mean()\n",
    ")\n",
    "\"\"\""
   ]
  },
  {
   "cell_type": "code",
   "execution_count": 25,
   "metadata": {
    "pycharm": {
     "name": "#%%\n"
    }
   },
   "outputs": [
    {
     "data": {
      "text/plain": "'\\nimport plotly.express as px\\n\\nfig = px.scatter(\\n    x=refinedData[\"Surface reelle bati\"][:300],\\n    y=refinedData[\"Valeur fonciere\"][:300]\\n)\\n\\nfig.show()\\n'"
     },
     "execution_count": 25,
     "metadata": {},
     "output_type": "execute_result"
    }
   ],
   "source": [
    "\"\"\"\n",
    "import plotly.express as px\n",
    "\n",
    "fig = px.scatter(\n",
    "    x=refinedData[\"Surface reelle bati\"][:300],\n",
    "    y=refinedData[\"Valeur fonciere\"][:300]\n",
    ")\n",
    "\n",
    "fig.show()\n",
    "\"\"\""
   ]
  },
  {
   "cell_type": "code",
   "execution_count": 26,
   "metadata": {
    "pycharm": {
     "name": "#%%\n"
    }
   },
   "outputs": [
    {
     "data": {
      "text/plain": "'\\nimport plotly.graph_objects as go\\n\\nfig = go.Figure()\\n\\nfig.add_trace(go.Scatter(\\n    x=refinedData[\"Surface reelle bati\"][:300],\\n    y=refinedData[\"Valeur fonciere\"][:300],\\n    mode=\\'markers\\'\\n))\\n\\ndef f(x):\\n    return 1600 * x + 10000\\n\\nx = np.linspace(0, 500, 300)\\ny = np.vectorize(f)(x)\\n\\nprint(x[:3])\\nprint(y[:3])\\n\\nfig.add_trace(go.Scatter(\\n    x=x,\\n    y=y,\\n    mode=\\'lines\\'\\n))\\n\\nfig.show()\\n'"
     },
     "execution_count": 26,
     "metadata": {},
     "output_type": "execute_result"
    }
   ],
   "source": [
    "\"\"\"\n",
    "import plotly.graph_objects as go\n",
    "\n",
    "fig = go.Figure()\n",
    "\n",
    "fig.add_trace(go.Scatter(\n",
    "    x=refinedData[\"Surface reelle bati\"][:300],\n",
    "    y=refinedData[\"Valeur fonciere\"][:300],\n",
    "    mode='markers'\n",
    "))\n",
    "\n",
    "def f(x):\n",
    "    return 1600 * x + 10000\n",
    "\n",
    "x = np.linspace(0, 500, 300)\n",
    "y = np.vectorize(f)(x)\n",
    "\n",
    "print(x[:3])\n",
    "print(y[:3])\n",
    "\n",
    "fig.add_trace(go.Scatter(\n",
    "    x=x,\n",
    "    y=y,\n",
    "    mode='lines'\n",
    "))\n",
    "\n",
    "fig.show()\n",
    "\"\"\""
   ]
  },
  {
   "cell_type": "code",
   "execution_count": 27,
   "metadata": {
    "pycharm": {
     "name": "#%%\n"
    }
   },
   "outputs": [
    {
     "data": {
      "text/plain": "\"\\ntrainingSet = refinedData.filter(items=[\\n    'Valeur fonciere',\\n    'Surface reelle bati'\\n])\\n\""
     },
     "execution_count": 27,
     "metadata": {},
     "output_type": "execute_result"
    }
   ],
   "source": [
    "\"\"\"\n",
    "trainingSet = refinedData.filter(items=[\n",
    "    'Valeur fonciere',\n",
    "    'Surface reelle bati'\n",
    "])\n",
    "\"\"\""
   ]
  },
  {
   "cell_type": "markdown",
   "metadata": {},
   "source": [
    "# Defining some helpers function to plot things in Graph.py"
   ]
  },
  {
   "cell_type": "code",
   "execution_count": 28,
   "metadata": {
    "pycharm": {
     "name": "#%%\n"
    }
   },
   "outputs": [],
   "source": [
    "from Graph import Graph"
   ]
  },
  {
   "cell_type": "markdown",
   "metadata": {},
   "source": [
    "# Step 1: Simple linear regression (univariate linear regression)\n",
    "\n",
    "\n",
    "## Hypothesis\n",
    "\n",
    "The hypothesis is the function that for each $x$ in the training set will give us the best estimation of each $y$.\n",
    "\n",
    "Simply put, the hypothesis is the function that \"solve\" the problem at hands.\n",
    "\n",
    "In the case of a univariate (one variable) linear regression the hypothesis function is a simple linear function:\n",
    "\n",
    "$h_\\theta(x) = \\theta_0 + \\theta_1x$\n",
    "\n",
    "Our goal then is to find $\\theta_0$ and $\\theta_1$ so that $h_\\theta(x)$ is close to $y$ for each of our training examples $(x, y)$"
   ]
  },
  {
   "cell_type": "code",
   "execution_count": 29,
   "metadata": {
    "pycharm": {
     "name": "#%%\n"
    },
    "scrolled": false
   },
   "outputs": [
    {
     "data": {
      "application/vnd.plotly.v1+json": {
       "config": {
        "linkText": "Export to plot.ly",
        "plotlyServerURL": "https://plot.ly",
        "showLink": false
       },
       "data": [
        {
         "mode": "lines",
         "name": "hypo1",
         "type": "scatter",
         "x": [
          0.0,
          1.0101010101010102,
          2.0202020202020203,
          3.0303030303030303,
          4.040404040404041,
          5.050505050505051,
          6.0606060606060606,
          7.070707070707071,
          8.080808080808081,
          9.090909090909092,
          10.101010101010102,
          11.111111111111112,
          12.121212121212121,
          13.131313131313131,
          14.141414141414142,
          15.151515151515152,
          16.161616161616163,
          17.171717171717173,
          18.181818181818183,
          19.191919191919194,
          20.202020202020204,
          21.212121212121215,
          22.222222222222225,
          23.232323232323235,
          24.242424242424242,
          25.252525252525253,
          26.262626262626263,
          27.272727272727273,
          28.282828282828284,
          29.292929292929294,
          30.303030303030305,
          31.313131313131315,
          32.323232323232325,
          33.333333333333336,
          34.343434343434346,
          35.35353535353536,
          36.36363636363637,
          37.37373737373738,
          38.38383838383839,
          39.3939393939394,
          40.40404040404041,
          41.41414141414142,
          42.42424242424243,
          43.43434343434344,
          44.44444444444445,
          45.45454545454546,
          46.46464646464647,
          47.47474747474748,
          48.484848484848484,
          49.494949494949495,
          50.505050505050505,
          51.515151515151516,
          52.525252525252526,
          53.535353535353536,
          54.54545454545455,
          55.55555555555556,
          56.56565656565657,
          57.57575757575758,
          58.58585858585859,
          59.5959595959596,
          60.60606060606061,
          61.61616161616162,
          62.62626262626263,
          63.63636363636364,
          64.64646464646465,
          65.65656565656566,
          66.66666666666667,
          67.67676767676768,
          68.68686868686869,
          69.6969696969697,
          70.70707070707071,
          71.71717171717172,
          72.72727272727273,
          73.73737373737374,
          74.74747474747475,
          75.75757575757576,
          76.76767676767678,
          77.77777777777779,
          78.7878787878788,
          79.7979797979798,
          80.80808080808082,
          81.81818181818183,
          82.82828282828284,
          83.83838383838385,
          84.84848484848486,
          85.85858585858587,
          86.86868686868688,
          87.87878787878789,
          88.8888888888889,
          89.89898989898991,
          90.90909090909092,
          91.91919191919193,
          92.92929292929294,
          93.93939393939395,
          94.94949494949496,
          95.95959595959597,
          96.96969696969697,
          97.97979797979798,
          98.98989898989899,
          100.0
         ],
         "y": [
          10.0,
          12.02020202020202,
          14.040404040404042,
          16.060606060606062,
          18.080808080808083,
          20.101010101010104,
          22.12121212121212,
          24.141414141414142,
          26.161616161616163,
          28.181818181818183,
          30.202020202020204,
          32.22222222222223,
          34.24242424242424,
          36.26262626262626,
          38.282828282828284,
          40.303030303030305,
          42.323232323232325,
          44.343434343434346,
          46.36363636363637,
          48.38383838383839,
          50.40404040404041,
          52.42424242424243,
          54.44444444444445,
          56.46464646464647,
          58.484848484848484,
          60.505050505050505,
          62.525252525252526,
          64.54545454545455,
          66.56565656565657,
          68.58585858585859,
          70.60606060606061,
          72.62626262626263,
          74.64646464646465,
          76.66666666666667,
          78.68686868686869,
          80.70707070707071,
          82.72727272727273,
          84.74747474747475,
          86.76767676767678,
          88.7878787878788,
          90.80808080808082,
          92.82828282828284,
          94.84848484848486,
          96.86868686868688,
          98.8888888888889,
          100.90909090909092,
          102.92929292929294,
          104.94949494949496,
          106.96969696969697,
          108.98989898989899,
          111.01010101010101,
          113.03030303030303,
          115.05050505050505,
          117.07070707070707,
          119.0909090909091,
          121.11111111111111,
          123.13131313131314,
          125.15151515151516,
          127.17171717171718,
          129.1919191919192,
          131.21212121212122,
          133.23232323232324,
          135.25252525252526,
          137.27272727272728,
          139.2929292929293,
          141.31313131313132,
          143.33333333333334,
          145.35353535353536,
          147.37373737373738,
          149.3939393939394,
          151.41414141414143,
          153.43434343434345,
          155.45454545454547,
          157.4747474747475,
          159.4949494949495,
          161.51515151515153,
          163.53535353535355,
          165.55555555555557,
          167.5757575757576,
          169.5959595959596,
          171.61616161616163,
          173.63636363636365,
          175.65656565656568,
          177.6767676767677,
          179.69696969696972,
          181.71717171717174,
          183.73737373737376,
          185.75757575757578,
          187.7777777777778,
          189.79797979797982,
          191.81818181818184,
          193.83838383838386,
          195.85858585858588,
          197.8787878787879,
          199.89898989898992,
          201.91919191919195,
          203.93939393939394,
          205.95959595959596,
          207.97979797979798,
          210.0
         ]
        },
        {
         "mode": "lines",
         "name": "hypo2",
         "type": "scatter",
         "x": [
          0.0,
          1.0101010101010102,
          2.0202020202020203,
          3.0303030303030303,
          4.040404040404041,
          5.050505050505051,
          6.0606060606060606,
          7.070707070707071,
          8.080808080808081,
          9.090909090909092,
          10.101010101010102,
          11.111111111111112,
          12.121212121212121,
          13.131313131313131,
          14.141414141414142,
          15.151515151515152,
          16.161616161616163,
          17.171717171717173,
          18.181818181818183,
          19.191919191919194,
          20.202020202020204,
          21.212121212121215,
          22.222222222222225,
          23.232323232323235,
          24.242424242424242,
          25.252525252525253,
          26.262626262626263,
          27.272727272727273,
          28.282828282828284,
          29.292929292929294,
          30.303030303030305,
          31.313131313131315,
          32.323232323232325,
          33.333333333333336,
          34.343434343434346,
          35.35353535353536,
          36.36363636363637,
          37.37373737373738,
          38.38383838383839,
          39.3939393939394,
          40.40404040404041,
          41.41414141414142,
          42.42424242424243,
          43.43434343434344,
          44.44444444444445,
          45.45454545454546,
          46.46464646464647,
          47.47474747474748,
          48.484848484848484,
          49.494949494949495,
          50.505050505050505,
          51.515151515151516,
          52.525252525252526,
          53.535353535353536,
          54.54545454545455,
          55.55555555555556,
          56.56565656565657,
          57.57575757575758,
          58.58585858585859,
          59.5959595959596,
          60.60606060606061,
          61.61616161616162,
          62.62626262626263,
          63.63636363636364,
          64.64646464646465,
          65.65656565656566,
          66.66666666666667,
          67.67676767676768,
          68.68686868686869,
          69.6969696969697,
          70.70707070707071,
          71.71717171717172,
          72.72727272727273,
          73.73737373737374,
          74.74747474747475,
          75.75757575757576,
          76.76767676767678,
          77.77777777777779,
          78.7878787878788,
          79.7979797979798,
          80.80808080808082,
          81.81818181818183,
          82.82828282828284,
          83.83838383838385,
          84.84848484848486,
          85.85858585858587,
          86.86868686868688,
          87.87878787878789,
          88.8888888888889,
          89.89898989898991,
          90.90909090909092,
          91.91919191919193,
          92.92929292929294,
          93.93939393939395,
          94.94949494949496,
          95.95959595959597,
          96.96969696969697,
          97.97979797979798,
          98.98989898989899,
          100.0
         ],
         "y": [
          100.0,
          100.0,
          100.0,
          100.0,
          100.0,
          100.0,
          100.0,
          100.0,
          100.0,
          100.0,
          100.0,
          100.0,
          100.0,
          100.0,
          100.0,
          100.0,
          100.0,
          100.0,
          100.0,
          100.0,
          100.0,
          100.0,
          100.0,
          100.0,
          100.0,
          100.0,
          100.0,
          100.0,
          100.0,
          100.0,
          100.0,
          100.0,
          100.0,
          100.0,
          100.0,
          100.0,
          100.0,
          100.0,
          100.0,
          100.0,
          100.0,
          100.0,
          100.0,
          100.0,
          100.0,
          100.0,
          100.0,
          100.0,
          100.0,
          100.0,
          100.0,
          100.0,
          100.0,
          100.0,
          100.0,
          100.0,
          100.0,
          100.0,
          100.0,
          100.0,
          100.0,
          100.0,
          100.0,
          100.0,
          100.0,
          100.0,
          100.0,
          100.0,
          100.0,
          100.0,
          100.0,
          100.0,
          100.0,
          100.0,
          100.0,
          100.0,
          100.0,
          100.0,
          100.0,
          100.0,
          100.0,
          100.0,
          100.0,
          100.0,
          100.0,
          100.0,
          100.0,
          100.0,
          100.0,
          100.0,
          100.0,
          100.0,
          100.0,
          100.0,
          100.0,
          100.0,
          100.0,
          100.0,
          100.0,
          100.0
         ]
        }
       ],
       "layout": {
        "template": {
         "data": {
          "bar": [
           {
            "error_x": {
             "color": "#2a3f5f"
            },
            "error_y": {
             "color": "#2a3f5f"
            },
            "marker": {
             "line": {
              "color": "#E5ECF6",
              "width": 0.5
             }
            },
            "type": "bar"
           }
          ],
          "barpolar": [
           {
            "marker": {
             "line": {
              "color": "#E5ECF6",
              "width": 0.5
             }
            },
            "type": "barpolar"
           }
          ],
          "carpet": [
           {
            "aaxis": {
             "endlinecolor": "#2a3f5f",
             "gridcolor": "white",
             "linecolor": "white",
             "minorgridcolor": "white",
             "startlinecolor": "#2a3f5f"
            },
            "baxis": {
             "endlinecolor": "#2a3f5f",
             "gridcolor": "white",
             "linecolor": "white",
             "minorgridcolor": "white",
             "startlinecolor": "#2a3f5f"
            },
            "type": "carpet"
           }
          ],
          "choropleth": [
           {
            "colorbar": {
             "outlinewidth": 0,
             "ticks": ""
            },
            "type": "choropleth"
           }
          ],
          "contour": [
           {
            "colorbar": {
             "outlinewidth": 0,
             "ticks": ""
            },
            "colorscale": [
             [
              0.0,
              "#0d0887"
             ],
             [
              0.1111111111111111,
              "#46039f"
             ],
             [
              0.2222222222222222,
              "#7201a8"
             ],
             [
              0.3333333333333333,
              "#9c179e"
             ],
             [
              0.4444444444444444,
              "#bd3786"
             ],
             [
              0.5555555555555556,
              "#d8576b"
             ],
             [
              0.6666666666666666,
              "#ed7953"
             ],
             [
              0.7777777777777778,
              "#fb9f3a"
             ],
             [
              0.8888888888888888,
              "#fdca26"
             ],
             [
              1.0,
              "#f0f921"
             ]
            ],
            "type": "contour"
           }
          ],
          "contourcarpet": [
           {
            "colorbar": {
             "outlinewidth": 0,
             "ticks": ""
            },
            "type": "contourcarpet"
           }
          ],
          "heatmap": [
           {
            "colorbar": {
             "outlinewidth": 0,
             "ticks": ""
            },
            "colorscale": [
             [
              0.0,
              "#0d0887"
             ],
             [
              0.1111111111111111,
              "#46039f"
             ],
             [
              0.2222222222222222,
              "#7201a8"
             ],
             [
              0.3333333333333333,
              "#9c179e"
             ],
             [
              0.4444444444444444,
              "#bd3786"
             ],
             [
              0.5555555555555556,
              "#d8576b"
             ],
             [
              0.6666666666666666,
              "#ed7953"
             ],
             [
              0.7777777777777778,
              "#fb9f3a"
             ],
             [
              0.8888888888888888,
              "#fdca26"
             ],
             [
              1.0,
              "#f0f921"
             ]
            ],
            "type": "heatmap"
           }
          ],
          "heatmapgl": [
           {
            "colorbar": {
             "outlinewidth": 0,
             "ticks": ""
            },
            "colorscale": [
             [
              0.0,
              "#0d0887"
             ],
             [
              0.1111111111111111,
              "#46039f"
             ],
             [
              0.2222222222222222,
              "#7201a8"
             ],
             [
              0.3333333333333333,
              "#9c179e"
             ],
             [
              0.4444444444444444,
              "#bd3786"
             ],
             [
              0.5555555555555556,
              "#d8576b"
             ],
             [
              0.6666666666666666,
              "#ed7953"
             ],
             [
              0.7777777777777778,
              "#fb9f3a"
             ],
             [
              0.8888888888888888,
              "#fdca26"
             ],
             [
              1.0,
              "#f0f921"
             ]
            ],
            "type": "heatmapgl"
           }
          ],
          "histogram": [
           {
            "marker": {
             "colorbar": {
              "outlinewidth": 0,
              "ticks": ""
             }
            },
            "type": "histogram"
           }
          ],
          "histogram2d": [
           {
            "colorbar": {
             "outlinewidth": 0,
             "ticks": ""
            },
            "colorscale": [
             [
              0.0,
              "#0d0887"
             ],
             [
              0.1111111111111111,
              "#46039f"
             ],
             [
              0.2222222222222222,
              "#7201a8"
             ],
             [
              0.3333333333333333,
              "#9c179e"
             ],
             [
              0.4444444444444444,
              "#bd3786"
             ],
             [
              0.5555555555555556,
              "#d8576b"
             ],
             [
              0.6666666666666666,
              "#ed7953"
             ],
             [
              0.7777777777777778,
              "#fb9f3a"
             ],
             [
              0.8888888888888888,
              "#fdca26"
             ],
             [
              1.0,
              "#f0f921"
             ]
            ],
            "type": "histogram2d"
           }
          ],
          "histogram2dcontour": [
           {
            "colorbar": {
             "outlinewidth": 0,
             "ticks": ""
            },
            "colorscale": [
             [
              0.0,
              "#0d0887"
             ],
             [
              0.1111111111111111,
              "#46039f"
             ],
             [
              0.2222222222222222,
              "#7201a8"
             ],
             [
              0.3333333333333333,
              "#9c179e"
             ],
             [
              0.4444444444444444,
              "#bd3786"
             ],
             [
              0.5555555555555556,
              "#d8576b"
             ],
             [
              0.6666666666666666,
              "#ed7953"
             ],
             [
              0.7777777777777778,
              "#fb9f3a"
             ],
             [
              0.8888888888888888,
              "#fdca26"
             ],
             [
              1.0,
              "#f0f921"
             ]
            ],
            "type": "histogram2dcontour"
           }
          ],
          "mesh3d": [
           {
            "colorbar": {
             "outlinewidth": 0,
             "ticks": ""
            },
            "type": "mesh3d"
           }
          ],
          "parcoords": [
           {
            "line": {
             "colorbar": {
              "outlinewidth": 0,
              "ticks": ""
             }
            },
            "type": "parcoords"
           }
          ],
          "pie": [
           {
            "automargin": true,
            "type": "pie"
           }
          ],
          "scatter": [
           {
            "marker": {
             "colorbar": {
              "outlinewidth": 0,
              "ticks": ""
             }
            },
            "type": "scatter"
           }
          ],
          "scatter3d": [
           {
            "line": {
             "colorbar": {
              "outlinewidth": 0,
              "ticks": ""
             }
            },
            "marker": {
             "colorbar": {
              "outlinewidth": 0,
              "ticks": ""
             }
            },
            "type": "scatter3d"
           }
          ],
          "scattercarpet": [
           {
            "marker": {
             "colorbar": {
              "outlinewidth": 0,
              "ticks": ""
             }
            },
            "type": "scattercarpet"
           }
          ],
          "scattergeo": [
           {
            "marker": {
             "colorbar": {
              "outlinewidth": 0,
              "ticks": ""
             }
            },
            "type": "scattergeo"
           }
          ],
          "scattergl": [
           {
            "marker": {
             "colorbar": {
              "outlinewidth": 0,
              "ticks": ""
             }
            },
            "type": "scattergl"
           }
          ],
          "scattermapbox": [
           {
            "marker": {
             "colorbar": {
              "outlinewidth": 0,
              "ticks": ""
             }
            },
            "type": "scattermapbox"
           }
          ],
          "scatterpolar": [
           {
            "marker": {
             "colorbar": {
              "outlinewidth": 0,
              "ticks": ""
             }
            },
            "type": "scatterpolar"
           }
          ],
          "scatterpolargl": [
           {
            "marker": {
             "colorbar": {
              "outlinewidth": 0,
              "ticks": ""
             }
            },
            "type": "scatterpolargl"
           }
          ],
          "scatterternary": [
           {
            "marker": {
             "colorbar": {
              "outlinewidth": 0,
              "ticks": ""
             }
            },
            "type": "scatterternary"
           }
          ],
          "surface": [
           {
            "colorbar": {
             "outlinewidth": 0,
             "ticks": ""
            },
            "colorscale": [
             [
              0.0,
              "#0d0887"
             ],
             [
              0.1111111111111111,
              "#46039f"
             ],
             [
              0.2222222222222222,
              "#7201a8"
             ],
             [
              0.3333333333333333,
              "#9c179e"
             ],
             [
              0.4444444444444444,
              "#bd3786"
             ],
             [
              0.5555555555555556,
              "#d8576b"
             ],
             [
              0.6666666666666666,
              "#ed7953"
             ],
             [
              0.7777777777777778,
              "#fb9f3a"
             ],
             [
              0.8888888888888888,
              "#fdca26"
             ],
             [
              1.0,
              "#f0f921"
             ]
            ],
            "type": "surface"
           }
          ],
          "table": [
           {
            "cells": {
             "fill": {
              "color": "#EBF0F8"
             },
             "line": {
              "color": "white"
             }
            },
            "header": {
             "fill": {
              "color": "#C8D4E3"
             },
             "line": {
              "color": "white"
             }
            },
            "type": "table"
           }
          ]
         },
         "layout": {
          "annotationdefaults": {
           "arrowcolor": "#2a3f5f",
           "arrowhead": 0,
           "arrowwidth": 1
          },
          "coloraxis": {
           "colorbar": {
            "outlinewidth": 0,
            "ticks": ""
           }
          },
          "colorscale": {
           "diverging": [
            [
             0,
             "#8e0152"
            ],
            [
             0.1,
             "#c51b7d"
            ],
            [
             0.2,
             "#de77ae"
            ],
            [
             0.3,
             "#f1b6da"
            ],
            [
             0.4,
             "#fde0ef"
            ],
            [
             0.5,
             "#f7f7f7"
            ],
            [
             0.6,
             "#e6f5d0"
            ],
            [
             0.7,
             "#b8e186"
            ],
            [
             0.8,
             "#7fbc41"
            ],
            [
             0.9,
             "#4d9221"
            ],
            [
             1,
             "#276419"
            ]
           ],
           "sequential": [
            [
             0.0,
             "#0d0887"
            ],
            [
             0.1111111111111111,
             "#46039f"
            ],
            [
             0.2222222222222222,
             "#7201a8"
            ],
            [
             0.3333333333333333,
             "#9c179e"
            ],
            [
             0.4444444444444444,
             "#bd3786"
            ],
            [
             0.5555555555555556,
             "#d8576b"
            ],
            [
             0.6666666666666666,
             "#ed7953"
            ],
            [
             0.7777777777777778,
             "#fb9f3a"
            ],
            [
             0.8888888888888888,
             "#fdca26"
            ],
            [
             1.0,
             "#f0f921"
            ]
           ],
           "sequentialminus": [
            [
             0.0,
             "#0d0887"
            ],
            [
             0.1111111111111111,
             "#46039f"
            ],
            [
             0.2222222222222222,
             "#7201a8"
            ],
            [
             0.3333333333333333,
             "#9c179e"
            ],
            [
             0.4444444444444444,
             "#bd3786"
            ],
            [
             0.5555555555555556,
             "#d8576b"
            ],
            [
             0.6666666666666666,
             "#ed7953"
            ],
            [
             0.7777777777777778,
             "#fb9f3a"
            ],
            [
             0.8888888888888888,
             "#fdca26"
            ],
            [
             1.0,
             "#f0f921"
            ]
           ]
          },
          "colorway": [
           "#636efa",
           "#EF553B",
           "#00cc96",
           "#ab63fa",
           "#FFA15A",
           "#19d3f3",
           "#FF6692",
           "#B6E880",
           "#FF97FF",
           "#FECB52"
          ],
          "font": {
           "color": "#2a3f5f"
          },
          "geo": {
           "bgcolor": "white",
           "lakecolor": "white",
           "landcolor": "#E5ECF6",
           "showlakes": true,
           "showland": true,
           "subunitcolor": "white"
          },
          "hoverlabel": {
           "align": "left"
          },
          "hovermode": "closest",
          "mapbox": {
           "style": "light"
          },
          "paper_bgcolor": "white",
          "plot_bgcolor": "#E5ECF6",
          "polar": {
           "angularaxis": {
            "gridcolor": "white",
            "linecolor": "white",
            "ticks": ""
           },
           "bgcolor": "#E5ECF6",
           "radialaxis": {
            "gridcolor": "white",
            "linecolor": "white",
            "ticks": ""
           }
          },
          "scene": {
           "xaxis": {
            "backgroundcolor": "#E5ECF6",
            "gridcolor": "white",
            "gridwidth": 2,
            "linecolor": "white",
            "showbackground": true,
            "ticks": "",
            "zerolinecolor": "white"
           },
           "yaxis": {
            "backgroundcolor": "#E5ECF6",
            "gridcolor": "white",
            "gridwidth": 2,
            "linecolor": "white",
            "showbackground": true,
            "ticks": "",
            "zerolinecolor": "white"
           },
           "zaxis": {
            "backgroundcolor": "#E5ECF6",
            "gridcolor": "white",
            "gridwidth": 2,
            "linecolor": "white",
            "showbackground": true,
            "ticks": "",
            "zerolinecolor": "white"
           }
          },
          "shapedefaults": {
           "line": {
            "color": "#2a3f5f"
           }
          },
          "ternary": {
           "aaxis": {
            "gridcolor": "white",
            "linecolor": "white",
            "ticks": ""
           },
           "baxis": {
            "gridcolor": "white",
            "linecolor": "white",
            "ticks": ""
           },
           "bgcolor": "#E5ECF6",
           "caxis": {
            "gridcolor": "white",
            "linecolor": "white",
            "ticks": ""
           }
          },
          "title": {
           "x": 0.05
          },
          "xaxis": {
           "automargin": true,
           "gridcolor": "white",
           "linecolor": "white",
           "ticks": "",
           "title": {
            "standoff": 15
           },
           "zerolinecolor": "white",
           "zerolinewidth": 2
          },
          "yaxis": {
           "automargin": true,
           "gridcolor": "white",
           "linecolor": "white",
           "ticks": "",
           "title": {
            "standoff": 15
           },
           "zerolinecolor": "white",
           "zerolinewidth": 2
          }
         }
        }
       }
      },
      "text/html": "<div>\n        \n        \n            <div id=\"6e819c8b-8c3c-412a-aace-1c6f5e3f69e1\" class=\"plotly-graph-div\" style=\"height:525px; width:100%;\"></div>\n            <script type=\"text/javascript\">\n                require([\"plotly\"], function(Plotly) {\n                    window.PLOTLYENV=window.PLOTLYENV || {};\n                    \n                if (document.getElementById(\"6e819c8b-8c3c-412a-aace-1c6f5e3f69e1\")) {\n                    Plotly.newPlot(\n                        '6e819c8b-8c3c-412a-aace-1c6f5e3f69e1',\n                        [{\"mode\": \"lines\", \"name\": \"hypo1\", \"type\": \"scatter\", \"x\": [0.0, 1.0101010101010102, 2.0202020202020203, 3.0303030303030303, 4.040404040404041, 5.050505050505051, 6.0606060606060606, 7.070707070707071, 8.080808080808081, 9.090909090909092, 10.101010101010102, 11.111111111111112, 12.121212121212121, 13.131313131313131, 14.141414141414142, 15.151515151515152, 16.161616161616163, 17.171717171717173, 18.181818181818183, 19.191919191919194, 20.202020202020204, 21.212121212121215, 22.222222222222225, 23.232323232323235, 24.242424242424242, 25.252525252525253, 26.262626262626263, 27.272727272727273, 28.282828282828284, 29.292929292929294, 30.303030303030305, 31.313131313131315, 32.323232323232325, 33.333333333333336, 34.343434343434346, 35.35353535353536, 36.36363636363637, 37.37373737373738, 38.38383838383839, 39.3939393939394, 40.40404040404041, 41.41414141414142, 42.42424242424243, 43.43434343434344, 44.44444444444445, 45.45454545454546, 46.46464646464647, 47.47474747474748, 48.484848484848484, 49.494949494949495, 50.505050505050505, 51.515151515151516, 52.525252525252526, 53.535353535353536, 54.54545454545455, 55.55555555555556, 56.56565656565657, 57.57575757575758, 58.58585858585859, 59.5959595959596, 60.60606060606061, 61.61616161616162, 62.62626262626263, 63.63636363636364, 64.64646464646465, 65.65656565656566, 66.66666666666667, 67.67676767676768, 68.68686868686869, 69.6969696969697, 70.70707070707071, 71.71717171717172, 72.72727272727273, 73.73737373737374, 74.74747474747475, 75.75757575757576, 76.76767676767678, 77.77777777777779, 78.7878787878788, 79.7979797979798, 80.80808080808082, 81.81818181818183, 82.82828282828284, 83.83838383838385, 84.84848484848486, 85.85858585858587, 86.86868686868688, 87.87878787878789, 88.8888888888889, 89.89898989898991, 90.90909090909092, 91.91919191919193, 92.92929292929294, 93.93939393939395, 94.94949494949496, 95.95959595959597, 96.96969696969697, 97.97979797979798, 98.98989898989899, 100.0], \"y\": [10.0, 12.02020202020202, 14.040404040404042, 16.060606060606062, 18.080808080808083, 20.101010101010104, 22.12121212121212, 24.141414141414142, 26.161616161616163, 28.181818181818183, 30.202020202020204, 32.22222222222223, 34.24242424242424, 36.26262626262626, 38.282828282828284, 40.303030303030305, 42.323232323232325, 44.343434343434346, 46.36363636363637, 48.38383838383839, 50.40404040404041, 52.42424242424243, 54.44444444444445, 56.46464646464647, 58.484848484848484, 60.505050505050505, 62.525252525252526, 64.54545454545455, 66.56565656565657, 68.58585858585859, 70.60606060606061, 72.62626262626263, 74.64646464646465, 76.66666666666667, 78.68686868686869, 80.70707070707071, 82.72727272727273, 84.74747474747475, 86.76767676767678, 88.7878787878788, 90.80808080808082, 92.82828282828284, 94.84848484848486, 96.86868686868688, 98.8888888888889, 100.90909090909092, 102.92929292929294, 104.94949494949496, 106.96969696969697, 108.98989898989899, 111.01010101010101, 113.03030303030303, 115.05050505050505, 117.07070707070707, 119.0909090909091, 121.11111111111111, 123.13131313131314, 125.15151515151516, 127.17171717171718, 129.1919191919192, 131.21212121212122, 133.23232323232324, 135.25252525252526, 137.27272727272728, 139.2929292929293, 141.31313131313132, 143.33333333333334, 145.35353535353536, 147.37373737373738, 149.3939393939394, 151.41414141414143, 153.43434343434345, 155.45454545454547, 157.4747474747475, 159.4949494949495, 161.51515151515153, 163.53535353535355, 165.55555555555557, 167.5757575757576, 169.5959595959596, 171.61616161616163, 173.63636363636365, 175.65656565656568, 177.6767676767677, 179.69696969696972, 181.71717171717174, 183.73737373737376, 185.75757575757578, 187.7777777777778, 189.79797979797982, 191.81818181818184, 193.83838383838386, 195.85858585858588, 197.8787878787879, 199.89898989898992, 201.91919191919195, 203.93939393939394, 205.95959595959596, 207.97979797979798, 210.0]}, {\"mode\": \"lines\", \"name\": \"hypo2\", \"type\": \"scatter\", \"x\": [0.0, 1.0101010101010102, 2.0202020202020203, 3.0303030303030303, 4.040404040404041, 5.050505050505051, 6.0606060606060606, 7.070707070707071, 8.080808080808081, 9.090909090909092, 10.101010101010102, 11.111111111111112, 12.121212121212121, 13.131313131313131, 14.141414141414142, 15.151515151515152, 16.161616161616163, 17.171717171717173, 18.181818181818183, 19.191919191919194, 20.202020202020204, 21.212121212121215, 22.222222222222225, 23.232323232323235, 24.242424242424242, 25.252525252525253, 26.262626262626263, 27.272727272727273, 28.282828282828284, 29.292929292929294, 30.303030303030305, 31.313131313131315, 32.323232323232325, 33.333333333333336, 34.343434343434346, 35.35353535353536, 36.36363636363637, 37.37373737373738, 38.38383838383839, 39.3939393939394, 40.40404040404041, 41.41414141414142, 42.42424242424243, 43.43434343434344, 44.44444444444445, 45.45454545454546, 46.46464646464647, 47.47474747474748, 48.484848484848484, 49.494949494949495, 50.505050505050505, 51.515151515151516, 52.525252525252526, 53.535353535353536, 54.54545454545455, 55.55555555555556, 56.56565656565657, 57.57575757575758, 58.58585858585859, 59.5959595959596, 60.60606060606061, 61.61616161616162, 62.62626262626263, 63.63636363636364, 64.64646464646465, 65.65656565656566, 66.66666666666667, 67.67676767676768, 68.68686868686869, 69.6969696969697, 70.70707070707071, 71.71717171717172, 72.72727272727273, 73.73737373737374, 74.74747474747475, 75.75757575757576, 76.76767676767678, 77.77777777777779, 78.7878787878788, 79.7979797979798, 80.80808080808082, 81.81818181818183, 82.82828282828284, 83.83838383838385, 84.84848484848486, 85.85858585858587, 86.86868686868688, 87.87878787878789, 88.8888888888889, 89.89898989898991, 90.90909090909092, 91.91919191919193, 92.92929292929294, 93.93939393939395, 94.94949494949496, 95.95959595959597, 96.96969696969697, 97.97979797979798, 98.98989898989899, 100.0], \"y\": [100.0, 100.0, 100.0, 100.0, 100.0, 100.0, 100.0, 100.0, 100.0, 100.0, 100.0, 100.0, 100.0, 100.0, 100.0, 100.0, 100.0, 100.0, 100.0, 100.0, 100.0, 100.0, 100.0, 100.0, 100.0, 100.0, 100.0, 100.0, 100.0, 100.0, 100.0, 100.0, 100.0, 100.0, 100.0, 100.0, 100.0, 100.0, 100.0, 100.0, 100.0, 100.0, 100.0, 100.0, 100.0, 100.0, 100.0, 100.0, 100.0, 100.0, 100.0, 100.0, 100.0, 100.0, 100.0, 100.0, 100.0, 100.0, 100.0, 100.0, 100.0, 100.0, 100.0, 100.0, 100.0, 100.0, 100.0, 100.0, 100.0, 100.0, 100.0, 100.0, 100.0, 100.0, 100.0, 100.0, 100.0, 100.0, 100.0, 100.0, 100.0, 100.0, 100.0, 100.0, 100.0, 100.0, 100.0, 100.0, 100.0, 100.0, 100.0, 100.0, 100.0, 100.0, 100.0, 100.0, 100.0, 100.0, 100.0, 100.0]}],\n                        {\"template\": {\"data\": {\"bar\": [{\"error_x\": {\"color\": \"#2a3f5f\"}, \"error_y\": {\"color\": \"#2a3f5f\"}, \"marker\": {\"line\": {\"color\": \"#E5ECF6\", \"width\": 0.5}}, \"type\": \"bar\"}], \"barpolar\": [{\"marker\": {\"line\": {\"color\": \"#E5ECF6\", \"width\": 0.5}}, \"type\": \"barpolar\"}], \"carpet\": [{\"aaxis\": {\"endlinecolor\": \"#2a3f5f\", \"gridcolor\": \"white\", \"linecolor\": \"white\", \"minorgridcolor\": \"white\", \"startlinecolor\": \"#2a3f5f\"}, \"baxis\": {\"endlinecolor\": \"#2a3f5f\", \"gridcolor\": \"white\", \"linecolor\": \"white\", \"minorgridcolor\": \"white\", \"startlinecolor\": \"#2a3f5f\"}, \"type\": \"carpet\"}], \"choropleth\": [{\"colorbar\": {\"outlinewidth\": 0, \"ticks\": \"\"}, \"type\": \"choropleth\"}], \"contour\": [{\"colorbar\": {\"outlinewidth\": 0, \"ticks\": \"\"}, \"colorscale\": [[0.0, \"#0d0887\"], [0.1111111111111111, \"#46039f\"], [0.2222222222222222, \"#7201a8\"], [0.3333333333333333, \"#9c179e\"], [0.4444444444444444, \"#bd3786\"], [0.5555555555555556, \"#d8576b\"], [0.6666666666666666, \"#ed7953\"], [0.7777777777777778, \"#fb9f3a\"], [0.8888888888888888, \"#fdca26\"], [1.0, \"#f0f921\"]], \"type\": \"contour\"}], \"contourcarpet\": [{\"colorbar\": {\"outlinewidth\": 0, \"ticks\": \"\"}, \"type\": \"contourcarpet\"}], \"heatmap\": [{\"colorbar\": {\"outlinewidth\": 0, \"ticks\": \"\"}, \"colorscale\": [[0.0, \"#0d0887\"], [0.1111111111111111, \"#46039f\"], [0.2222222222222222, \"#7201a8\"], [0.3333333333333333, \"#9c179e\"], [0.4444444444444444, \"#bd3786\"], [0.5555555555555556, \"#d8576b\"], [0.6666666666666666, \"#ed7953\"], [0.7777777777777778, \"#fb9f3a\"], [0.8888888888888888, \"#fdca26\"], [1.0, \"#f0f921\"]], \"type\": \"heatmap\"}], \"heatmapgl\": [{\"colorbar\": {\"outlinewidth\": 0, \"ticks\": \"\"}, \"colorscale\": [[0.0, \"#0d0887\"], [0.1111111111111111, \"#46039f\"], [0.2222222222222222, \"#7201a8\"], [0.3333333333333333, \"#9c179e\"], [0.4444444444444444, \"#bd3786\"], [0.5555555555555556, \"#d8576b\"], [0.6666666666666666, \"#ed7953\"], [0.7777777777777778, \"#fb9f3a\"], [0.8888888888888888, \"#fdca26\"], [1.0, \"#f0f921\"]], \"type\": \"heatmapgl\"}], \"histogram\": [{\"marker\": {\"colorbar\": {\"outlinewidth\": 0, \"ticks\": \"\"}}, \"type\": \"histogram\"}], \"histogram2d\": [{\"colorbar\": {\"outlinewidth\": 0, \"ticks\": \"\"}, \"colorscale\": [[0.0, \"#0d0887\"], [0.1111111111111111, \"#46039f\"], [0.2222222222222222, \"#7201a8\"], [0.3333333333333333, \"#9c179e\"], [0.4444444444444444, \"#bd3786\"], [0.5555555555555556, \"#d8576b\"], [0.6666666666666666, \"#ed7953\"], [0.7777777777777778, \"#fb9f3a\"], [0.8888888888888888, \"#fdca26\"], [1.0, \"#f0f921\"]], \"type\": \"histogram2d\"}], \"histogram2dcontour\": [{\"colorbar\": {\"outlinewidth\": 0, \"ticks\": \"\"}, \"colorscale\": [[0.0, \"#0d0887\"], [0.1111111111111111, \"#46039f\"], [0.2222222222222222, \"#7201a8\"], [0.3333333333333333, \"#9c179e\"], [0.4444444444444444, \"#bd3786\"], [0.5555555555555556, \"#d8576b\"], [0.6666666666666666, \"#ed7953\"], [0.7777777777777778, \"#fb9f3a\"], [0.8888888888888888, \"#fdca26\"], [1.0, \"#f0f921\"]], \"type\": \"histogram2dcontour\"}], \"mesh3d\": [{\"colorbar\": {\"outlinewidth\": 0, \"ticks\": \"\"}, \"type\": \"mesh3d\"}], \"parcoords\": [{\"line\": {\"colorbar\": {\"outlinewidth\": 0, \"ticks\": \"\"}}, \"type\": \"parcoords\"}], \"pie\": [{\"automargin\": true, \"type\": \"pie\"}], \"scatter\": [{\"marker\": {\"colorbar\": {\"outlinewidth\": 0, \"ticks\": \"\"}}, \"type\": \"scatter\"}], \"scatter3d\": [{\"line\": {\"colorbar\": {\"outlinewidth\": 0, \"ticks\": \"\"}}, \"marker\": {\"colorbar\": {\"outlinewidth\": 0, \"ticks\": \"\"}}, \"type\": \"scatter3d\"}], \"scattercarpet\": [{\"marker\": {\"colorbar\": {\"outlinewidth\": 0, \"ticks\": \"\"}}, \"type\": \"scattercarpet\"}], \"scattergeo\": [{\"marker\": {\"colorbar\": {\"outlinewidth\": 0, \"ticks\": \"\"}}, \"type\": \"scattergeo\"}], \"scattergl\": [{\"marker\": {\"colorbar\": {\"outlinewidth\": 0, \"ticks\": \"\"}}, \"type\": \"scattergl\"}], \"scattermapbox\": [{\"marker\": {\"colorbar\": {\"outlinewidth\": 0, \"ticks\": \"\"}}, \"type\": \"scattermapbox\"}], \"scatterpolar\": [{\"marker\": {\"colorbar\": {\"outlinewidth\": 0, \"ticks\": \"\"}}, \"type\": \"scatterpolar\"}], \"scatterpolargl\": [{\"marker\": {\"colorbar\": {\"outlinewidth\": 0, \"ticks\": \"\"}}, \"type\": \"scatterpolargl\"}], \"scatterternary\": [{\"marker\": {\"colorbar\": {\"outlinewidth\": 0, \"ticks\": \"\"}}, \"type\": \"scatterternary\"}], \"surface\": [{\"colorbar\": {\"outlinewidth\": 0, \"ticks\": \"\"}, \"colorscale\": [[0.0, \"#0d0887\"], [0.1111111111111111, \"#46039f\"], [0.2222222222222222, \"#7201a8\"], [0.3333333333333333, \"#9c179e\"], [0.4444444444444444, \"#bd3786\"], [0.5555555555555556, \"#d8576b\"], [0.6666666666666666, \"#ed7953\"], [0.7777777777777778, \"#fb9f3a\"], [0.8888888888888888, \"#fdca26\"], [1.0, \"#f0f921\"]], \"type\": \"surface\"}], \"table\": [{\"cells\": {\"fill\": {\"color\": \"#EBF0F8\"}, \"line\": {\"color\": \"white\"}}, \"header\": {\"fill\": {\"color\": \"#C8D4E3\"}, \"line\": {\"color\": \"white\"}}, \"type\": \"table\"}]}, \"layout\": {\"annotationdefaults\": {\"arrowcolor\": \"#2a3f5f\", \"arrowhead\": 0, \"arrowwidth\": 1}, \"coloraxis\": {\"colorbar\": {\"outlinewidth\": 0, \"ticks\": \"\"}}, \"colorscale\": {\"diverging\": [[0, \"#8e0152\"], [0.1, \"#c51b7d\"], [0.2, \"#de77ae\"], [0.3, \"#f1b6da\"], [0.4, \"#fde0ef\"], [0.5, \"#f7f7f7\"], [0.6, \"#e6f5d0\"], [0.7, \"#b8e186\"], [0.8, \"#7fbc41\"], [0.9, \"#4d9221\"], [1, \"#276419\"]], \"sequential\": [[0.0, \"#0d0887\"], [0.1111111111111111, \"#46039f\"], [0.2222222222222222, \"#7201a8\"], [0.3333333333333333, \"#9c179e\"], [0.4444444444444444, \"#bd3786\"], [0.5555555555555556, \"#d8576b\"], [0.6666666666666666, \"#ed7953\"], [0.7777777777777778, \"#fb9f3a\"], [0.8888888888888888, \"#fdca26\"], [1.0, \"#f0f921\"]], \"sequentialminus\": [[0.0, \"#0d0887\"], [0.1111111111111111, \"#46039f\"], [0.2222222222222222, \"#7201a8\"], [0.3333333333333333, \"#9c179e\"], [0.4444444444444444, \"#bd3786\"], [0.5555555555555556, \"#d8576b\"], [0.6666666666666666, \"#ed7953\"], [0.7777777777777778, \"#fb9f3a\"], [0.8888888888888888, \"#fdca26\"], [1.0, \"#f0f921\"]]}, \"colorway\": [\"#636efa\", \"#EF553B\", \"#00cc96\", \"#ab63fa\", \"#FFA15A\", \"#19d3f3\", \"#FF6692\", \"#B6E880\", \"#FF97FF\", \"#FECB52\"], \"font\": {\"color\": \"#2a3f5f\"}, \"geo\": {\"bgcolor\": \"white\", \"lakecolor\": \"white\", \"landcolor\": \"#E5ECF6\", \"showlakes\": true, \"showland\": true, \"subunitcolor\": \"white\"}, \"hoverlabel\": {\"align\": \"left\"}, \"hovermode\": \"closest\", \"mapbox\": {\"style\": \"light\"}, \"paper_bgcolor\": \"white\", \"plot_bgcolor\": \"#E5ECF6\", \"polar\": {\"angularaxis\": {\"gridcolor\": \"white\", \"linecolor\": \"white\", \"ticks\": \"\"}, \"bgcolor\": \"#E5ECF6\", \"radialaxis\": {\"gridcolor\": \"white\", \"linecolor\": \"white\", \"ticks\": \"\"}}, \"scene\": {\"xaxis\": {\"backgroundcolor\": \"#E5ECF6\", \"gridcolor\": \"white\", \"gridwidth\": 2, \"linecolor\": \"white\", \"showbackground\": true, \"ticks\": \"\", \"zerolinecolor\": \"white\"}, \"yaxis\": {\"backgroundcolor\": \"#E5ECF6\", \"gridcolor\": \"white\", \"gridwidth\": 2, \"linecolor\": \"white\", \"showbackground\": true, \"ticks\": \"\", \"zerolinecolor\": \"white\"}, \"zaxis\": {\"backgroundcolor\": \"#E5ECF6\", \"gridcolor\": \"white\", \"gridwidth\": 2, \"linecolor\": \"white\", \"showbackground\": true, \"ticks\": \"\", \"zerolinecolor\": \"white\"}}, \"shapedefaults\": {\"line\": {\"color\": \"#2a3f5f\"}}, \"ternary\": {\"aaxis\": {\"gridcolor\": \"white\", \"linecolor\": \"white\", \"ticks\": \"\"}, \"baxis\": {\"gridcolor\": \"white\", \"linecolor\": \"white\", \"ticks\": \"\"}, \"bgcolor\": \"#E5ECF6\", \"caxis\": {\"gridcolor\": \"white\", \"linecolor\": \"white\", \"ticks\": \"\"}}, \"title\": {\"x\": 0.05}, \"xaxis\": {\"automargin\": true, \"gridcolor\": \"white\", \"linecolor\": \"white\", \"ticks\": \"\", \"title\": {\"standoff\": 15}, \"zerolinecolor\": \"white\", \"zerolinewidth\": 2}, \"yaxis\": {\"automargin\": true, \"gridcolor\": \"white\", \"linecolor\": \"white\", \"ticks\": \"\", \"title\": {\"standoff\": 15}, \"zerolinecolor\": \"white\", \"zerolinewidth\": 2}}}},\n                        {\"responsive\": true}\n                    ).then(function(){\n                            \nvar gd = document.getElementById('6e819c8b-8c3c-412a-aace-1c6f5e3f69e1');\nvar x = new MutationObserver(function (mutations, observer) {{\n        var display = window.getComputedStyle(gd).display;\n        if (!display || display === 'none') {{\n            console.log([gd, 'removed!']);\n            Plotly.purge(gd);\n            observer.disconnect();\n        }}\n}});\n\n// Listen for the removal of the full notebook cells\nvar notebookContainer = gd.closest('#notebook-container');\nif (notebookContainer) {{\n    x.observe(notebookContainer, {childList: true});\n}}\n\n// Listen for the clearing of the current output cell\nvar outputEl = gd.closest('.output');\nif (outputEl) {{\n    x.observe(outputEl, {childList: true});\n}}\n\n                        })\n                };\n                });\n            </script>\n        </div>"
     },
     "metadata": {},
     "output_type": "display_data"
    }
   ],
   "source": [
    "class Hypothesis:\n",
    "    theta0 = None\n",
    "    theta1 = None\n",
    "\n",
    "    def __init__(self, theta0, theta1):\n",
    "        self.theta0 = theta0\n",
    "        self.theta1 = theta1\n",
    "\n",
    "    def compute(self, x):\n",
    "        return self.theta0 + (self.theta1 * x)\n",
    "\n",
    "hypo1 = Hypothesis(10, 2)\n",
    "hypo2 = Hypothesis(100, 0)\n",
    "\n",
    "graph = Graph()\n",
    "graph.plotFunction(hypo1.compute, \"hypo1\")\n",
    "graph.plotFunction(hypo2.compute, \"hypo2\")\n",
    "graph.render()"
   ]
  },
  {
   "cell_type": "markdown",
   "metadata": {
    "pycharm": {
     "name": "#%% md\n"
    }
   },
   "source": [
    "## Cost function\n",
    "\n",
    "In order to find the best values for $\\theta_0$ and $\\theta_1$ we define the cost function as follow (m being the number of training example in our dataset):\n",
    "\n",
    "$ J_{(\\theta_0, \\theta_1)} = \\frac{1}{2m} \\sum_{i=1}^m (h_\\theta(x^{(i)}) - y^i)^2 $\n",
    "\n",
    "And the problem become minimizing this function over $\\theta_0$ and $\\theta_1$.\n",
    "\n",
    "Let's unpack the formula:\n",
    "\n",
    "- $ h_\\theta(x^{(i)}) $\n",
    "\n",
    "Is our hypothesis function as defined last chapter applied to the $i^{th}$ example of our training data.\n",
    "\n",
    "- $ (h_\\theta(x^{(i)}) - y^i)^2 $\n",
    "\n",
    "Is the \"squared error function\".\n",
    "\n",
    "It represents the \"error\", how much apart from the right result $y^i$ the result of our hypothesis $h_\\theta(x^{(i)})$ is.\n",
    "\n",
    "And we take the square of that error supposedly because the square function accentuate the difference between large and small error (an \"error\" of 5 becomes 25 while an error of 2 become 4 making the error of 5 appear even worse)\n",
    "\n",
    "The \"squared error function\" is one example of an error function, there are others. But the squared error function is one that is generally quite good.\n",
    "\n",
    "- $ \\frac{1}{2m} \\sum_{i=1}^m (h_\\theta(x^{(i)}) - y^i)^2 $\n",
    "\n",
    "This $\\frac{1}{2m} \\sum_{i=1}^m$ part is the notation to take the average. (Sum of each elements divided by the number of elements)\n",
    "\n",
    "So the formulas is taking the average of the error of our hypothesis over our entire dataset."
   ]
  },
  {
   "cell_type": "code",
   "execution_count": 30,
   "metadata": {
    "pycharm": {
     "name": "#%%\n"
    }
   },
   "outputs": [
    {
     "data": {
      "application/vnd.plotly.v1+json": {
       "config": {
        "linkText": "Export to plot.ly",
        "plotlyServerURL": "https://plot.ly",
        "showLink": false
       },
       "data": [
        {
         "mode": "markers",
         "name": "dataset",
         "type": "scatter",
         "x": [
          0,
          1,
          2,
          3
         ],
         "y": [
          10,
          14,
          18,
          22
         ]
        },
        {
         "mode": "lines",
         "name": "hypo1",
         "type": "scatter",
         "x": [
          0.0,
          1.3333333333333333,
          2.6666666666666665,
          4.0
         ],
         "y": [
          10.0,
          15.333333333333332,
          20.666666666666664,
          26.0
         ]
        },
        {
         "mode": "lines",
         "name": "hypo2",
         "type": "scatter",
         "x": [
          0.0,
          1.3333333333333333,
          2.6666666666666665,
          4.0
         ],
         "y": [
          20.0,
          21.333333333333332,
          22.666666666666668,
          24.0
         ]
        }
       ],
       "layout": {
        "template": {
         "data": {
          "bar": [
           {
            "error_x": {
             "color": "#2a3f5f"
            },
            "error_y": {
             "color": "#2a3f5f"
            },
            "marker": {
             "line": {
              "color": "#E5ECF6",
              "width": 0.5
             }
            },
            "type": "bar"
           }
          ],
          "barpolar": [
           {
            "marker": {
             "line": {
              "color": "#E5ECF6",
              "width": 0.5
             }
            },
            "type": "barpolar"
           }
          ],
          "carpet": [
           {
            "aaxis": {
             "endlinecolor": "#2a3f5f",
             "gridcolor": "white",
             "linecolor": "white",
             "minorgridcolor": "white",
             "startlinecolor": "#2a3f5f"
            },
            "baxis": {
             "endlinecolor": "#2a3f5f",
             "gridcolor": "white",
             "linecolor": "white",
             "minorgridcolor": "white",
             "startlinecolor": "#2a3f5f"
            },
            "type": "carpet"
           }
          ],
          "choropleth": [
           {
            "colorbar": {
             "outlinewidth": 0,
             "ticks": ""
            },
            "type": "choropleth"
           }
          ],
          "contour": [
           {
            "colorbar": {
             "outlinewidth": 0,
             "ticks": ""
            },
            "colorscale": [
             [
              0.0,
              "#0d0887"
             ],
             [
              0.1111111111111111,
              "#46039f"
             ],
             [
              0.2222222222222222,
              "#7201a8"
             ],
             [
              0.3333333333333333,
              "#9c179e"
             ],
             [
              0.4444444444444444,
              "#bd3786"
             ],
             [
              0.5555555555555556,
              "#d8576b"
             ],
             [
              0.6666666666666666,
              "#ed7953"
             ],
             [
              0.7777777777777778,
              "#fb9f3a"
             ],
             [
              0.8888888888888888,
              "#fdca26"
             ],
             [
              1.0,
              "#f0f921"
             ]
            ],
            "type": "contour"
           }
          ],
          "contourcarpet": [
           {
            "colorbar": {
             "outlinewidth": 0,
             "ticks": ""
            },
            "type": "contourcarpet"
           }
          ],
          "heatmap": [
           {
            "colorbar": {
             "outlinewidth": 0,
             "ticks": ""
            },
            "colorscale": [
             [
              0.0,
              "#0d0887"
             ],
             [
              0.1111111111111111,
              "#46039f"
             ],
             [
              0.2222222222222222,
              "#7201a8"
             ],
             [
              0.3333333333333333,
              "#9c179e"
             ],
             [
              0.4444444444444444,
              "#bd3786"
             ],
             [
              0.5555555555555556,
              "#d8576b"
             ],
             [
              0.6666666666666666,
              "#ed7953"
             ],
             [
              0.7777777777777778,
              "#fb9f3a"
             ],
             [
              0.8888888888888888,
              "#fdca26"
             ],
             [
              1.0,
              "#f0f921"
             ]
            ],
            "type": "heatmap"
           }
          ],
          "heatmapgl": [
           {
            "colorbar": {
             "outlinewidth": 0,
             "ticks": ""
            },
            "colorscale": [
             [
              0.0,
              "#0d0887"
             ],
             [
              0.1111111111111111,
              "#46039f"
             ],
             [
              0.2222222222222222,
              "#7201a8"
             ],
             [
              0.3333333333333333,
              "#9c179e"
             ],
             [
              0.4444444444444444,
              "#bd3786"
             ],
             [
              0.5555555555555556,
              "#d8576b"
             ],
             [
              0.6666666666666666,
              "#ed7953"
             ],
             [
              0.7777777777777778,
              "#fb9f3a"
             ],
             [
              0.8888888888888888,
              "#fdca26"
             ],
             [
              1.0,
              "#f0f921"
             ]
            ],
            "type": "heatmapgl"
           }
          ],
          "histogram": [
           {
            "marker": {
             "colorbar": {
              "outlinewidth": 0,
              "ticks": ""
             }
            },
            "type": "histogram"
           }
          ],
          "histogram2d": [
           {
            "colorbar": {
             "outlinewidth": 0,
             "ticks": ""
            },
            "colorscale": [
             [
              0.0,
              "#0d0887"
             ],
             [
              0.1111111111111111,
              "#46039f"
             ],
             [
              0.2222222222222222,
              "#7201a8"
             ],
             [
              0.3333333333333333,
              "#9c179e"
             ],
             [
              0.4444444444444444,
              "#bd3786"
             ],
             [
              0.5555555555555556,
              "#d8576b"
             ],
             [
              0.6666666666666666,
              "#ed7953"
             ],
             [
              0.7777777777777778,
              "#fb9f3a"
             ],
             [
              0.8888888888888888,
              "#fdca26"
             ],
             [
              1.0,
              "#f0f921"
             ]
            ],
            "type": "histogram2d"
           }
          ],
          "histogram2dcontour": [
           {
            "colorbar": {
             "outlinewidth": 0,
             "ticks": ""
            },
            "colorscale": [
             [
              0.0,
              "#0d0887"
             ],
             [
              0.1111111111111111,
              "#46039f"
             ],
             [
              0.2222222222222222,
              "#7201a8"
             ],
             [
              0.3333333333333333,
              "#9c179e"
             ],
             [
              0.4444444444444444,
              "#bd3786"
             ],
             [
              0.5555555555555556,
              "#d8576b"
             ],
             [
              0.6666666666666666,
              "#ed7953"
             ],
             [
              0.7777777777777778,
              "#fb9f3a"
             ],
             [
              0.8888888888888888,
              "#fdca26"
             ],
             [
              1.0,
              "#f0f921"
             ]
            ],
            "type": "histogram2dcontour"
           }
          ],
          "mesh3d": [
           {
            "colorbar": {
             "outlinewidth": 0,
             "ticks": ""
            },
            "type": "mesh3d"
           }
          ],
          "parcoords": [
           {
            "line": {
             "colorbar": {
              "outlinewidth": 0,
              "ticks": ""
             }
            },
            "type": "parcoords"
           }
          ],
          "pie": [
           {
            "automargin": true,
            "type": "pie"
           }
          ],
          "scatter": [
           {
            "marker": {
             "colorbar": {
              "outlinewidth": 0,
              "ticks": ""
             }
            },
            "type": "scatter"
           }
          ],
          "scatter3d": [
           {
            "line": {
             "colorbar": {
              "outlinewidth": 0,
              "ticks": ""
             }
            },
            "marker": {
             "colorbar": {
              "outlinewidth": 0,
              "ticks": ""
             }
            },
            "type": "scatter3d"
           }
          ],
          "scattercarpet": [
           {
            "marker": {
             "colorbar": {
              "outlinewidth": 0,
              "ticks": ""
             }
            },
            "type": "scattercarpet"
           }
          ],
          "scattergeo": [
           {
            "marker": {
             "colorbar": {
              "outlinewidth": 0,
              "ticks": ""
             }
            },
            "type": "scattergeo"
           }
          ],
          "scattergl": [
           {
            "marker": {
             "colorbar": {
              "outlinewidth": 0,
              "ticks": ""
             }
            },
            "type": "scattergl"
           }
          ],
          "scattermapbox": [
           {
            "marker": {
             "colorbar": {
              "outlinewidth": 0,
              "ticks": ""
             }
            },
            "type": "scattermapbox"
           }
          ],
          "scatterpolar": [
           {
            "marker": {
             "colorbar": {
              "outlinewidth": 0,
              "ticks": ""
             }
            },
            "type": "scatterpolar"
           }
          ],
          "scatterpolargl": [
           {
            "marker": {
             "colorbar": {
              "outlinewidth": 0,
              "ticks": ""
             }
            },
            "type": "scatterpolargl"
           }
          ],
          "scatterternary": [
           {
            "marker": {
             "colorbar": {
              "outlinewidth": 0,
              "ticks": ""
             }
            },
            "type": "scatterternary"
           }
          ],
          "surface": [
           {
            "colorbar": {
             "outlinewidth": 0,
             "ticks": ""
            },
            "colorscale": [
             [
              0.0,
              "#0d0887"
             ],
             [
              0.1111111111111111,
              "#46039f"
             ],
             [
              0.2222222222222222,
              "#7201a8"
             ],
             [
              0.3333333333333333,
              "#9c179e"
             ],
             [
              0.4444444444444444,
              "#bd3786"
             ],
             [
              0.5555555555555556,
              "#d8576b"
             ],
             [
              0.6666666666666666,
              "#ed7953"
             ],
             [
              0.7777777777777778,
              "#fb9f3a"
             ],
             [
              0.8888888888888888,
              "#fdca26"
             ],
             [
              1.0,
              "#f0f921"
             ]
            ],
            "type": "surface"
           }
          ],
          "table": [
           {
            "cells": {
             "fill": {
              "color": "#EBF0F8"
             },
             "line": {
              "color": "white"
             }
            },
            "header": {
             "fill": {
              "color": "#C8D4E3"
             },
             "line": {
              "color": "white"
             }
            },
            "type": "table"
           }
          ]
         },
         "layout": {
          "annotationdefaults": {
           "arrowcolor": "#2a3f5f",
           "arrowhead": 0,
           "arrowwidth": 1
          },
          "coloraxis": {
           "colorbar": {
            "outlinewidth": 0,
            "ticks": ""
           }
          },
          "colorscale": {
           "diverging": [
            [
             0,
             "#8e0152"
            ],
            [
             0.1,
             "#c51b7d"
            ],
            [
             0.2,
             "#de77ae"
            ],
            [
             0.3,
             "#f1b6da"
            ],
            [
             0.4,
             "#fde0ef"
            ],
            [
             0.5,
             "#f7f7f7"
            ],
            [
             0.6,
             "#e6f5d0"
            ],
            [
             0.7,
             "#b8e186"
            ],
            [
             0.8,
             "#7fbc41"
            ],
            [
             0.9,
             "#4d9221"
            ],
            [
             1,
             "#276419"
            ]
           ],
           "sequential": [
            [
             0.0,
             "#0d0887"
            ],
            [
             0.1111111111111111,
             "#46039f"
            ],
            [
             0.2222222222222222,
             "#7201a8"
            ],
            [
             0.3333333333333333,
             "#9c179e"
            ],
            [
             0.4444444444444444,
             "#bd3786"
            ],
            [
             0.5555555555555556,
             "#d8576b"
            ],
            [
             0.6666666666666666,
             "#ed7953"
            ],
            [
             0.7777777777777778,
             "#fb9f3a"
            ],
            [
             0.8888888888888888,
             "#fdca26"
            ],
            [
             1.0,
             "#f0f921"
            ]
           ],
           "sequentialminus": [
            [
             0.0,
             "#0d0887"
            ],
            [
             0.1111111111111111,
             "#46039f"
            ],
            [
             0.2222222222222222,
             "#7201a8"
            ],
            [
             0.3333333333333333,
             "#9c179e"
            ],
            [
             0.4444444444444444,
             "#bd3786"
            ],
            [
             0.5555555555555556,
             "#d8576b"
            ],
            [
             0.6666666666666666,
             "#ed7953"
            ],
            [
             0.7777777777777778,
             "#fb9f3a"
            ],
            [
             0.8888888888888888,
             "#fdca26"
            ],
            [
             1.0,
             "#f0f921"
            ]
           ]
          },
          "colorway": [
           "#636efa",
           "#EF553B",
           "#00cc96",
           "#ab63fa",
           "#FFA15A",
           "#19d3f3",
           "#FF6692",
           "#B6E880",
           "#FF97FF",
           "#FECB52"
          ],
          "font": {
           "color": "#2a3f5f"
          },
          "geo": {
           "bgcolor": "white",
           "lakecolor": "white",
           "landcolor": "#E5ECF6",
           "showlakes": true,
           "showland": true,
           "subunitcolor": "white"
          },
          "hoverlabel": {
           "align": "left"
          },
          "hovermode": "closest",
          "mapbox": {
           "style": "light"
          },
          "paper_bgcolor": "white",
          "plot_bgcolor": "#E5ECF6",
          "polar": {
           "angularaxis": {
            "gridcolor": "white",
            "linecolor": "white",
            "ticks": ""
           },
           "bgcolor": "#E5ECF6",
           "radialaxis": {
            "gridcolor": "white",
            "linecolor": "white",
            "ticks": ""
           }
          },
          "scene": {
           "xaxis": {
            "backgroundcolor": "#E5ECF6",
            "gridcolor": "white",
            "gridwidth": 2,
            "linecolor": "white",
            "showbackground": true,
            "ticks": "",
            "zerolinecolor": "white"
           },
           "yaxis": {
            "backgroundcolor": "#E5ECF6",
            "gridcolor": "white",
            "gridwidth": 2,
            "linecolor": "white",
            "showbackground": true,
            "ticks": "",
            "zerolinecolor": "white"
           },
           "zaxis": {
            "backgroundcolor": "#E5ECF6",
            "gridcolor": "white",
            "gridwidth": 2,
            "linecolor": "white",
            "showbackground": true,
            "ticks": "",
            "zerolinecolor": "white"
           }
          },
          "shapedefaults": {
           "line": {
            "color": "#2a3f5f"
           }
          },
          "ternary": {
           "aaxis": {
            "gridcolor": "white",
            "linecolor": "white",
            "ticks": ""
           },
           "baxis": {
            "gridcolor": "white",
            "linecolor": "white",
            "ticks": ""
           },
           "bgcolor": "#E5ECF6",
           "caxis": {
            "gridcolor": "white",
            "linecolor": "white",
            "ticks": ""
           }
          },
          "title": {
           "x": 0.05
          },
          "xaxis": {
           "automargin": true,
           "gridcolor": "white",
           "linecolor": "white",
           "ticks": "",
           "title": {
            "standoff": 15
           },
           "zerolinecolor": "white",
           "zerolinewidth": 2
          },
          "yaxis": {
           "automargin": true,
           "gridcolor": "white",
           "linecolor": "white",
           "ticks": "",
           "title": {
            "standoff": 15
           },
           "zerolinecolor": "white",
           "zerolinewidth": 2
          }
         }
        }
       }
      },
      "text/html": "<div>\n        \n        \n            <div id=\"a94122a6-c88d-45a8-9ab0-c1ab8bb5795f\" class=\"plotly-graph-div\" style=\"height:525px; width:100%;\"></div>\n            <script type=\"text/javascript\">\n                require([\"plotly\"], function(Plotly) {\n                    window.PLOTLYENV=window.PLOTLYENV || {};\n                    \n                if (document.getElementById(\"a94122a6-c88d-45a8-9ab0-c1ab8bb5795f\")) {\n                    Plotly.newPlot(\n                        'a94122a6-c88d-45a8-9ab0-c1ab8bb5795f',\n                        [{\"mode\": \"markers\", \"name\": \"dataset\", \"type\": \"scatter\", \"x\": [0, 1, 2, 3], \"y\": [10, 14, 18, 22]}, {\"mode\": \"lines\", \"name\": \"hypo1\", \"type\": \"scatter\", \"x\": [0.0, 1.3333333333333333, 2.6666666666666665, 4.0], \"y\": [10.0, 15.333333333333332, 20.666666666666664, 26.0]}, {\"mode\": \"lines\", \"name\": \"hypo2\", \"type\": \"scatter\", \"x\": [0.0, 1.3333333333333333, 2.6666666666666665, 4.0], \"y\": [20.0, 21.333333333333332, 22.666666666666668, 24.0]}],\n                        {\"template\": {\"data\": {\"bar\": [{\"error_x\": {\"color\": \"#2a3f5f\"}, \"error_y\": {\"color\": \"#2a3f5f\"}, \"marker\": {\"line\": {\"color\": \"#E5ECF6\", \"width\": 0.5}}, \"type\": \"bar\"}], \"barpolar\": [{\"marker\": {\"line\": {\"color\": \"#E5ECF6\", \"width\": 0.5}}, \"type\": \"barpolar\"}], \"carpet\": [{\"aaxis\": {\"endlinecolor\": \"#2a3f5f\", \"gridcolor\": \"white\", \"linecolor\": \"white\", \"minorgridcolor\": \"white\", \"startlinecolor\": \"#2a3f5f\"}, \"baxis\": {\"endlinecolor\": \"#2a3f5f\", \"gridcolor\": \"white\", \"linecolor\": \"white\", \"minorgridcolor\": \"white\", \"startlinecolor\": \"#2a3f5f\"}, \"type\": \"carpet\"}], \"choropleth\": [{\"colorbar\": {\"outlinewidth\": 0, \"ticks\": \"\"}, \"type\": \"choropleth\"}], \"contour\": [{\"colorbar\": {\"outlinewidth\": 0, \"ticks\": \"\"}, \"colorscale\": [[0.0, \"#0d0887\"], [0.1111111111111111, \"#46039f\"], [0.2222222222222222, \"#7201a8\"], [0.3333333333333333, \"#9c179e\"], [0.4444444444444444, \"#bd3786\"], [0.5555555555555556, \"#d8576b\"], [0.6666666666666666, \"#ed7953\"], [0.7777777777777778, \"#fb9f3a\"], [0.8888888888888888, \"#fdca26\"], [1.0, \"#f0f921\"]], \"type\": \"contour\"}], \"contourcarpet\": [{\"colorbar\": {\"outlinewidth\": 0, \"ticks\": \"\"}, \"type\": \"contourcarpet\"}], \"heatmap\": [{\"colorbar\": {\"outlinewidth\": 0, \"ticks\": \"\"}, \"colorscale\": [[0.0, \"#0d0887\"], [0.1111111111111111, \"#46039f\"], [0.2222222222222222, \"#7201a8\"], [0.3333333333333333, \"#9c179e\"], [0.4444444444444444, \"#bd3786\"], [0.5555555555555556, \"#d8576b\"], [0.6666666666666666, \"#ed7953\"], [0.7777777777777778, \"#fb9f3a\"], [0.8888888888888888, \"#fdca26\"], [1.0, \"#f0f921\"]], \"type\": \"heatmap\"}], \"heatmapgl\": [{\"colorbar\": {\"outlinewidth\": 0, \"ticks\": \"\"}, \"colorscale\": [[0.0, \"#0d0887\"], [0.1111111111111111, \"#46039f\"], [0.2222222222222222, \"#7201a8\"], [0.3333333333333333, \"#9c179e\"], [0.4444444444444444, \"#bd3786\"], [0.5555555555555556, \"#d8576b\"], [0.6666666666666666, \"#ed7953\"], [0.7777777777777778, \"#fb9f3a\"], [0.8888888888888888, \"#fdca26\"], [1.0, \"#f0f921\"]], \"type\": \"heatmapgl\"}], \"histogram\": [{\"marker\": {\"colorbar\": {\"outlinewidth\": 0, \"ticks\": \"\"}}, \"type\": \"histogram\"}], \"histogram2d\": [{\"colorbar\": {\"outlinewidth\": 0, \"ticks\": \"\"}, \"colorscale\": [[0.0, \"#0d0887\"], [0.1111111111111111, \"#46039f\"], [0.2222222222222222, \"#7201a8\"], [0.3333333333333333, \"#9c179e\"], [0.4444444444444444, \"#bd3786\"], [0.5555555555555556, \"#d8576b\"], [0.6666666666666666, \"#ed7953\"], [0.7777777777777778, \"#fb9f3a\"], [0.8888888888888888, \"#fdca26\"], [1.0, \"#f0f921\"]], \"type\": \"histogram2d\"}], \"histogram2dcontour\": [{\"colorbar\": {\"outlinewidth\": 0, \"ticks\": \"\"}, \"colorscale\": [[0.0, \"#0d0887\"], [0.1111111111111111, \"#46039f\"], [0.2222222222222222, \"#7201a8\"], [0.3333333333333333, \"#9c179e\"], [0.4444444444444444, \"#bd3786\"], [0.5555555555555556, \"#d8576b\"], [0.6666666666666666, \"#ed7953\"], [0.7777777777777778, \"#fb9f3a\"], [0.8888888888888888, \"#fdca26\"], [1.0, \"#f0f921\"]], \"type\": \"histogram2dcontour\"}], \"mesh3d\": [{\"colorbar\": {\"outlinewidth\": 0, \"ticks\": \"\"}, \"type\": \"mesh3d\"}], \"parcoords\": [{\"line\": {\"colorbar\": {\"outlinewidth\": 0, \"ticks\": \"\"}}, \"type\": \"parcoords\"}], \"pie\": [{\"automargin\": true, \"type\": \"pie\"}], \"scatter\": [{\"marker\": {\"colorbar\": {\"outlinewidth\": 0, \"ticks\": \"\"}}, \"type\": \"scatter\"}], \"scatter3d\": [{\"line\": {\"colorbar\": {\"outlinewidth\": 0, \"ticks\": \"\"}}, \"marker\": {\"colorbar\": {\"outlinewidth\": 0, \"ticks\": \"\"}}, \"type\": \"scatter3d\"}], \"scattercarpet\": [{\"marker\": {\"colorbar\": {\"outlinewidth\": 0, \"ticks\": \"\"}}, \"type\": \"scattercarpet\"}], \"scattergeo\": [{\"marker\": {\"colorbar\": {\"outlinewidth\": 0, \"ticks\": \"\"}}, \"type\": \"scattergeo\"}], \"scattergl\": [{\"marker\": {\"colorbar\": {\"outlinewidth\": 0, \"ticks\": \"\"}}, \"type\": \"scattergl\"}], \"scattermapbox\": [{\"marker\": {\"colorbar\": {\"outlinewidth\": 0, \"ticks\": \"\"}}, \"type\": \"scattermapbox\"}], \"scatterpolar\": [{\"marker\": {\"colorbar\": {\"outlinewidth\": 0, \"ticks\": \"\"}}, \"type\": \"scatterpolar\"}], \"scatterpolargl\": [{\"marker\": {\"colorbar\": {\"outlinewidth\": 0, \"ticks\": \"\"}}, \"type\": \"scatterpolargl\"}], \"scatterternary\": [{\"marker\": {\"colorbar\": {\"outlinewidth\": 0, \"ticks\": \"\"}}, \"type\": \"scatterternary\"}], \"surface\": [{\"colorbar\": {\"outlinewidth\": 0, \"ticks\": \"\"}, \"colorscale\": [[0.0, \"#0d0887\"], [0.1111111111111111, \"#46039f\"], [0.2222222222222222, \"#7201a8\"], [0.3333333333333333, \"#9c179e\"], [0.4444444444444444, \"#bd3786\"], [0.5555555555555556, \"#d8576b\"], [0.6666666666666666, \"#ed7953\"], [0.7777777777777778, \"#fb9f3a\"], [0.8888888888888888, \"#fdca26\"], [1.0, \"#f0f921\"]], \"type\": \"surface\"}], \"table\": [{\"cells\": {\"fill\": {\"color\": \"#EBF0F8\"}, \"line\": {\"color\": \"white\"}}, \"header\": {\"fill\": {\"color\": \"#C8D4E3\"}, \"line\": {\"color\": \"white\"}}, \"type\": \"table\"}]}, \"layout\": {\"annotationdefaults\": {\"arrowcolor\": \"#2a3f5f\", \"arrowhead\": 0, \"arrowwidth\": 1}, \"coloraxis\": {\"colorbar\": {\"outlinewidth\": 0, \"ticks\": \"\"}}, \"colorscale\": {\"diverging\": [[0, \"#8e0152\"], [0.1, \"#c51b7d\"], [0.2, \"#de77ae\"], [0.3, \"#f1b6da\"], [0.4, \"#fde0ef\"], [0.5, \"#f7f7f7\"], [0.6, \"#e6f5d0\"], [0.7, \"#b8e186\"], [0.8, \"#7fbc41\"], [0.9, \"#4d9221\"], [1, \"#276419\"]], \"sequential\": [[0.0, \"#0d0887\"], [0.1111111111111111, \"#46039f\"], [0.2222222222222222, \"#7201a8\"], [0.3333333333333333, \"#9c179e\"], [0.4444444444444444, \"#bd3786\"], [0.5555555555555556, \"#d8576b\"], [0.6666666666666666, \"#ed7953\"], [0.7777777777777778, \"#fb9f3a\"], [0.8888888888888888, \"#fdca26\"], [1.0, \"#f0f921\"]], \"sequentialminus\": [[0.0, \"#0d0887\"], [0.1111111111111111, \"#46039f\"], [0.2222222222222222, \"#7201a8\"], [0.3333333333333333, \"#9c179e\"], [0.4444444444444444, \"#bd3786\"], [0.5555555555555556, \"#d8576b\"], [0.6666666666666666, \"#ed7953\"], [0.7777777777777778, \"#fb9f3a\"], [0.8888888888888888, \"#fdca26\"], [1.0, \"#f0f921\"]]}, \"colorway\": [\"#636efa\", \"#EF553B\", \"#00cc96\", \"#ab63fa\", \"#FFA15A\", \"#19d3f3\", \"#FF6692\", \"#B6E880\", \"#FF97FF\", \"#FECB52\"], \"font\": {\"color\": \"#2a3f5f\"}, \"geo\": {\"bgcolor\": \"white\", \"lakecolor\": \"white\", \"landcolor\": \"#E5ECF6\", \"showlakes\": true, \"showland\": true, \"subunitcolor\": \"white\"}, \"hoverlabel\": {\"align\": \"left\"}, \"hovermode\": \"closest\", \"mapbox\": {\"style\": \"light\"}, \"paper_bgcolor\": \"white\", \"plot_bgcolor\": \"#E5ECF6\", \"polar\": {\"angularaxis\": {\"gridcolor\": \"white\", \"linecolor\": \"white\", \"ticks\": \"\"}, \"bgcolor\": \"#E5ECF6\", \"radialaxis\": {\"gridcolor\": \"white\", \"linecolor\": \"white\", \"ticks\": \"\"}}, \"scene\": {\"xaxis\": {\"backgroundcolor\": \"#E5ECF6\", \"gridcolor\": \"white\", \"gridwidth\": 2, \"linecolor\": \"white\", \"showbackground\": true, \"ticks\": \"\", \"zerolinecolor\": \"white\"}, \"yaxis\": {\"backgroundcolor\": \"#E5ECF6\", \"gridcolor\": \"white\", \"gridwidth\": 2, \"linecolor\": \"white\", \"showbackground\": true, \"ticks\": \"\", \"zerolinecolor\": \"white\"}, \"zaxis\": {\"backgroundcolor\": \"#E5ECF6\", \"gridcolor\": \"white\", \"gridwidth\": 2, \"linecolor\": \"white\", \"showbackground\": true, \"ticks\": \"\", \"zerolinecolor\": \"white\"}}, \"shapedefaults\": {\"line\": {\"color\": \"#2a3f5f\"}}, \"ternary\": {\"aaxis\": {\"gridcolor\": \"white\", \"linecolor\": \"white\", \"ticks\": \"\"}, \"baxis\": {\"gridcolor\": \"white\", \"linecolor\": \"white\", \"ticks\": \"\"}, \"bgcolor\": \"#E5ECF6\", \"caxis\": {\"gridcolor\": \"white\", \"linecolor\": \"white\", \"ticks\": \"\"}}, \"title\": {\"x\": 0.05}, \"xaxis\": {\"automargin\": true, \"gridcolor\": \"white\", \"linecolor\": \"white\", \"ticks\": \"\", \"title\": {\"standoff\": 15}, \"zerolinecolor\": \"white\", \"zerolinewidth\": 2}, \"yaxis\": {\"automargin\": true, \"gridcolor\": \"white\", \"linecolor\": \"white\", \"ticks\": \"\", \"title\": {\"standoff\": 15}, \"zerolinecolor\": \"white\", \"zerolinewidth\": 2}}}},\n                        {\"responsive\": true}\n                    ).then(function(){\n                            \nvar gd = document.getElementById('a94122a6-c88d-45a8-9ab0-c1ab8bb5795f');\nvar x = new MutationObserver(function (mutations, observer) {{\n        var display = window.getComputedStyle(gd).display;\n        if (!display || display === 'none') {{\n            console.log([gd, 'removed!']);\n            Plotly.purge(gd);\n            observer.disconnect();\n        }}\n}});\n\n// Listen for the removal of the full notebook cells\nvar notebookContainer = gd.closest('#notebook-container');\nif (notebookContainer) {{\n    x.observe(notebookContainer, {childList: true});\n}}\n\n// Listen for the clearing of the current output cell\nvar outputEl = gd.closest('.output');\nif (outputEl) {{\n    x.observe(outputEl, {childList: true});\n}}\n\n                        })\n                };\n                });\n            </script>\n        </div>"
     },
     "metadata": {},
     "output_type": "display_data"
    },
    {
     "name": "stdout",
     "output_type": "stream",
     "text": [
      "Right hypothesis, so squared error should be:  0.0  == 0\n",
      "Wrong hypothesis, so squared error should be:  8.25  != 0\n"
     ]
    }
   ],
   "source": [
    "class CostFunction:\n",
    "    dataset = None\n",
    "    hypothesis = None\n",
    "\n",
    "    def __init__(self, dataset, hypothesis = None):\n",
    "        self.dataset = dataset\n",
    "        self.hypothesis = hypothesis\n",
    "\n",
    "    def squaredError(self, theta0 = None, theta1 = None):\n",
    "        # If theta0 and theta1 are given, we ignore the registered\n",
    "        # hypothesis and create a new one with the given parameters\n",
    "        if theta0 != None and theta1 != None:\n",
    "            hypothesis = Hypothesis(theta0, theta1)\n",
    "        else:\n",
    "            hypothesis = self.hypothesis\n",
    "\n",
    "        m = len(self.dataset[0])\n",
    "\n",
    "        squaredErrorSum = 0\n",
    "\n",
    "        for i in range(1, m):\n",
    "            hx = hypothesis.compute(self.dataset[0][i])\n",
    "            y = self.dataset[1][i]\n",
    "            squaredErrorSum += (hx - y) ** 2\n",
    "\n",
    "        return (1 / (2 * m)) * squaredErrorSum\n",
    "\n",
    "\n",
    "dataset = [\n",
    "    [ 0,  1,  2,  3],\n",
    "    [10, 14, 18, 22]\n",
    "]\n",
    "\n",
    "hypo1 = Hypothesis(10, 4)\n",
    "cf1 = CostFunction(dataset, hypo1)\n",
    "\n",
    "hypo2 = Hypothesis(20, 1)\n",
    "cf2 = CostFunction(dataset,hypo2)\n",
    "\n",
    "# Graph that plots the dataset and the 2 hypothesis to show that hypo1 is the right hypothesis\n",
    "graph = Graph()\n",
    "graph.plot2DArray(dataset, \"dataset\")\n",
    "graph.plotFunction(hypo1.compute, \"hypo1\", 0, 4, 4)\n",
    "graph.plotFunction(hypo2.compute, \"hypo2\", 0, 4, 4)\n",
    "graph.render()\n",
    "\n",
    "print(\n",
    "    \"Right hypothesis, so squared error should be: \",\n",
    "    cf1.squaredError(),\n",
    "    \" == 0\"\n",
    ")\n",
    "\n",
    "print(\n",
    "    \"Wrong hypothesis, so squared error should be: \",\n",
    "    cf2.squaredError(),\n",
    "    \" != 0\"\n",
    ")"
   ]
  },
  {
   "cell_type": "markdown",
   "metadata": {
    "pycharm": {
     "name": "#%% md\n"
    }
   },
   "source": [
    "### Side note: 3D plot of the cost function\n",
    "\n",
    "We can plot the cost function in 3D where $x$ and $y$ are the $\\theta_0$ and $\\theta_1$ parameters and z is the value of our cost function for those parameters.\n",
    "\n",
    "This gives us a bow shaped surface in which our goal is to find the minima."
   ]
  },
  {
   "cell_type": "code",
   "execution_count": 31,
   "outputs": [
    {
     "data": {
      "application/vnd.plotly.v1+json": {
       "config": {
        "linkText": "Export to plot.ly",
        "plotlyServerURL": "https://plot.ly",
        "showLink": false
       },
       "data": [
        {
         "mode": "markers",
         "name": "minima",
         "type": "scatter3d",
         "x": [
          10
         ],
         "y": [
          4
         ],
         "z": [
          0
         ]
        },
        {
         "type": "surface",
         "x": [
          -11.0,
          -9.933333333333334,
          -8.866666666666667,
          -7.8,
          -6.733333333333333,
          -5.666666666666667,
          -4.6,
          -3.533333333333333,
          -2.466666666666667,
          -1.4000000000000004,
          -0.3333333333333339,
          0.7333333333333325,
          1.8000000000000007,
          2.866666666666667,
          3.9333333333333336,
          5.0,
          6.066666666666666,
          7.133333333333333,
          8.2,
          9.266666666666666,
          10.333333333333332,
          11.399999999999999,
          12.466666666666665,
          13.533333333333331,
          14.600000000000001,
          15.666666666666668,
          16.733333333333334,
          17.8,
          18.866666666666667,
          19.933333333333334,
          21.0
         ],
         "y": [
          -11.0,
          -9.933333333333334,
          -8.866666666666667,
          -7.8,
          -6.733333333333333,
          -5.666666666666667,
          -4.6,
          -3.533333333333333,
          -2.466666666666667,
          -1.4000000000000004,
          -0.3333333333333339,
          0.7333333333333325,
          1.8000000000000007,
          2.866666666666667,
          3.9333333333333336,
          5.0,
          6.066666666666666,
          7.133333333333333,
          8.2,
          9.266666666666666,
          10.333333333333332,
          11.399999999999999,
          12.466666666666665,
          13.533333333333331,
          14.600000000000001,
          15.666666666666668,
          16.733333333333334,
          17.8,
          18.866666666666667,
          19.933333333333334,
          21.0
         ],
         "z": [
          [
           1031.625,
           991.2516666666669,
           951.7316666666666,
           913.0649999999998,
           875.2516666666668,
           838.2916666666667,
           802.1850000000001,
           766.9316666666666,
           732.5316666666668,
           698.9849999999999,
           666.2916666666667,
           634.4516666666666,
           603.465,
           573.3316666666667,
           544.0516666666666,
           515.625,
           488.05166666666673,
           461.3316666666667,
           435.465,
           410.4516666666667,
           386.29166666666674,
           362.985,
           340.53166666666664,
           318.93166666666673,
           298.18499999999995,
           278.29166666666663,
           259.25166666666667,
           241.065,
           223.73166666666665,
           207.2516666666666,
           191.625
          ],
          [
           944.0161111111111,
           905.3494444444444,
           867.5361111111113,
           830.5761111111112,
           794.4694444444444,
           759.2161111111111,
           724.8161111111111,
           691.2694444444444,
           658.5761111111111,
           626.7361111111111,
           595.7494444444444,
           565.6161111111112,
           536.3361111111111,
           507.9094444444445,
           480.33611111111117,
           453.6161111111111,
           427.74944444444446,
           402.7361111111112,
           378.5761111111111,
           355.2694444444444,
           332.8161111111111,
           311.2161111111112,
           290.4694444444445,
           270.5761111111111,
           251.53611111111113,
           233.34944444444443,
           216.01611111111106,
           199.5361111111111,
           183.90944444444446,
           169.13611111111112,
           155.21611111111113
          ],
          [
           860.3894444444445,
           823.4294444444445,
           787.3227777777779,
           752.0694444444445,
           717.6694444444445,
           684.1227777777779,
           651.4294444444445,
           619.5894444444444,
           588.6027777777779,
           558.4694444444444,
           529.1894444444445,
           500.7627777777778,
           473.18944444444446,
           446.4694444444445,
           420.6027777777779,
           395.58944444444444,
           371.4294444444444,
           348.1227777777778,
           325.66944444444454,
           304.06944444444446,
           283.3227777777778,
           263.42944444444447,
           244.3894444444445,
           226.20277777777784,
           208.86944444444444,
           192.38944444444445,
           176.76277777777779,
           161.98944444444444,
           148.06944444444446,
           135.0027777777778,
           122.78944444444446
          ],
          [
           780.745,
           745.4916666666666,
           711.0916666666667,
           677.5450000000001,
           644.8516666666667,
           613.0116666666667,
           582.0250000000001,
           551.8916666666667,
           522.6116666666667,
           494.18499999999995,
           466.61166666666674,
           439.89166666666665,
           414.0249999999999,
           389.01166666666666,
           364.8516666666667,
           341.54499999999996,
           319.0916666666666,
           297.4916666666667,
           276.745,
           256.8516666666667,
           237.81166666666664,
           219.62500000000003,
           202.29166666666669,
           185.8116666666667,
           170.18499999999997,
           155.41166666666663,
           141.49166666666665,
           128.42499999999998,
           116.21166666666666,
           104.85166666666666,
           94.34499999999998
          ],
          [
           705.0827777777779,
           671.536111111111,
           638.8427777777778,
           607.0027777777777,
           576.0161111111113,
           545.8827777777778,
           516.6027777777776,
           488.17611111111114,
           460.60277777777776,
           433.8827777777778,
           408.01611111111106,
           383.0027777777778,
           358.84277777777777,
           335.53611111111104,
           313.0827777777778,
           291.4827777777778,
           270.7361111111111,
           250.84277777777777,
           231.80277777777778,
           213.61611111111117,
           196.28277777777777,
           179.8027777777778,
           164.1761111111111,
           149.4027777777778,
           135.48277777777776,
           122.41611111111109,
           110.20277777777777,
           98.84277777777777,
           88.3361111111111,
           78.68277777777777,
           69.88277777777778
          ],
          [
           633.4027777777778,
           601.5627777777779,
           570.5761111111112,
           540.4427777777778,
           511.16277777777776,
           482.7361111111112,
           455.1627777777778,
           428.4427777777778,
           402.5761111111111,
           377.5627777777778,
           353.4027777777778,
           330.0961111111111,
           307.6427777777778,
           286.0427777777778,
           265.2961111111111,
           245.4027777777778,
           226.3627777777778,
           208.17611111111114,
           190.8427777777778,
           174.3627777777778,
           158.73611111111111,
           143.96277777777783,
           130.0427777777778,
           116.97611111111114,
           104.76277777777776,
           93.40277777777777,
           82.89611111111111,
           73.24277777777777,
           64.44277777777778,
           56.49611111111111,
           49.40277777777778
          ],
          [
           565.705,
           535.5716666666667,
           506.29166666666663,
           477.86499999999995,
           450.2916666666667,
           423.5716666666667,
           397.7049999999999,
           372.6916666666666,
           348.53166666666664,
           325.225,
           302.77166666666665,
           281.1716666666666,
           260.42499999999995,
           240.53166666666664,
           221.49166666666667,
           203.30499999999998,
           185.97166666666666,
           169.49166666666665,
           153.865,
           139.09166666666667,
           125.17166666666668,
           112.10499999999999,
           99.8916666666667,
           88.53166666666667,
           78.02499999999998,
           68.37166666666666,
           59.571666666666644,
           51.625,
           44.531666666666645,
           38.29166666666666,
           32.904999999999994
          ],
          [
           501.9894444444444,
           473.5627777777778,
           445.98944444444453,
           419.26944444444445,
           393.4027777777777,
           368.38944444444445,
           344.2294444444444,
           320.9227777777778,
           298.4694444444444,
           276.86944444444447,
           256.1227777777778,
           236.22944444444445,
           217.18944444444443,
           199.00277777777777,
           181.66944444444442,
           165.18944444444446,
           149.56277777777777,
           134.78944444444446,
           120.86944444444444,
           107.8027777777778,
           95.58944444444444,
           84.22944444444447,
           73.72277777777778,
           64.06944444444446,
           55.26944444444444,
           47.32277777777776,
           40.22944444444444,
           33.98944444444444,
           28.602777777777774,
           24.069444444444443,
           20.389444444444447
          ],
          [
           442.2561111111112,
           415.53611111111115,
           389.6694444444445,
           364.65611111111116,
           340.4961111111111,
           317.1894444444444,
           294.7361111111111,
           273.1361111111112,
           252.38944444444445,
           232.49611111111113,
           213.4561111111111,
           195.26944444444447,
           177.93611111111113,
           161.4561111111111,
           145.82944444444445,
           131.05611111111108,
           117.13611111111113,
           104.06944444444444,
           91.85611111111113,
           80.4961111111111,
           69.98944444444447,
           60.336111111111116,
           51.53611111111114,
           43.58944444444446,
           36.496111111111105,
           30.256111111111107,
           24.86944444444444,
           20.336111111111112,
           16.65611111111111,
           13.829444444444446,
           11.85611111111111
          ],
          [
           386.505,
           361.4916666666667,
           337.3316666666667,
           314.025,
           291.5716666666667,
           269.9716666666667,
           249.225,
           229.33166666666668,
           210.29166666666669,
           192.10500000000002,
           174.77166666666668,
           158.29166666666669,
           142.665,
           127.89166666666668,
           113.97166666666666,
           100.90500000000002,
           88.69166666666666,
           77.33166666666668,
           66.82500000000002,
           57.171666666666695,
           48.371666666666684,
           40.42500000000002,
           33.33166666666668,
           27.091666666666683,
           21.705,
           17.171666666666667,
           13.491666666666667,
           10.665,
           8.69166666666667,
           7.571666666666665,
           7.305000000000006
          ],
          [
           334.73611111111114,
           311.42944444444447,
           288.97611111111115,
           267.37611111111113,
           246.62944444444446,
           226.73611111111114,
           207.69611111111112,
           189.50944444444445,
           172.17611111111114,
           155.69611111111115,
           140.06944444444446,
           125.29611111111114,
           111.37611111111113,
           98.30944444444444,
           86.09611111111113,
           74.73611111111111,
           64.22944444444447,
           54.576111111111125,
           45.77611111111113,
           37.82944444444446,
           30.73611111111113,
           24.496111111111126,
           19.10944444444446,
           14.576111111111125,
           10.89611111111111,
           8.069444444444446,
           6.096111111111111,
           4.976111111111116,
           4.709444444444442,
           5.296111111111116,
           6.736111111111107
          ],
          [
           286.9494444444445,
           265.34944444444443,
           244.60277777777782,
           224.70944444444444,
           205.66944444444448,
           187.4827777777778,
           170.14944444444444,
           153.66944444444448,
           138.04277777777781,
           123.26944444444447,
           109.34944444444446,
           96.2827777777778,
           84.06944444444446,
           72.70944444444447,
           62.2027777777778,
           52.54944444444446,
           43.749444444444464,
           35.80277777777779,
           28.709444444444465,
           22.469444444444463,
           17.082777777777792,
           12.549444444444458,
           8.869444444444456,
           6.042777777777787,
           4.069444444444448,
           2.949444444444443,
           2.682777777777782,
           3.269444444444442,
           4.709444444444447,
           7.002777777777773,
           10.149444444444443
          ],
          [
           243.14499999999998,
           223.25166666666667,
           204.21166666666664,
           186.02499999999998,
           168.69166666666666,
           152.21166666666667,
           136.58499999999998,
           121.81166666666664,
           107.89166666666665,
           94.82499999999999,
           82.61166666666665,
           71.25166666666667,
           60.744999999999976,
           51.09166666666665,
           42.29166666666665,
           34.344999999999985,
           27.251666666666658,
           21.01166666666666,
           15.624999999999996,
           11.091666666666663,
           7.411666666666665,
           4.584999999999999,
           2.6116666666666664,
           1.4916666666666663,
           1.2249999999999996,
           1.8116666666666683,
           3.25166666666667,
           5.545000000000004,
           8.691666666666672,
           12.691666666666672,
           17.545000000000005
          ],
          [
           203.32277777777776,
           185.1361111111111,
           167.80277777777778,
           151.3227777777778,
           135.69611111111112,
           120.92277777777778,
           107.00277777777778,
           93.93611111111109,
           81.72277777777776,
           70.36277777777778,
           59.856111111111105,
           50.20277777777778,
           41.402777777777764,
           33.4561111111111,
           26.362777777777772,
           20.12277777777777,
           14.736111111111107,
           10.202777777777776,
           6.522777777777777,
           3.6961111111111107,
           1.722777777777778,
           0.6027777777777779,
           0.33611111111111075,
           0.9227777777777767,
           2.3627777777777816,
           4.656111111111117,
           7.802777777777784,
           11.802777777777784,
           16.656111111111116,
           22.362777777777783,
           28.922777777777785
          ],
          [
           167.48277777777778,
           151.00277777777777,
           135.3761111111111,
           120.60277777777777,
           106.6827777777778,
           93.61611111111111,
           81.40277777777777,
           70.04277777777777,
           59.53611111111111,
           49.88277777777778,
           41.08277777777778,
           33.13611111111112,
           26.04277777777777,
           19.80277777777777,
           14.416111111111109,
           9.882777777777775,
           6.2027777777777775,
           3.3761111111111113,
           1.4027777777777781,
           0.28277777777777807,
           0.016111111111110996,
           0.6027777777777769,
           2.042777777777776,
           4.336111111111107,
           7.482777777777784,
           11.482777777777786,
           16.336111111111116,
           22.042777777777783,
           28.60277777777778,
           36.016111111111115,
           44.282777777777774
          ],
          [
           135.625,
           120.85166666666666,
           106.93166666666667,
           93.86500000000001,
           81.65166666666667,
           70.29166666666667,
           59.785,
           50.13166666666667,
           41.33166666666666,
           33.385000000000005,
           26.29166666666667,
           20.05166666666667,
           14.664999999999996,
           10.131666666666666,
           6.451666666666666,
           3.625,
           1.6516666666666673,
           0.531666666666667,
           0.2649999999999999,
           0.8516666666666658,
           2.2916666666666647,
           4.584999999999996,
           7.731666666666661,
           11.731666666666658,
           16.585000000000008,
           22.29166666666667,
           28.851666666666674,
           36.26499999999999,
           44.53166666666667,
           53.65166666666667,
           63.625
          ],
          [
           107.74944444444444,
           94.68277777777777,
           82.46944444444445,
           71.10944444444446,
           60.60277777777779,
           50.94944444444446,
           42.14944444444445,
           34.20277777777778,
           27.10944444444445,
           20.86944444444445,
           15.48277777777778,
           10.94944444444445,
           7.269444444444444,
           4.442777777777778,
           2.4694444444444446,
           1.3494444444444444,
           1.0827777777777774,
           1.6694444444444434,
           3.1094444444444425,
           5.402777777777774,
           8.549444444444438,
           12.549444444444436,
           17.402777777777768,
           23.109444444444428,
           29.66944444444444,
           37.082777777777785,
           45.34944444444446,
           54.46944444444445,
           64.44277777777776,
           75.26944444444442,
           86.94944444444445
          ],
          [
           83.85611111111112,
           72.49611111111112,
           61.98944444444446,
           52.33611111111112,
           43.536111111111126,
           35.58944444444446,
           28.496111111111116,
           22.256111111111114,
           16.86944444444445,
           12.336111111111114,
           8.656111111111116,
           5.829444444444448,
           3.856111111111111,
           2.7361111111111107,
           2.4694444444444437,
           3.0561111111111097,
           4.496111111111109,
           6.78944444444444,
           9.936111111111105,
           13.936111111111103,
           18.789444444444435,
           24.496111111111098,
           31.056111111111083,
           38.46944444444442,
           46.736111111111114,
           55.85611111111109,
           65.82944444444445,
           76.6561111111111,
           88.33611111111111,
           100.86944444444444,
           114.2561111111111
          ],
          [
           63.94500000000001,
           54.291666666666686,
           45.49166666666668,
           37.54500000000001,
           30.45166666666668,
           24.211666666666677,
           18.825000000000003,
           14.291666666666671,
           10.61166666666667,
           7.785000000000003,
           5.81166666666667,
           4.691666666666665,
           4.424999999999999,
           5.011666666666665,
           6.451666666666663,
           8.744999999999996,
           11.89166666666666,
           15.891666666666657,
           20.74499999999999,
           26.45166666666664,
           33.01166666666665,
           40.42499999999999,
           48.691666666666634,
           57.811666666666625,
           67.78500000000001,
           78.61166666666665,
           90.29166666666664,
           102.82500000000002,
           116.21166666666667,
           130.45166666666663,
           145.54499999999996
          ],
          [
           48.01611111111112,
           40.06944444444446,
           32.97611111111112,
           26.73611111111112,
           21.34944444444445,
           16.81611111111112,
           13.136111111111113,
           10.309444444444447,
           8.336111111111112,
           7.216111111111113,
           6.949444444444439,
           7.53611111111111,
           8.976111111111107,
           11.269444444444439,
           14.416111111111103,
           18.4161111111111,
           23.26944444444442,
           28.976111111111095,
           35.536111111111104,
           42.949444444444424,
           51.21611111111107,
           60.33611111111108,
           70.30944444444442,
           81.13611111111106,
           92.8161111111111,
           105.34944444444446,
           118.73611111111109,
           132.97611111111104,
           148.06944444444443,
           164.01611111111112,
           180.81611111111107
          ],
          [
           36.06944444444446,
           29.82944444444445,
           24.442777777777785,
           19.909444444444453,
           16.22944444444445,
           13.402777777777782,
           11.429444444444446,
           10.30944444444444,
           10.042777777777776,
           10.629444444444434,
           12.06944444444444,
           14.362777777777762,
           17.509444444444437,
           21.509444444444423,
           26.362777777777765,
           32.06944444444444,
           38.629444444444424,
           46.042777777777744,
           54.309444444444416,
           63.42944444444443,
           73.40277777777774,
           84.22944444444437,
           95.90944444444438,
           108.44277777777774,
           121.82944444444439,
           136.0694444444444,
           151.16277777777776,
           167.10944444444442,
           183.90944444444438,
           201.56277777777774,
           220.06944444444443
          ],
          [
           28.105000000000008,
           23.571666666666673,
           19.891666666666673,
           17.065,
           15.091666666666667,
           13.971666666666664,
           13.704999999999991,
           14.291666666666664,
           15.73166666666665,
           18.02499999999999,
           21.171666666666642,
           25.171666666666653,
           30.025,
           35.73166666666665,
           42.29166666666663,
           49.70499999999998,
           57.97166666666665,
           67.09166666666663,
           77.06499999999994,
           87.89166666666662,
           99.57166666666663,
           112.10499999999993,
           125.49166666666659,
           139.7316666666666,
           154.825,
           170.77166666666662,
           187.57166666666663,
           205.22499999999997,
           223.73166666666663,
           243.0916666666666,
           263.30499999999995
          ],
          [
           24.122777777777774,
           21.296111111111106,
           19.32277777777777,
           18.20277777777777,
           17.936111111111096,
           18.522777777777755,
           19.962777777777752,
           22.256111111111093,
           25.402777777777743,
           29.40277777777775,
           34.25611111111106,
           39.962777777777745,
           46.522777777777726,
           53.93611111111107,
           62.20277777777775,
           71.32277777777772,
           81.29611111111103,
           92.12277777777771,
           103.8027777777777,
           116.33611111111104,
           129.72277777777768,
           143.96277777777766,
           159.05611111111102,
           175.00277777777768,
           191.8027777777777,
           209.45611111111106,
           227.96277777777772,
           247.3227777777777,
           267.53611111111104,
           288.60277777777765,
           310.5227777777777
          ],
          [
           24.12277777777777,
           23.002777777777773,
           22.7361111111111,
           23.322777777777773,
           24.762777777777757,
           27.0561111111111,
           30.202777777777747,
           34.20277777777776,
           39.05611111111107,
           44.76277777777776,
           51.32277777777772,
           58.736111111111086,
           67.00277777777772,
           76.12277777777774,
           86.09611111111109,
           96.92277777777772,
           108.60277777777769,
           121.13611111111105,
           134.52277777777775,
           148.7627777777777,
           163.85611111111098,
           179.8027777777777,
           196.6027777777777,
           214.256111111111,
           232.76277777777773,
           252.12277777777777,
           272.33611111111105,
           293.40277777777766,
           315.3227777777777,
           338.0961111111111,
           361.72277777777765
          ],
          [
           28.105000000000008,
           28.691666666666688,
           30.131666666666675,
           32.425000000000026,
           35.57166666666668,
           39.571666666666694,
           44.42500000000001,
           50.1316666666667,
           56.69166666666668,
           64.10500000000005,
           72.37166666666667,
           81.4916666666667,
           91.46500000000006,
           102.29166666666671,
           113.97166666666669,
           126.50500000000005,
           139.8916666666667,
           154.13166666666672,
           169.22500000000002,
           185.17166666666668,
           201.97166666666672,
           219.62500000000003,
           238.13166666666666,
           257.4916666666667,
           277.7050000000001,
           298.77166666666676,
           320.6916666666667,
           343.46500000000015,
           367.0916666666667,
           391.5716666666667,
           416.90500000000014
          ],
          [
           36.06944444444444,
           38.362777777777765,
           41.50944444444444,
           45.509444444444455,
           50.36277777777778,
           56.06944444444446,
           62.629444444444445,
           70.0427777777778,
           78.30944444444444,
           87.42944444444446,
           97.40277777777777,
           108.22944444444445,
           119.90944444444446,
           132.4427777777778,
           145.82944444444445,
           160.06944444444446,
           175.16277777777776,
           191.10944444444445,
           207.90944444444446,
           225.56277777777777,
           244.06944444444443,
           263.4294444444444,
           283.6427777777778,
           304.70944444444444,
           326.6294444444445,
           349.4027777777778,
           373.0294444444445,
           397.50944444444445,
           422.8427777777779,
           449.0294444444445,
           476.06944444444446
          ],
          [
           48.01611111111112,
           52.01611111111111,
           56.86944444444446,
           62.576111111111146,
           69.13611111111112,
           76.54944444444448,
           84.81611111111111,
           93.93611111111115,
           103.90944444444445,
           114.73611111111114,
           126.4161111111111,
           138.94944444444448,
           152.3361111111111,
           166.57611111111115,
           181.66944444444454,
           197.61611111111114,
           214.4161111111111,
           232.06944444444446,
           250.5761111111112,
           269.93611111111113,
           290.1494444444444,
           311.2161111111111,
           333.1361111111112,
           355.9094444444445,
           379.53611111111127,
           404.0161111111113,
           429.34944444444454,
           455.5361111111111,
           482.57611111111106,
           510.46944444444455,
           539.2161111111112
          ],
          [
           63.945000000000036,
           69.65166666666667,
           76.2116666666667,
           83.62500000000006,
           91.8916666666667,
           101.01166666666673,
           110.98500000000003,
           121.81166666666672,
           133.49166666666667,
           146.02500000000006,
           159.4116666666667,
           173.65166666666673,
           188.74500000000006,
           204.69166666666672,
           221.49166666666673,
           239.14500000000007,
           257.6516666666667,
           277.01166666666677,
           297.2250000000001,
           318.2916666666667,
           340.2116666666667,
           362.9850000000001,
           386.6116666666667,
           411.0916666666667,
           436.42500000000007,
           462.6116666666668,
           489.65166666666676,
           517.5450000000001,
           546.291666666667,
           575.8916666666668,
           606.345
          ],
          [
           83.85611111111112,
           91.26944444444447,
           99.53611111111111,
           108.65611111111114,
           118.62944444444445,
           129.45611111111114,
           141.13611111111112,
           153.66944444444448,
           167.0561111111111,
           181.29611111111114,
           196.38944444444442,
           212.33611111111114,
           229.13611111111118,
           246.78944444444446,
           265.29611111111114,
           284.65611111111116,
           304.86944444444447,
           325.93611111111113,
           347.8561111111111,
           370.6294444444445,
           394.2561111111111,
           418.7361111111111,
           444.0694444444444,
           470.25611111111095,
           497.29611111111114,
           525.1894444444445,
           553.9361111111114,
           583.5361111111113,
           613.9894444444444,
           645.2961111111111,
           677.4561111111111
          ],
          [
           107.74944444444444,
           116.86944444444438,
           126.84277777777775,
           137.66944444444445,
           149.3494444444444,
           161.8827777777778,
           175.26944444444442,
           189.50944444444445,
           204.60277777777773,
           220.54944444444442,
           237.34944444444437,
           255.00277777777774,
           273.5094444444444,
           292.8694444444444,
           313.0827777777778,
           334.1494444444444,
           356.0694444444444,
           378.8427777777778,
           402.46944444444443,
           426.9494444444444,
           452.2827777777777,
           478.4694444444443,
           505.5094444444444,
           533.4027777777777,
           562.1494444444445,
           591.7494444444444,
           622.2027777777778,
           653.5094444444444,
           685.6694444444443,
           718.6827777777778,
           752.5494444444444
          ],
          [
           135.625,
           146.45166666666663,
           158.13166666666666,
           170.66500000000005,
           184.05166666666665,
           198.29166666666669,
           213.38499999999996,
           229.33166666666668,
           246.13166666666663,
           263.785,
           282.29166666666663,
           301.6516666666667,
           321.86499999999995,
           342.93166666666673,
           364.85166666666674,
           387.625,
           411.25166666666655,
           435.73166666666657,
           461.06500000000005,
           487.25166666666667,
           514.2916666666665,
           542.1850000000001,
           570.9316666666667,
           600.5316666666666,
           630.9849999999999,
           662.2916666666667,
           694.4516666666667,
           727.4649999999999,
           761.3316666666667,
           796.0516666666667,
           831.625
          ]
         ]
        }
       ],
       "layout": {
        "template": {
         "data": {
          "bar": [
           {
            "error_x": {
             "color": "#2a3f5f"
            },
            "error_y": {
             "color": "#2a3f5f"
            },
            "marker": {
             "line": {
              "color": "#E5ECF6",
              "width": 0.5
             }
            },
            "type": "bar"
           }
          ],
          "barpolar": [
           {
            "marker": {
             "line": {
              "color": "#E5ECF6",
              "width": 0.5
             }
            },
            "type": "barpolar"
           }
          ],
          "carpet": [
           {
            "aaxis": {
             "endlinecolor": "#2a3f5f",
             "gridcolor": "white",
             "linecolor": "white",
             "minorgridcolor": "white",
             "startlinecolor": "#2a3f5f"
            },
            "baxis": {
             "endlinecolor": "#2a3f5f",
             "gridcolor": "white",
             "linecolor": "white",
             "minorgridcolor": "white",
             "startlinecolor": "#2a3f5f"
            },
            "type": "carpet"
           }
          ],
          "choropleth": [
           {
            "colorbar": {
             "outlinewidth": 0,
             "ticks": ""
            },
            "type": "choropleth"
           }
          ],
          "contour": [
           {
            "colorbar": {
             "outlinewidth": 0,
             "ticks": ""
            },
            "colorscale": [
             [
              0.0,
              "#0d0887"
             ],
             [
              0.1111111111111111,
              "#46039f"
             ],
             [
              0.2222222222222222,
              "#7201a8"
             ],
             [
              0.3333333333333333,
              "#9c179e"
             ],
             [
              0.4444444444444444,
              "#bd3786"
             ],
             [
              0.5555555555555556,
              "#d8576b"
             ],
             [
              0.6666666666666666,
              "#ed7953"
             ],
             [
              0.7777777777777778,
              "#fb9f3a"
             ],
             [
              0.8888888888888888,
              "#fdca26"
             ],
             [
              1.0,
              "#f0f921"
             ]
            ],
            "type": "contour"
           }
          ],
          "contourcarpet": [
           {
            "colorbar": {
             "outlinewidth": 0,
             "ticks": ""
            },
            "type": "contourcarpet"
           }
          ],
          "heatmap": [
           {
            "colorbar": {
             "outlinewidth": 0,
             "ticks": ""
            },
            "colorscale": [
             [
              0.0,
              "#0d0887"
             ],
             [
              0.1111111111111111,
              "#46039f"
             ],
             [
              0.2222222222222222,
              "#7201a8"
             ],
             [
              0.3333333333333333,
              "#9c179e"
             ],
             [
              0.4444444444444444,
              "#bd3786"
             ],
             [
              0.5555555555555556,
              "#d8576b"
             ],
             [
              0.6666666666666666,
              "#ed7953"
             ],
             [
              0.7777777777777778,
              "#fb9f3a"
             ],
             [
              0.8888888888888888,
              "#fdca26"
             ],
             [
              1.0,
              "#f0f921"
             ]
            ],
            "type": "heatmap"
           }
          ],
          "heatmapgl": [
           {
            "colorbar": {
             "outlinewidth": 0,
             "ticks": ""
            },
            "colorscale": [
             [
              0.0,
              "#0d0887"
             ],
             [
              0.1111111111111111,
              "#46039f"
             ],
             [
              0.2222222222222222,
              "#7201a8"
             ],
             [
              0.3333333333333333,
              "#9c179e"
             ],
             [
              0.4444444444444444,
              "#bd3786"
             ],
             [
              0.5555555555555556,
              "#d8576b"
             ],
             [
              0.6666666666666666,
              "#ed7953"
             ],
             [
              0.7777777777777778,
              "#fb9f3a"
             ],
             [
              0.8888888888888888,
              "#fdca26"
             ],
             [
              1.0,
              "#f0f921"
             ]
            ],
            "type": "heatmapgl"
           }
          ],
          "histogram": [
           {
            "marker": {
             "colorbar": {
              "outlinewidth": 0,
              "ticks": ""
             }
            },
            "type": "histogram"
           }
          ],
          "histogram2d": [
           {
            "colorbar": {
             "outlinewidth": 0,
             "ticks": ""
            },
            "colorscale": [
             [
              0.0,
              "#0d0887"
             ],
             [
              0.1111111111111111,
              "#46039f"
             ],
             [
              0.2222222222222222,
              "#7201a8"
             ],
             [
              0.3333333333333333,
              "#9c179e"
             ],
             [
              0.4444444444444444,
              "#bd3786"
             ],
             [
              0.5555555555555556,
              "#d8576b"
             ],
             [
              0.6666666666666666,
              "#ed7953"
             ],
             [
              0.7777777777777778,
              "#fb9f3a"
             ],
             [
              0.8888888888888888,
              "#fdca26"
             ],
             [
              1.0,
              "#f0f921"
             ]
            ],
            "type": "histogram2d"
           }
          ],
          "histogram2dcontour": [
           {
            "colorbar": {
             "outlinewidth": 0,
             "ticks": ""
            },
            "colorscale": [
             [
              0.0,
              "#0d0887"
             ],
             [
              0.1111111111111111,
              "#46039f"
             ],
             [
              0.2222222222222222,
              "#7201a8"
             ],
             [
              0.3333333333333333,
              "#9c179e"
             ],
             [
              0.4444444444444444,
              "#bd3786"
             ],
             [
              0.5555555555555556,
              "#d8576b"
             ],
             [
              0.6666666666666666,
              "#ed7953"
             ],
             [
              0.7777777777777778,
              "#fb9f3a"
             ],
             [
              0.8888888888888888,
              "#fdca26"
             ],
             [
              1.0,
              "#f0f921"
             ]
            ],
            "type": "histogram2dcontour"
           }
          ],
          "mesh3d": [
           {
            "colorbar": {
             "outlinewidth": 0,
             "ticks": ""
            },
            "type": "mesh3d"
           }
          ],
          "parcoords": [
           {
            "line": {
             "colorbar": {
              "outlinewidth": 0,
              "ticks": ""
             }
            },
            "type": "parcoords"
           }
          ],
          "pie": [
           {
            "automargin": true,
            "type": "pie"
           }
          ],
          "scatter": [
           {
            "marker": {
             "colorbar": {
              "outlinewidth": 0,
              "ticks": ""
             }
            },
            "type": "scatter"
           }
          ],
          "scatter3d": [
           {
            "line": {
             "colorbar": {
              "outlinewidth": 0,
              "ticks": ""
             }
            },
            "marker": {
             "colorbar": {
              "outlinewidth": 0,
              "ticks": ""
             }
            },
            "type": "scatter3d"
           }
          ],
          "scattercarpet": [
           {
            "marker": {
             "colorbar": {
              "outlinewidth": 0,
              "ticks": ""
             }
            },
            "type": "scattercarpet"
           }
          ],
          "scattergeo": [
           {
            "marker": {
             "colorbar": {
              "outlinewidth": 0,
              "ticks": ""
             }
            },
            "type": "scattergeo"
           }
          ],
          "scattergl": [
           {
            "marker": {
             "colorbar": {
              "outlinewidth": 0,
              "ticks": ""
             }
            },
            "type": "scattergl"
           }
          ],
          "scattermapbox": [
           {
            "marker": {
             "colorbar": {
              "outlinewidth": 0,
              "ticks": ""
             }
            },
            "type": "scattermapbox"
           }
          ],
          "scatterpolar": [
           {
            "marker": {
             "colorbar": {
              "outlinewidth": 0,
              "ticks": ""
             }
            },
            "type": "scatterpolar"
           }
          ],
          "scatterpolargl": [
           {
            "marker": {
             "colorbar": {
              "outlinewidth": 0,
              "ticks": ""
             }
            },
            "type": "scatterpolargl"
           }
          ],
          "scatterternary": [
           {
            "marker": {
             "colorbar": {
              "outlinewidth": 0,
              "ticks": ""
             }
            },
            "type": "scatterternary"
           }
          ],
          "surface": [
           {
            "colorbar": {
             "outlinewidth": 0,
             "ticks": ""
            },
            "colorscale": [
             [
              0.0,
              "#0d0887"
             ],
             [
              0.1111111111111111,
              "#46039f"
             ],
             [
              0.2222222222222222,
              "#7201a8"
             ],
             [
              0.3333333333333333,
              "#9c179e"
             ],
             [
              0.4444444444444444,
              "#bd3786"
             ],
             [
              0.5555555555555556,
              "#d8576b"
             ],
             [
              0.6666666666666666,
              "#ed7953"
             ],
             [
              0.7777777777777778,
              "#fb9f3a"
             ],
             [
              0.8888888888888888,
              "#fdca26"
             ],
             [
              1.0,
              "#f0f921"
             ]
            ],
            "type": "surface"
           }
          ],
          "table": [
           {
            "cells": {
             "fill": {
              "color": "#EBF0F8"
             },
             "line": {
              "color": "white"
             }
            },
            "header": {
             "fill": {
              "color": "#C8D4E3"
             },
             "line": {
              "color": "white"
             }
            },
            "type": "table"
           }
          ]
         },
         "layout": {
          "annotationdefaults": {
           "arrowcolor": "#2a3f5f",
           "arrowhead": 0,
           "arrowwidth": 1
          },
          "coloraxis": {
           "colorbar": {
            "outlinewidth": 0,
            "ticks": ""
           }
          },
          "colorscale": {
           "diverging": [
            [
             0,
             "#8e0152"
            ],
            [
             0.1,
             "#c51b7d"
            ],
            [
             0.2,
             "#de77ae"
            ],
            [
             0.3,
             "#f1b6da"
            ],
            [
             0.4,
             "#fde0ef"
            ],
            [
             0.5,
             "#f7f7f7"
            ],
            [
             0.6,
             "#e6f5d0"
            ],
            [
             0.7,
             "#b8e186"
            ],
            [
             0.8,
             "#7fbc41"
            ],
            [
             0.9,
             "#4d9221"
            ],
            [
             1,
             "#276419"
            ]
           ],
           "sequential": [
            [
             0.0,
             "#0d0887"
            ],
            [
             0.1111111111111111,
             "#46039f"
            ],
            [
             0.2222222222222222,
             "#7201a8"
            ],
            [
             0.3333333333333333,
             "#9c179e"
            ],
            [
             0.4444444444444444,
             "#bd3786"
            ],
            [
             0.5555555555555556,
             "#d8576b"
            ],
            [
             0.6666666666666666,
             "#ed7953"
            ],
            [
             0.7777777777777778,
             "#fb9f3a"
            ],
            [
             0.8888888888888888,
             "#fdca26"
            ],
            [
             1.0,
             "#f0f921"
            ]
           ],
           "sequentialminus": [
            [
             0.0,
             "#0d0887"
            ],
            [
             0.1111111111111111,
             "#46039f"
            ],
            [
             0.2222222222222222,
             "#7201a8"
            ],
            [
             0.3333333333333333,
             "#9c179e"
            ],
            [
             0.4444444444444444,
             "#bd3786"
            ],
            [
             0.5555555555555556,
             "#d8576b"
            ],
            [
             0.6666666666666666,
             "#ed7953"
            ],
            [
             0.7777777777777778,
             "#fb9f3a"
            ],
            [
             0.8888888888888888,
             "#fdca26"
            ],
            [
             1.0,
             "#f0f921"
            ]
           ]
          },
          "colorway": [
           "#636efa",
           "#EF553B",
           "#00cc96",
           "#ab63fa",
           "#FFA15A",
           "#19d3f3",
           "#FF6692",
           "#B6E880",
           "#FF97FF",
           "#FECB52"
          ],
          "font": {
           "color": "#2a3f5f"
          },
          "geo": {
           "bgcolor": "white",
           "lakecolor": "white",
           "landcolor": "#E5ECF6",
           "showlakes": true,
           "showland": true,
           "subunitcolor": "white"
          },
          "hoverlabel": {
           "align": "left"
          },
          "hovermode": "closest",
          "mapbox": {
           "style": "light"
          },
          "paper_bgcolor": "white",
          "plot_bgcolor": "#E5ECF6",
          "polar": {
           "angularaxis": {
            "gridcolor": "white",
            "linecolor": "white",
            "ticks": ""
           },
           "bgcolor": "#E5ECF6",
           "radialaxis": {
            "gridcolor": "white",
            "linecolor": "white",
            "ticks": ""
           }
          },
          "scene": {
           "xaxis": {
            "backgroundcolor": "#E5ECF6",
            "gridcolor": "white",
            "gridwidth": 2,
            "linecolor": "white",
            "showbackground": true,
            "ticks": "",
            "zerolinecolor": "white"
           },
           "yaxis": {
            "backgroundcolor": "#E5ECF6",
            "gridcolor": "white",
            "gridwidth": 2,
            "linecolor": "white",
            "showbackground": true,
            "ticks": "",
            "zerolinecolor": "white"
           },
           "zaxis": {
            "backgroundcolor": "#E5ECF6",
            "gridcolor": "white",
            "gridwidth": 2,
            "linecolor": "white",
            "showbackground": true,
            "ticks": "",
            "zerolinecolor": "white"
           }
          },
          "shapedefaults": {
           "line": {
            "color": "#2a3f5f"
           }
          },
          "ternary": {
           "aaxis": {
            "gridcolor": "white",
            "linecolor": "white",
            "ticks": ""
           },
           "baxis": {
            "gridcolor": "white",
            "linecolor": "white",
            "ticks": ""
           },
           "bgcolor": "#E5ECF6",
           "caxis": {
            "gridcolor": "white",
            "linecolor": "white",
            "ticks": ""
           }
          },
          "title": {
           "x": 0.05
          },
          "xaxis": {
           "automargin": true,
           "gridcolor": "white",
           "linecolor": "white",
           "ticks": "",
           "title": {
            "standoff": 15
           },
           "zerolinecolor": "white",
           "zerolinewidth": 2
          },
          "yaxis": {
           "automargin": true,
           "gridcolor": "white",
           "linecolor": "white",
           "ticks": "",
           "title": {
            "standoff": 15
           },
           "zerolinecolor": "white",
           "zerolinewidth": 2
          }
         }
        }
       }
      },
      "text/html": "<div>\n        \n        \n            <div id=\"fd119a3d-cdb3-4bf8-83bd-c2c4015e20a0\" class=\"plotly-graph-div\" style=\"height:525px; width:100%;\"></div>\n            <script type=\"text/javascript\">\n                require([\"plotly\"], function(Plotly) {\n                    window.PLOTLYENV=window.PLOTLYENV || {};\n                    \n                if (document.getElementById(\"fd119a3d-cdb3-4bf8-83bd-c2c4015e20a0\")) {\n                    Plotly.newPlot(\n                        'fd119a3d-cdb3-4bf8-83bd-c2c4015e20a0',\n                        [{\"mode\": \"markers\", \"name\": \"minima\", \"type\": \"scatter3d\", \"x\": [10], \"y\": [4], \"z\": [0]}, {\"type\": \"surface\", \"x\": [-11.0, -9.933333333333334, -8.866666666666667, -7.8, -6.733333333333333, -5.666666666666667, -4.6, -3.533333333333333, -2.466666666666667, -1.4000000000000004, -0.3333333333333339, 0.7333333333333325, 1.8000000000000007, 2.866666666666667, 3.9333333333333336, 5.0, 6.066666666666666, 7.133333333333333, 8.2, 9.266666666666666, 10.333333333333332, 11.399999999999999, 12.466666666666665, 13.533333333333331, 14.600000000000001, 15.666666666666668, 16.733333333333334, 17.8, 18.866666666666667, 19.933333333333334, 21.0], \"y\": [-11.0, -9.933333333333334, -8.866666666666667, -7.8, -6.733333333333333, -5.666666666666667, -4.6, -3.533333333333333, -2.466666666666667, -1.4000000000000004, -0.3333333333333339, 0.7333333333333325, 1.8000000000000007, 2.866666666666667, 3.9333333333333336, 5.0, 6.066666666666666, 7.133333333333333, 8.2, 9.266666666666666, 10.333333333333332, 11.399999999999999, 12.466666666666665, 13.533333333333331, 14.600000000000001, 15.666666666666668, 16.733333333333334, 17.8, 18.866666666666667, 19.933333333333334, 21.0], \"z\": [[1031.625, 991.2516666666669, 951.7316666666666, 913.0649999999998, 875.2516666666668, 838.2916666666667, 802.1850000000001, 766.9316666666666, 732.5316666666668, 698.9849999999999, 666.2916666666667, 634.4516666666666, 603.465, 573.3316666666667, 544.0516666666666, 515.625, 488.05166666666673, 461.3316666666667, 435.465, 410.4516666666667, 386.29166666666674, 362.985, 340.53166666666664, 318.93166666666673, 298.18499999999995, 278.29166666666663, 259.25166666666667, 241.065, 223.73166666666665, 207.2516666666666, 191.625], [944.0161111111111, 905.3494444444444, 867.5361111111113, 830.5761111111112, 794.4694444444444, 759.2161111111111, 724.8161111111111, 691.2694444444444, 658.5761111111111, 626.7361111111111, 595.7494444444444, 565.6161111111112, 536.3361111111111, 507.9094444444445, 480.33611111111117, 453.6161111111111, 427.74944444444446, 402.7361111111112, 378.5761111111111, 355.2694444444444, 332.8161111111111, 311.2161111111112, 290.4694444444445, 270.5761111111111, 251.53611111111113, 233.34944444444443, 216.01611111111106, 199.5361111111111, 183.90944444444446, 169.13611111111112, 155.21611111111113], [860.3894444444445, 823.4294444444445, 787.3227777777779, 752.0694444444445, 717.6694444444445, 684.1227777777779, 651.4294444444445, 619.5894444444444, 588.6027777777779, 558.4694444444444, 529.1894444444445, 500.7627777777778, 473.18944444444446, 446.4694444444445, 420.6027777777779, 395.58944444444444, 371.4294444444444, 348.1227777777778, 325.66944444444454, 304.06944444444446, 283.3227777777778, 263.42944444444447, 244.3894444444445, 226.20277777777784, 208.86944444444444, 192.38944444444445, 176.76277777777779, 161.98944444444444, 148.06944444444446, 135.0027777777778, 122.78944444444446], [780.745, 745.4916666666666, 711.0916666666667, 677.5450000000001, 644.8516666666667, 613.0116666666667, 582.0250000000001, 551.8916666666667, 522.6116666666667, 494.18499999999995, 466.61166666666674, 439.89166666666665, 414.0249999999999, 389.01166666666666, 364.8516666666667, 341.54499999999996, 319.0916666666666, 297.4916666666667, 276.745, 256.8516666666667, 237.81166666666664, 219.62500000000003, 202.29166666666669, 185.8116666666667, 170.18499999999997, 155.41166666666663, 141.49166666666665, 128.42499999999998, 116.21166666666666, 104.85166666666666, 94.34499999999998], [705.0827777777779, 671.536111111111, 638.8427777777778, 607.0027777777777, 576.0161111111113, 545.8827777777778, 516.6027777777776, 488.17611111111114, 460.60277777777776, 433.8827777777778, 408.01611111111106, 383.0027777777778, 358.84277777777777, 335.53611111111104, 313.0827777777778, 291.4827777777778, 270.7361111111111, 250.84277777777777, 231.80277777777778, 213.61611111111117, 196.28277777777777, 179.8027777777778, 164.1761111111111, 149.4027777777778, 135.48277777777776, 122.41611111111109, 110.20277777777777, 98.84277777777777, 88.3361111111111, 78.68277777777777, 69.88277777777778], [633.4027777777778, 601.5627777777779, 570.5761111111112, 540.4427777777778, 511.16277777777776, 482.7361111111112, 455.1627777777778, 428.4427777777778, 402.5761111111111, 377.5627777777778, 353.4027777777778, 330.0961111111111, 307.6427777777778, 286.0427777777778, 265.2961111111111, 245.4027777777778, 226.3627777777778, 208.17611111111114, 190.8427777777778, 174.3627777777778, 158.73611111111111, 143.96277777777783, 130.0427777777778, 116.97611111111114, 104.76277777777776, 93.40277777777777, 82.89611111111111, 73.24277777777777, 64.44277777777778, 56.49611111111111, 49.40277777777778], [565.705, 535.5716666666667, 506.29166666666663, 477.86499999999995, 450.2916666666667, 423.5716666666667, 397.7049999999999, 372.6916666666666, 348.53166666666664, 325.225, 302.77166666666665, 281.1716666666666, 260.42499999999995, 240.53166666666664, 221.49166666666667, 203.30499999999998, 185.97166666666666, 169.49166666666665, 153.865, 139.09166666666667, 125.17166666666668, 112.10499999999999, 99.8916666666667, 88.53166666666667, 78.02499999999998, 68.37166666666666, 59.571666666666644, 51.625, 44.531666666666645, 38.29166666666666, 32.904999999999994], [501.9894444444444, 473.5627777777778, 445.98944444444453, 419.26944444444445, 393.4027777777777, 368.38944444444445, 344.2294444444444, 320.9227777777778, 298.4694444444444, 276.86944444444447, 256.1227777777778, 236.22944444444445, 217.18944444444443, 199.00277777777777, 181.66944444444442, 165.18944444444446, 149.56277777777777, 134.78944444444446, 120.86944444444444, 107.8027777777778, 95.58944444444444, 84.22944444444447, 73.72277777777778, 64.06944444444446, 55.26944444444444, 47.32277777777776, 40.22944444444444, 33.98944444444444, 28.602777777777774, 24.069444444444443, 20.389444444444447], [442.2561111111112, 415.53611111111115, 389.6694444444445, 364.65611111111116, 340.4961111111111, 317.1894444444444, 294.7361111111111, 273.1361111111112, 252.38944444444445, 232.49611111111113, 213.4561111111111, 195.26944444444447, 177.93611111111113, 161.4561111111111, 145.82944444444445, 131.05611111111108, 117.13611111111113, 104.06944444444444, 91.85611111111113, 80.4961111111111, 69.98944444444447, 60.336111111111116, 51.53611111111114, 43.58944444444446, 36.496111111111105, 30.256111111111107, 24.86944444444444, 20.336111111111112, 16.65611111111111, 13.829444444444446, 11.85611111111111], [386.505, 361.4916666666667, 337.3316666666667, 314.025, 291.5716666666667, 269.9716666666667, 249.225, 229.33166666666668, 210.29166666666669, 192.10500000000002, 174.77166666666668, 158.29166666666669, 142.665, 127.89166666666668, 113.97166666666666, 100.90500000000002, 88.69166666666666, 77.33166666666668, 66.82500000000002, 57.171666666666695, 48.371666666666684, 40.42500000000002, 33.33166666666668, 27.091666666666683, 21.705, 17.171666666666667, 13.491666666666667, 10.665, 8.69166666666667, 7.571666666666665, 7.305000000000006], [334.73611111111114, 311.42944444444447, 288.97611111111115, 267.37611111111113, 246.62944444444446, 226.73611111111114, 207.69611111111112, 189.50944444444445, 172.17611111111114, 155.69611111111115, 140.06944444444446, 125.29611111111114, 111.37611111111113, 98.30944444444444, 86.09611111111113, 74.73611111111111, 64.22944444444447, 54.576111111111125, 45.77611111111113, 37.82944444444446, 30.73611111111113, 24.496111111111126, 19.10944444444446, 14.576111111111125, 10.89611111111111, 8.069444444444446, 6.096111111111111, 4.976111111111116, 4.709444444444442, 5.296111111111116, 6.736111111111107], [286.9494444444445, 265.34944444444443, 244.60277777777782, 224.70944444444444, 205.66944444444448, 187.4827777777778, 170.14944444444444, 153.66944444444448, 138.04277777777781, 123.26944444444447, 109.34944444444446, 96.2827777777778, 84.06944444444446, 72.70944444444447, 62.2027777777778, 52.54944444444446, 43.749444444444464, 35.80277777777779, 28.709444444444465, 22.469444444444463, 17.082777777777792, 12.549444444444458, 8.869444444444456, 6.042777777777787, 4.069444444444448, 2.949444444444443, 2.682777777777782, 3.269444444444442, 4.709444444444447, 7.002777777777773, 10.149444444444443], [243.14499999999998, 223.25166666666667, 204.21166666666664, 186.02499999999998, 168.69166666666666, 152.21166666666667, 136.58499999999998, 121.81166666666664, 107.89166666666665, 94.82499999999999, 82.61166666666665, 71.25166666666667, 60.744999999999976, 51.09166666666665, 42.29166666666665, 34.344999999999985, 27.251666666666658, 21.01166666666666, 15.624999999999996, 11.091666666666663, 7.411666666666665, 4.584999999999999, 2.6116666666666664, 1.4916666666666663, 1.2249999999999996, 1.8116666666666683, 3.25166666666667, 5.545000000000004, 8.691666666666672, 12.691666666666672, 17.545000000000005], [203.32277777777776, 185.1361111111111, 167.80277777777778, 151.3227777777778, 135.69611111111112, 120.92277777777778, 107.00277777777778, 93.93611111111109, 81.72277777777776, 70.36277777777778, 59.856111111111105, 50.20277777777778, 41.402777777777764, 33.4561111111111, 26.362777777777772, 20.12277777777777, 14.736111111111107, 10.202777777777776, 6.522777777777777, 3.6961111111111107, 1.722777777777778, 0.6027777777777779, 0.33611111111111075, 0.9227777777777767, 2.3627777777777816, 4.656111111111117, 7.802777777777784, 11.802777777777784, 16.656111111111116, 22.362777777777783, 28.922777777777785], [167.48277777777778, 151.00277777777777, 135.3761111111111, 120.60277777777777, 106.6827777777778, 93.61611111111111, 81.40277777777777, 70.04277777777777, 59.53611111111111, 49.88277777777778, 41.08277777777778, 33.13611111111112, 26.04277777777777, 19.80277777777777, 14.416111111111109, 9.882777777777775, 6.2027777777777775, 3.3761111111111113, 1.4027777777777781, 0.28277777777777807, 0.016111111111110996, 0.6027777777777769, 2.042777777777776, 4.336111111111107, 7.482777777777784, 11.482777777777786, 16.336111111111116, 22.042777777777783, 28.60277777777778, 36.016111111111115, 44.282777777777774], [135.625, 120.85166666666666, 106.93166666666667, 93.86500000000001, 81.65166666666667, 70.29166666666667, 59.785, 50.13166666666667, 41.33166666666666, 33.385000000000005, 26.29166666666667, 20.05166666666667, 14.664999999999996, 10.131666666666666, 6.451666666666666, 3.625, 1.6516666666666673, 0.531666666666667, 0.2649999999999999, 0.8516666666666658, 2.2916666666666647, 4.584999999999996, 7.731666666666661, 11.731666666666658, 16.585000000000008, 22.29166666666667, 28.851666666666674, 36.26499999999999, 44.53166666666667, 53.65166666666667, 63.625], [107.74944444444444, 94.68277777777777, 82.46944444444445, 71.10944444444446, 60.60277777777779, 50.94944444444446, 42.14944444444445, 34.20277777777778, 27.10944444444445, 20.86944444444445, 15.48277777777778, 10.94944444444445, 7.269444444444444, 4.442777777777778, 2.4694444444444446, 1.3494444444444444, 1.0827777777777774, 1.6694444444444434, 3.1094444444444425, 5.402777777777774, 8.549444444444438, 12.549444444444436, 17.402777777777768, 23.109444444444428, 29.66944444444444, 37.082777777777785, 45.34944444444446, 54.46944444444445, 64.44277777777776, 75.26944444444442, 86.94944444444445], [83.85611111111112, 72.49611111111112, 61.98944444444446, 52.33611111111112, 43.536111111111126, 35.58944444444446, 28.496111111111116, 22.256111111111114, 16.86944444444445, 12.336111111111114, 8.656111111111116, 5.829444444444448, 3.856111111111111, 2.7361111111111107, 2.4694444444444437, 3.0561111111111097, 4.496111111111109, 6.78944444444444, 9.936111111111105, 13.936111111111103, 18.789444444444435, 24.496111111111098, 31.056111111111083, 38.46944444444442, 46.736111111111114, 55.85611111111109, 65.82944444444445, 76.6561111111111, 88.33611111111111, 100.86944444444444, 114.2561111111111], [63.94500000000001, 54.291666666666686, 45.49166666666668, 37.54500000000001, 30.45166666666668, 24.211666666666677, 18.825000000000003, 14.291666666666671, 10.61166666666667, 7.785000000000003, 5.81166666666667, 4.691666666666665, 4.424999999999999, 5.011666666666665, 6.451666666666663, 8.744999999999996, 11.89166666666666, 15.891666666666657, 20.74499999999999, 26.45166666666664, 33.01166666666665, 40.42499999999999, 48.691666666666634, 57.811666666666625, 67.78500000000001, 78.61166666666665, 90.29166666666664, 102.82500000000002, 116.21166666666667, 130.45166666666663, 145.54499999999996], [48.01611111111112, 40.06944444444446, 32.97611111111112, 26.73611111111112, 21.34944444444445, 16.81611111111112, 13.136111111111113, 10.309444444444447, 8.336111111111112, 7.216111111111113, 6.949444444444439, 7.53611111111111, 8.976111111111107, 11.269444444444439, 14.416111111111103, 18.4161111111111, 23.26944444444442, 28.976111111111095, 35.536111111111104, 42.949444444444424, 51.21611111111107, 60.33611111111108, 70.30944444444442, 81.13611111111106, 92.8161111111111, 105.34944444444446, 118.73611111111109, 132.97611111111104, 148.06944444444443, 164.01611111111112, 180.81611111111107], [36.06944444444446, 29.82944444444445, 24.442777777777785, 19.909444444444453, 16.22944444444445, 13.402777777777782, 11.429444444444446, 10.30944444444444, 10.042777777777776, 10.629444444444434, 12.06944444444444, 14.362777777777762, 17.509444444444437, 21.509444444444423, 26.362777777777765, 32.06944444444444, 38.629444444444424, 46.042777777777744, 54.309444444444416, 63.42944444444443, 73.40277777777774, 84.22944444444437, 95.90944444444438, 108.44277777777774, 121.82944444444439, 136.0694444444444, 151.16277777777776, 167.10944444444442, 183.90944444444438, 201.56277777777774, 220.06944444444443], [28.105000000000008, 23.571666666666673, 19.891666666666673, 17.065, 15.091666666666667, 13.971666666666664, 13.704999999999991, 14.291666666666664, 15.73166666666665, 18.02499999999999, 21.171666666666642, 25.171666666666653, 30.025, 35.73166666666665, 42.29166666666663, 49.70499999999998, 57.97166666666665, 67.09166666666663, 77.06499999999994, 87.89166666666662, 99.57166666666663, 112.10499999999993, 125.49166666666659, 139.7316666666666, 154.825, 170.77166666666662, 187.57166666666663, 205.22499999999997, 223.73166666666663, 243.0916666666666, 263.30499999999995], [24.122777777777774, 21.296111111111106, 19.32277777777777, 18.20277777777777, 17.936111111111096, 18.522777777777755, 19.962777777777752, 22.256111111111093, 25.402777777777743, 29.40277777777775, 34.25611111111106, 39.962777777777745, 46.522777777777726, 53.93611111111107, 62.20277777777775, 71.32277777777772, 81.29611111111103, 92.12277777777771, 103.8027777777777, 116.33611111111104, 129.72277777777768, 143.96277777777766, 159.05611111111102, 175.00277777777768, 191.8027777777777, 209.45611111111106, 227.96277777777772, 247.3227777777777, 267.53611111111104, 288.60277777777765, 310.5227777777777], [24.12277777777777, 23.002777777777773, 22.7361111111111, 23.322777777777773, 24.762777777777757, 27.0561111111111, 30.202777777777747, 34.20277777777776, 39.05611111111107, 44.76277777777776, 51.32277777777772, 58.736111111111086, 67.00277777777772, 76.12277777777774, 86.09611111111109, 96.92277777777772, 108.60277777777769, 121.13611111111105, 134.52277777777775, 148.7627777777777, 163.85611111111098, 179.8027777777777, 196.6027777777777, 214.256111111111, 232.76277777777773, 252.12277777777777, 272.33611111111105, 293.40277777777766, 315.3227777777777, 338.0961111111111, 361.72277777777765], [28.105000000000008, 28.691666666666688, 30.131666666666675, 32.425000000000026, 35.57166666666668, 39.571666666666694, 44.42500000000001, 50.1316666666667, 56.69166666666668, 64.10500000000005, 72.37166666666667, 81.4916666666667, 91.46500000000006, 102.29166666666671, 113.97166666666669, 126.50500000000005, 139.8916666666667, 154.13166666666672, 169.22500000000002, 185.17166666666668, 201.97166666666672, 219.62500000000003, 238.13166666666666, 257.4916666666667, 277.7050000000001, 298.77166666666676, 320.6916666666667, 343.46500000000015, 367.0916666666667, 391.5716666666667, 416.90500000000014], [36.06944444444444, 38.362777777777765, 41.50944444444444, 45.509444444444455, 50.36277777777778, 56.06944444444446, 62.629444444444445, 70.0427777777778, 78.30944444444444, 87.42944444444446, 97.40277777777777, 108.22944444444445, 119.90944444444446, 132.4427777777778, 145.82944444444445, 160.06944444444446, 175.16277777777776, 191.10944444444445, 207.90944444444446, 225.56277777777777, 244.06944444444443, 263.4294444444444, 283.6427777777778, 304.70944444444444, 326.6294444444445, 349.4027777777778, 373.0294444444445, 397.50944444444445, 422.8427777777779, 449.0294444444445, 476.06944444444446], [48.01611111111112, 52.01611111111111, 56.86944444444446, 62.576111111111146, 69.13611111111112, 76.54944444444448, 84.81611111111111, 93.93611111111115, 103.90944444444445, 114.73611111111114, 126.4161111111111, 138.94944444444448, 152.3361111111111, 166.57611111111115, 181.66944444444454, 197.61611111111114, 214.4161111111111, 232.06944444444446, 250.5761111111112, 269.93611111111113, 290.1494444444444, 311.2161111111111, 333.1361111111112, 355.9094444444445, 379.53611111111127, 404.0161111111113, 429.34944444444454, 455.5361111111111, 482.57611111111106, 510.46944444444455, 539.2161111111112], [63.945000000000036, 69.65166666666667, 76.2116666666667, 83.62500000000006, 91.8916666666667, 101.01166666666673, 110.98500000000003, 121.81166666666672, 133.49166666666667, 146.02500000000006, 159.4116666666667, 173.65166666666673, 188.74500000000006, 204.69166666666672, 221.49166666666673, 239.14500000000007, 257.6516666666667, 277.01166666666677, 297.2250000000001, 318.2916666666667, 340.2116666666667, 362.9850000000001, 386.6116666666667, 411.0916666666667, 436.42500000000007, 462.6116666666668, 489.65166666666676, 517.5450000000001, 546.291666666667, 575.8916666666668, 606.345], [83.85611111111112, 91.26944444444447, 99.53611111111111, 108.65611111111114, 118.62944444444445, 129.45611111111114, 141.13611111111112, 153.66944444444448, 167.0561111111111, 181.29611111111114, 196.38944444444442, 212.33611111111114, 229.13611111111118, 246.78944444444446, 265.29611111111114, 284.65611111111116, 304.86944444444447, 325.93611111111113, 347.8561111111111, 370.6294444444445, 394.2561111111111, 418.7361111111111, 444.0694444444444, 470.25611111111095, 497.29611111111114, 525.1894444444445, 553.9361111111114, 583.5361111111113, 613.9894444444444, 645.2961111111111, 677.4561111111111], [107.74944444444444, 116.86944444444438, 126.84277777777775, 137.66944444444445, 149.3494444444444, 161.8827777777778, 175.26944444444442, 189.50944444444445, 204.60277777777773, 220.54944444444442, 237.34944444444437, 255.00277777777774, 273.5094444444444, 292.8694444444444, 313.0827777777778, 334.1494444444444, 356.0694444444444, 378.8427777777778, 402.46944444444443, 426.9494444444444, 452.2827777777777, 478.4694444444443, 505.5094444444444, 533.4027777777777, 562.1494444444445, 591.7494444444444, 622.2027777777778, 653.5094444444444, 685.6694444444443, 718.6827777777778, 752.5494444444444], [135.625, 146.45166666666663, 158.13166666666666, 170.66500000000005, 184.05166666666665, 198.29166666666669, 213.38499999999996, 229.33166666666668, 246.13166666666663, 263.785, 282.29166666666663, 301.6516666666667, 321.86499999999995, 342.93166666666673, 364.85166666666674, 387.625, 411.25166666666655, 435.73166666666657, 461.06500000000005, 487.25166666666667, 514.2916666666665, 542.1850000000001, 570.9316666666667, 600.5316666666666, 630.9849999999999, 662.2916666666667, 694.4516666666667, 727.4649999999999, 761.3316666666667, 796.0516666666667, 831.625]]}],\n                        {\"template\": {\"data\": {\"bar\": [{\"error_x\": {\"color\": \"#2a3f5f\"}, \"error_y\": {\"color\": \"#2a3f5f\"}, \"marker\": {\"line\": {\"color\": \"#E5ECF6\", \"width\": 0.5}}, \"type\": \"bar\"}], \"barpolar\": [{\"marker\": {\"line\": {\"color\": \"#E5ECF6\", \"width\": 0.5}}, \"type\": \"barpolar\"}], \"carpet\": [{\"aaxis\": {\"endlinecolor\": \"#2a3f5f\", \"gridcolor\": \"white\", \"linecolor\": \"white\", \"minorgridcolor\": \"white\", \"startlinecolor\": \"#2a3f5f\"}, \"baxis\": {\"endlinecolor\": \"#2a3f5f\", \"gridcolor\": \"white\", \"linecolor\": \"white\", \"minorgridcolor\": \"white\", \"startlinecolor\": \"#2a3f5f\"}, \"type\": \"carpet\"}], \"choropleth\": [{\"colorbar\": {\"outlinewidth\": 0, \"ticks\": \"\"}, \"type\": \"choropleth\"}], \"contour\": [{\"colorbar\": {\"outlinewidth\": 0, \"ticks\": \"\"}, \"colorscale\": [[0.0, \"#0d0887\"], [0.1111111111111111, \"#46039f\"], [0.2222222222222222, \"#7201a8\"], [0.3333333333333333, \"#9c179e\"], [0.4444444444444444, \"#bd3786\"], [0.5555555555555556, \"#d8576b\"], [0.6666666666666666, \"#ed7953\"], [0.7777777777777778, \"#fb9f3a\"], [0.8888888888888888, \"#fdca26\"], [1.0, \"#f0f921\"]], \"type\": \"contour\"}], \"contourcarpet\": [{\"colorbar\": {\"outlinewidth\": 0, \"ticks\": \"\"}, \"type\": \"contourcarpet\"}], \"heatmap\": [{\"colorbar\": {\"outlinewidth\": 0, \"ticks\": \"\"}, \"colorscale\": [[0.0, \"#0d0887\"], [0.1111111111111111, \"#46039f\"], [0.2222222222222222, \"#7201a8\"], [0.3333333333333333, \"#9c179e\"], [0.4444444444444444, \"#bd3786\"], [0.5555555555555556, \"#d8576b\"], [0.6666666666666666, \"#ed7953\"], [0.7777777777777778, \"#fb9f3a\"], [0.8888888888888888, \"#fdca26\"], [1.0, \"#f0f921\"]], \"type\": \"heatmap\"}], \"heatmapgl\": [{\"colorbar\": {\"outlinewidth\": 0, \"ticks\": \"\"}, \"colorscale\": [[0.0, \"#0d0887\"], [0.1111111111111111, \"#46039f\"], [0.2222222222222222, \"#7201a8\"], [0.3333333333333333, \"#9c179e\"], [0.4444444444444444, \"#bd3786\"], [0.5555555555555556, \"#d8576b\"], [0.6666666666666666, \"#ed7953\"], [0.7777777777777778, \"#fb9f3a\"], [0.8888888888888888, \"#fdca26\"], [1.0, \"#f0f921\"]], \"type\": \"heatmapgl\"}], \"histogram\": [{\"marker\": {\"colorbar\": {\"outlinewidth\": 0, \"ticks\": \"\"}}, \"type\": \"histogram\"}], \"histogram2d\": [{\"colorbar\": {\"outlinewidth\": 0, \"ticks\": \"\"}, \"colorscale\": [[0.0, \"#0d0887\"], [0.1111111111111111, \"#46039f\"], [0.2222222222222222, \"#7201a8\"], [0.3333333333333333, \"#9c179e\"], [0.4444444444444444, \"#bd3786\"], [0.5555555555555556, \"#d8576b\"], [0.6666666666666666, \"#ed7953\"], [0.7777777777777778, \"#fb9f3a\"], [0.8888888888888888, \"#fdca26\"], [1.0, \"#f0f921\"]], \"type\": \"histogram2d\"}], \"histogram2dcontour\": [{\"colorbar\": {\"outlinewidth\": 0, \"ticks\": \"\"}, \"colorscale\": [[0.0, \"#0d0887\"], [0.1111111111111111, \"#46039f\"], [0.2222222222222222, \"#7201a8\"], [0.3333333333333333, \"#9c179e\"], [0.4444444444444444, \"#bd3786\"], [0.5555555555555556, \"#d8576b\"], [0.6666666666666666, \"#ed7953\"], [0.7777777777777778, \"#fb9f3a\"], [0.8888888888888888, \"#fdca26\"], [1.0, \"#f0f921\"]], \"type\": \"histogram2dcontour\"}], \"mesh3d\": [{\"colorbar\": {\"outlinewidth\": 0, \"ticks\": \"\"}, \"type\": \"mesh3d\"}], \"parcoords\": [{\"line\": {\"colorbar\": {\"outlinewidth\": 0, \"ticks\": \"\"}}, \"type\": \"parcoords\"}], \"pie\": [{\"automargin\": true, \"type\": \"pie\"}], \"scatter\": [{\"marker\": {\"colorbar\": {\"outlinewidth\": 0, \"ticks\": \"\"}}, \"type\": \"scatter\"}], \"scatter3d\": [{\"line\": {\"colorbar\": {\"outlinewidth\": 0, \"ticks\": \"\"}}, \"marker\": {\"colorbar\": {\"outlinewidth\": 0, \"ticks\": \"\"}}, \"type\": \"scatter3d\"}], \"scattercarpet\": [{\"marker\": {\"colorbar\": {\"outlinewidth\": 0, \"ticks\": \"\"}}, \"type\": \"scattercarpet\"}], \"scattergeo\": [{\"marker\": {\"colorbar\": {\"outlinewidth\": 0, \"ticks\": \"\"}}, \"type\": \"scattergeo\"}], \"scattergl\": [{\"marker\": {\"colorbar\": {\"outlinewidth\": 0, \"ticks\": \"\"}}, \"type\": \"scattergl\"}], \"scattermapbox\": [{\"marker\": {\"colorbar\": {\"outlinewidth\": 0, \"ticks\": \"\"}}, \"type\": \"scattermapbox\"}], \"scatterpolar\": [{\"marker\": {\"colorbar\": {\"outlinewidth\": 0, \"ticks\": \"\"}}, \"type\": \"scatterpolar\"}], \"scatterpolargl\": [{\"marker\": {\"colorbar\": {\"outlinewidth\": 0, \"ticks\": \"\"}}, \"type\": \"scatterpolargl\"}], \"scatterternary\": [{\"marker\": {\"colorbar\": {\"outlinewidth\": 0, \"ticks\": \"\"}}, \"type\": \"scatterternary\"}], \"surface\": [{\"colorbar\": {\"outlinewidth\": 0, \"ticks\": \"\"}, \"colorscale\": [[0.0, \"#0d0887\"], [0.1111111111111111, \"#46039f\"], [0.2222222222222222, \"#7201a8\"], [0.3333333333333333, \"#9c179e\"], [0.4444444444444444, \"#bd3786\"], [0.5555555555555556, \"#d8576b\"], [0.6666666666666666, \"#ed7953\"], [0.7777777777777778, \"#fb9f3a\"], [0.8888888888888888, \"#fdca26\"], [1.0, \"#f0f921\"]], \"type\": \"surface\"}], \"table\": [{\"cells\": {\"fill\": {\"color\": \"#EBF0F8\"}, \"line\": {\"color\": \"white\"}}, \"header\": {\"fill\": {\"color\": \"#C8D4E3\"}, \"line\": {\"color\": \"white\"}}, \"type\": \"table\"}]}, \"layout\": {\"annotationdefaults\": {\"arrowcolor\": \"#2a3f5f\", \"arrowhead\": 0, \"arrowwidth\": 1}, \"coloraxis\": {\"colorbar\": {\"outlinewidth\": 0, \"ticks\": \"\"}}, \"colorscale\": {\"diverging\": [[0, \"#8e0152\"], [0.1, \"#c51b7d\"], [0.2, \"#de77ae\"], [0.3, \"#f1b6da\"], [0.4, \"#fde0ef\"], [0.5, \"#f7f7f7\"], [0.6, \"#e6f5d0\"], [0.7, \"#b8e186\"], [0.8, \"#7fbc41\"], [0.9, \"#4d9221\"], [1, \"#276419\"]], \"sequential\": [[0.0, \"#0d0887\"], [0.1111111111111111, \"#46039f\"], [0.2222222222222222, \"#7201a8\"], [0.3333333333333333, \"#9c179e\"], [0.4444444444444444, \"#bd3786\"], [0.5555555555555556, \"#d8576b\"], [0.6666666666666666, \"#ed7953\"], [0.7777777777777778, \"#fb9f3a\"], [0.8888888888888888, \"#fdca26\"], [1.0, \"#f0f921\"]], \"sequentialminus\": [[0.0, \"#0d0887\"], [0.1111111111111111, \"#46039f\"], [0.2222222222222222, \"#7201a8\"], [0.3333333333333333, \"#9c179e\"], [0.4444444444444444, \"#bd3786\"], [0.5555555555555556, \"#d8576b\"], [0.6666666666666666, \"#ed7953\"], [0.7777777777777778, \"#fb9f3a\"], [0.8888888888888888, \"#fdca26\"], [1.0, \"#f0f921\"]]}, \"colorway\": [\"#636efa\", \"#EF553B\", \"#00cc96\", \"#ab63fa\", \"#FFA15A\", \"#19d3f3\", \"#FF6692\", \"#B6E880\", \"#FF97FF\", \"#FECB52\"], \"font\": {\"color\": \"#2a3f5f\"}, \"geo\": {\"bgcolor\": \"white\", \"lakecolor\": \"white\", \"landcolor\": \"#E5ECF6\", \"showlakes\": true, \"showland\": true, \"subunitcolor\": \"white\"}, \"hoverlabel\": {\"align\": \"left\"}, \"hovermode\": \"closest\", \"mapbox\": {\"style\": \"light\"}, \"paper_bgcolor\": \"white\", \"plot_bgcolor\": \"#E5ECF6\", \"polar\": {\"angularaxis\": {\"gridcolor\": \"white\", \"linecolor\": \"white\", \"ticks\": \"\"}, \"bgcolor\": \"#E5ECF6\", \"radialaxis\": {\"gridcolor\": \"white\", \"linecolor\": \"white\", \"ticks\": \"\"}}, \"scene\": {\"xaxis\": {\"backgroundcolor\": \"#E5ECF6\", \"gridcolor\": \"white\", \"gridwidth\": 2, \"linecolor\": \"white\", \"showbackground\": true, \"ticks\": \"\", \"zerolinecolor\": \"white\"}, \"yaxis\": {\"backgroundcolor\": \"#E5ECF6\", \"gridcolor\": \"white\", \"gridwidth\": 2, \"linecolor\": \"white\", \"showbackground\": true, \"ticks\": \"\", \"zerolinecolor\": \"white\"}, \"zaxis\": {\"backgroundcolor\": \"#E5ECF6\", \"gridcolor\": \"white\", \"gridwidth\": 2, \"linecolor\": \"white\", \"showbackground\": true, \"ticks\": \"\", \"zerolinecolor\": \"white\"}}, \"shapedefaults\": {\"line\": {\"color\": \"#2a3f5f\"}}, \"ternary\": {\"aaxis\": {\"gridcolor\": \"white\", \"linecolor\": \"white\", \"ticks\": \"\"}, \"baxis\": {\"gridcolor\": \"white\", \"linecolor\": \"white\", \"ticks\": \"\"}, \"bgcolor\": \"#E5ECF6\", \"caxis\": {\"gridcolor\": \"white\", \"linecolor\": \"white\", \"ticks\": \"\"}}, \"title\": {\"x\": 0.05}, \"xaxis\": {\"automargin\": true, \"gridcolor\": \"white\", \"linecolor\": \"white\", \"ticks\": \"\", \"title\": {\"standoff\": 15}, \"zerolinecolor\": \"white\", \"zerolinewidth\": 2}, \"yaxis\": {\"automargin\": true, \"gridcolor\": \"white\", \"linecolor\": \"white\", \"ticks\": \"\", \"title\": {\"standoff\": 15}, \"zerolinecolor\": \"white\", \"zerolinewidth\": 2}}}},\n                        {\"responsive\": true}\n                    ).then(function(){\n                            \nvar gd = document.getElementById('fd119a3d-cdb3-4bf8-83bd-c2c4015e20a0');\nvar x = new MutationObserver(function (mutations, observer) {{\n        var display = window.getComputedStyle(gd).display;\n        if (!display || display === 'none') {{\n            console.log([gd, 'removed!']);\n            Plotly.purge(gd);\n            observer.disconnect();\n        }}\n}});\n\n// Listen for the removal of the full notebook cells\nvar notebookContainer = gd.closest('#notebook-container');\nif (notebookContainer) {{\n    x.observe(notebookContainer, {childList: true});\n}}\n\n// Listen for the clearing of the current output cell\nvar outputEl = gd.closest('.output');\nif (outputEl) {{\n    x.observe(outputEl, {childList: true});\n}}\n\n                        })\n                };\n                });\n            </script>\n        </div>"
     },
     "metadata": {},
     "output_type": "display_data"
    }
   ],
   "source": [
    "contour = Graph()\n",
    "contour.plot3DArray([[10], [4], [0]], \"minima\")\n",
    "contour.plot3DSurface(\n",
    "    CostFunction(dataset).squaredError,\n",
    "    -11, 21, 31\n",
    ")\n",
    "contour.render()"
   ],
   "metadata": {
    "collapsed": false,
    "pycharm": {
     "name": "#%%\n"
    }
   }
  },
  {
   "cell_type": "markdown",
   "source": [
    "### Side note: Contour line\n",
    "\n",
    "The contour line is another way to plot our cost function where we are able to plot it in 2D which is easier to visualize.\n",
    "\n",
    "The resulting graph shows curve of \"level\" of errors, and the minima for the cost function is at the middle of those curves."
   ],
   "metadata": {
    "collapsed": false
   }
  },
  {
   "cell_type": "code",
   "execution_count": 49,
   "metadata": {
    "pycharm": {
     "name": "#%%\n"
    }
   },
   "outputs": [
    {
     "data": {
      "application/vnd.plotly.v1+json": {
       "config": {
        "linkText": "Export to plot.ly",
        "plotlyServerURL": "https://plot.ly",
        "showLink": false
       },
       "data": [
        {
         "mode": "markers",
         "name": "minima",
         "type": "scatter",
         "x": [
          10
         ],
         "y": [
          4
         ]
        },
        {
         "contours": {
          "coloring": "lines",
          "labelfont": {
           "color": "white",
           "size": 12
          },
          "showlabels": true
         },
         "line": {
          "width": 2
         },
         "type": "contour",
         "x": [
          0.0,
          0.358974358974359,
          0.717948717948718,
          1.0769230769230769,
          1.435897435897436,
          1.794871794871795,
          2.1538461538461537,
          2.5128205128205128,
          2.871794871794872,
          3.230769230769231,
          3.58974358974359,
          3.948717948717949,
          4.3076923076923075,
          4.666666666666667,
          5.0256410256410255,
          5.384615384615385,
          5.743589743589744,
          6.102564102564102,
          6.461538461538462,
          6.82051282051282,
          7.17948717948718,
          7.538461538461538,
          7.897435897435898,
          8.256410256410257,
          8.615384615384615,
          8.974358974358974,
          9.333333333333334,
          9.692307692307692,
          10.051282051282051,
          10.41025641025641,
          10.76923076923077,
          11.128205128205128,
          11.487179487179487,
          11.846153846153847,
          12.205128205128204,
          12.564102564102564,
          12.923076923076923,
          13.282051282051283,
          13.64102564102564,
          14.0
         ],
         "y": [
          0.0,
          0.358974358974359,
          0.717948717948718,
          1.0769230769230769,
          1.435897435897436,
          1.794871794871795,
          2.1538461538461537,
          2.5128205128205128,
          2.871794871794872,
          3.230769230769231,
          3.58974358974359,
          3.948717948717949,
          4.3076923076923075,
          4.666666666666667,
          5.0256410256410255,
          5.384615384615385,
          5.743589743589744,
          6.102564102564102,
          6.461538461538462,
          6.82051282051282,
          7.17948717948718,
          7.538461538461538,
          7.897435897435898,
          8.256410256410257,
          8.615384615384615,
          8.974358974358974,
          9.333333333333334,
          9.692307692307692,
          10.051282051282051,
          10.41025641025641,
          10.76923076923077,
          11.128205128205128,
          11.487179487179487,
          11.846153846153847,
          12.205128205128204,
          12.564102564102564,
          12.923076923076923,
          13.282051282051283,
          13.64102564102564,
          14.0
         ],
         "z": [
          [
           125.5,
           120.70216962524655,
           116.00098619329387,
           111.39644970414201,
           106.88856015779095,
           102.47731755424061,
           98.16272189349112,
           93.94477317554241,
           89.82347140039448,
           85.79881656804734,
           81.87080867850098,
           78.03944773175542,
           74.30473372781066,
           70.66666666666666,
           67.12524654832347,
           63.68047337278106,
           60.33234714003944,
           57.08086785009863,
           53.926035502958584,
           50.86785009861933,
           47.906311637080876,
           45.0414201183432,
           42.27317554240631,
           39.60157790927021,
           37.02662721893491,
           34.548323471400394,
           32.166666666666664,
           29.88165680473373,
           27.69329388560158,
           25.601577909270215,
           23.606508875739642,
           21.708086785009865,
           19.90631163708087,
           18.20118343195266,
           16.592702169625248,
           15.08086785009862,
           13.66568047337278,
           12.34714003944773,
           11.125246548323474,
           10.0
          ],
          [
           115.31525312294542,
           110.71071663379357,
           106.20282708744247,
           101.79158448389218,
           97.47698882314268,
           93.25904010519395,
           89.13773833004602,
           85.11308349769888,
           81.18507560815253,
           77.35371466140697,
           73.6190006574622,
           69.98093359631821,
           66.43951347797503,
           62.994740302432604,
           59.646614069691,
           56.395134779750165,
           53.24030243261012,
           50.18211702827088,
           47.220578566732414,
           44.35568704799474,
           41.58744247205785,
           38.91584483892177,
           36.34089414858646,
           33.86259040105193,
           31.480933596318216,
           29.195923734385275,
           27.00756081525312,
           24.915844838921767,
           22.920775805391195,
           21.022353714661406,
           19.22057856673241,
           17.51545036160421,
           15.906969099276793,
           14.395134779750162,
           12.97994740302433,
           11.661406969099279,
           10.439513477975016,
           9.314266929651543,
           8.285667324128866,
           7.35371466140697
          ],
          [
           105.58152531229456,
           101.17028270874425,
           96.85568704799473,
           92.63773833004602,
           88.51643655489809,
           84.49178172255095,
           80.5637738330046,
           76.73241288625906,
           72.99769888231427,
           69.35963182117027,
           65.81821170282709,
           62.37343852728468,
           59.02531229454306,
           55.77383300460224,
           52.619000657462195,
           49.56081525312294,
           46.59927679158449,
           43.734385272846815,
           40.96614069690993,
           38.29454306377383,
           35.71959237343852,
           33.24128862590401,
           30.859631821170282,
           28.57462195923734,
           26.386259040105198,
           24.294543063773837,
           22.29947403024326,
           20.401051939513483,
           18.599276791584487,
           16.89414858645628,
           15.285667324128859,
           13.773833004602238,
           12.358645627876399,
           11.040105193951348,
           9.81821170282709,
           8.692965154503618,
           7.664365548980934,
           6.732412886259039,
           5.897107166337937,
           5.158448389217621
          ],
          [
           96.29881656804734,
           92.08086785009861,
           87.95956607495069,
           83.93491124260356,
           80.0069033530572,
           76.17554240631165,
           72.44082840236686,
           68.80276134122288,
           65.26134122287968,
           61.816568047337284,
           58.46844181459565,
           55.21696252465484,
           52.062130177514796,
           49.00394477317554,
           46.04240631163708,
           43.1775147928994,
           40.409270216962526,
           37.73767258382644,
           35.162721893491124,
           32.68441814595661,
           30.302761341222876,
           28.01775147928994,
           25.829388560157795,
           23.737672583826424,
           21.74260355029586,
           19.844181459566077,
           18.042406311637077,
           16.337278106508876,
           14.728796844181463,
           13.21696252465483,
           11.801775147928993,
           10.483234714003949,
           9.261341222879683,
           8.136094674556213,
           7.107495069033535,
           6.175542406311637,
           5.340236686390534,
           4.6015779092702145,
           3.9595660749506902,
           3.4142011834319534
          ],
          [
           87.46712689020382,
           83.44247205785669,
           79.51446416831033,
           75.68310322156476,
           71.94838921761999,
           68.310322156476,
           64.76890203813281,
           61.3241288625904,
           57.976002629848786,
           54.724523339907954,
           51.56969099276792,
           48.51150558842866,
           45.54996712689021,
           42.68507560815253,
           39.916831032215654,
           37.245233399079545,
           34.67028270874425,
           32.191978961209735,
           29.810322156475998,
           27.52531229454307,
           25.336949375410914,
           23.245233399079552,
           21.25016436554898,
           19.35174227481919,
           17.549967126890202,
           15.844838921762,
           14.236357659434578,
           12.724523339907956,
           11.309335963182118,
           9.990795529257065,
           8.768902038132806,
           7.643655489809339,
           6.615055884286653,
           5.68310322156476,
           4.847797501643658,
           4.109138724523339,
           3.4671268902038137,
           2.9217619986850747,
           2.473044049967127,
           2.120973044049968
          ],
          [
           79.08645627876396,
           75.25509533201841,
           71.52038132807364,
           67.88231426692965,
           64.34089414858646,
           60.896120973044056,
           57.54799474030243,
           54.29651545036161,
           51.14168310322155,
           48.08349769888231,
           45.12195923734386,
           42.25706771860618,
           39.48882314266929,
           36.8172255095332,
           34.242274819197895,
           31.763971071663377,
           29.382314266929654,
           27.097304404996713,
           24.90894148586456,
           22.817225509533202,
           20.822156476002625,
           18.923734385272844,
           17.12195923734385,
           15.416831032215644,
           13.808349769888233,
           12.296515450361603,
           10.881328073635764,
           9.562787639710718,
           8.340894148586456,
           7.215647600262983,
           6.187047994740302,
           5.255095332018412,
           4.419789612097304,
           3.6811308349769853,
           3.039119000657461,
           2.4937541091387248,
           2.0450361604207763,
           1.6929651545036153,
           1.4375410913872457,
           1.2787639710716623
          ],
          [
           71.15680473372782,
           67.51873767258382,
           63.977317554240635,
           60.532544378698226,
           57.184418145956606,
           53.93293885601578,
           50.778106508875744,
           47.71992110453649,
           44.75838264299803,
           41.89349112426035,
           39.125246548323474,
           36.45364891518737,
           33.87869822485207,
           31.400394477317555,
           29.01873767258383,
           26.733727810650883,
           24.545364891518737,
           22.45364891518738,
           20.458579881656803,
           18.560157790927022,
           16.758382642998022,
           15.053254437869823,
           13.444773175542405,
           11.932938856015774,
           10.517751479289942,
           9.199211045364892,
           7.97731755424063,
           6.8520710059171615,
           5.823471400394482,
           4.891518737672582,
           4.056213017751476,
           3.3175542406311633,
           2.6755424063116364,
           2.1301775147929005,
           1.6814595660749532,
           1.3293885601577908,
           1.0739644970414188,
           0.9151873767258376,
           0.8530571992110451,
           0.8875739644970417
          ],
          [
           63.678172255095326,
           60.23339907955293,
           56.885272846811304,
           53.633793556870486,
           50.47896120973044,
           47.42077580539119,
           44.459237343852735,
           41.594345825115056,
           38.826101249178166,
           36.15450361604208,
           33.57955292570678,
           31.101249178172253,
           28.71959237343853,
           26.43458251150559,
           24.246219592373443,
           22.154503616042074,
           20.15943458251151,
           18.261012491781727,
           16.459237343852728,
           14.754109138724527,
           13.145627876397105,
           11.633793556870481,
           10.21860618014464,
           8.900065746219589,
           7.678172255095333,
           6.5529257067718625,
           5.5243261012491764,
           4.592373438527287,
           3.757067718606179,
           3.0184089414858644,
           2.3763971071663383,
           1.8310322156476024,
           1.3823142669296524,
           1.0302432610124903,
           0.7748191978961204,
           0.6160420775805391,
           0.5539119000657469,
           0.5884286653517423,
           0.7195923734385268,
           0.9474030243260999
          ],
          [
           56.65055884286654,
           53.39907955292571,
           50.24424720578567,
           47.186061801446414,
           44.22452333990796,
           41.35963182117028,
           38.5913872452334,
           35.91978961209731,
           33.344838921762,
           30.866535174227483,
           28.484878369493753,
           26.199868507560815,
           24.011505588428665,
           21.919789612097304,
           19.924720578566735,
           18.02629848783695,
           16.224523339907957,
           14.519395134779751,
           12.910913872452335,
           11.399079552925711,
           9.983892176199866,
           8.66535174227482,
           7.44345825115056,
           6.318211702827086,
           5.289612097304406,
           4.357659434582509,
           3.5223537146614063,
           2.7836949375410933,
           2.1416831032215664,
           1.5963182117028274,
           1.1476002629848763,
           0.7955292570677179,
           0.5401051939513482,
           0.3813280736357666,
           0.3191978961209738,
           0.35371466140696917,
           0.48487836949375446,
           0.7126890203813278,
           1.0371466140696894,
           1.4582511505588431
          ],
          [
           50.073964497041416,
           47.01577909270216,
           44.05424063116371,
           41.18934911242604,
           38.421104536489146,
           35.74950690335305,
           33.17455621301775,
           30.69625246548323,
           28.314595660749504,
           26.029585798816566,
           23.841222879684416,
           21.749506903353055,
           19.754437869822485,
           17.8560157790927,
           16.054240631163708,
           14.349112426035497,
           12.740631163708084,
           11.22879684418146,
           9.81360946745562,
           8.495069033530571,
           7.273175542406309,
           6.147928994082837,
           5.119329388560156,
           4.187376725838263,
           3.3520710059171606,
           2.6134122287968435,
           1.9714003944773142,
           1.4260355029585785,
           0.9773175542406314,
           0.6252465483234713,
           0.36982248520709937,
           0.21104536489151832,
           0.14891518737672543,
           0.18343195266272155,
           0.31459566074950596,
           0.5424063116370811,
           0.8668639053254446,
           1.287968441814598,
           1.8057199211045372,
           2.420118343195265
          ],
          [
           43.94838921761999,
           41.08349769888231,
           38.315253122945435,
           35.64365548980933,
           33.068704799474034,
           30.59040105193951,
           28.20874424720578,
           25.923734385272844,
           23.7353714661407,
           21.643655489809333,
           19.64858645627876,
           17.750164365548983,
           15.948389217619987,
           14.243261012491777,
           12.634779750164366,
           11.122945430637737,
           9.707758053911896,
           8.389217619986852,
           7.167324128862586,
           6.042077580539117,
           5.0134779750164356,
           4.081525312294543,
           3.246219592373438,
           2.507560815253119,
           1.8655489809335948,
           1.3201840894148584,
           0.8714661406969094,
           0.5193951347797509,
           0.2639710716633794,
           0.10519395134779676,
           0.04306377383300446,
           0.07758053911900044,
           0.20874424720578574,
           0.43655489809335984,
           0.7610124917817216,
           1.1821170282708753,
           1.6998685075608166,
           2.3142669296515463,
           3.025312294543063,
           3.833004602235373
          ],
          [
           38.27383300460224,
           35.602235371466136,
           33.02728468113084,
           30.54898093359632,
           28.16732412886259,
           25.882314266929647,
           23.6939513477975,
           21.60223537146614,
           19.607166337935567,
           17.708744247205786,
           15.906969099276793,
           14.201840894148585,
           12.593359631821173,
           11.081525312294536,
           9.666337935568704,
           8.347797501643651,
           7.125904010519392,
           6.000657462195924,
           4.972057856673241,
           4.040105193951346,
           3.204799474030244,
           2.466140696909926,
           1.8241288625904,
           1.2787639710716632,
           0.830046022353716,
           0.4779750164365545,
           0.22255095332018282,
           0.06377383300460193,
           0.0016436554898093243,
           0.036160420775805294,
           0.167324128862591,
           0.3951347797501643,
           0.7195923734385289,
           1.1406969099276802,
           1.6584483892176194,
           2.2728468113083466,
           2.98389217619987,
           3.7915844838921826,
           4.6959237343852775,
           5.69690992767916
          ],
          [
           33.05029585798817,
           30.57199211045365,
           28.190335305719927,
           25.905325443786985,
           23.71696252465483,
           21.625246548323467,
           19.6301775147929,
           17.731755424063117,
           15.92998027613412,
           14.224852071005918,
           12.6163708086785,
           11.104536489151876,
           9.689349112426036,
           8.370808678500985,
           7.148915187376728,
           6.023668639053255,
           4.995069033530573,
           4.063116370808681,
           3.2278106508875726,
           2.489151873767259,
           1.8471400394477313,
           1.3017751479289947,
           0.8530571992110462,
           0.5009861932938843,
           0.2455621301775147,
           0.08678500986193297,
           0.024654832347139867,
           0.059171597633135675,
           0.19033530571992063,
           0.418145956607496,
           0.7426035502958591,
           1.1637080867850096,
           1.6814595660749498,
           2.2958579881656798,
           3.0069033530571954,
           3.814595660749508,
           4.718934911242605,
           5.719921104536491,
           6.817554240631161,
           8.011834319526624
          ],
          [
           28.27777777777777,
           25.992767915844837,
           23.80440499671269,
           21.712689020381326,
           19.717619986850753,
           17.81919789612097,
           16.01742274819198,
           14.312294543063777,
           12.703813280736355,
           11.191978961209728,
           9.77679158448389,
           8.45825115055884,
           7.236357659434582,
           6.111111111111109,
           5.082511505588427,
           4.150558842866533,
           3.31525312294543,
           2.5765943458251144,
           1.9345825115055888,
           1.3892176199868507,
           0.9404996712689013,
           0.5884286653517423,
           0.3330046022353704,
           0.17422748191978935,
           0.11209730440499655,
           0.1466140696909926,
           0.2777777777777788,
           0.505588428665352,
           0.8300460223537155,
           1.251150558842866,
           1.7689020381328084,
           2.383300460223536,
           3.0943458251150577,
           3.902038132807368,
           4.806377383300461,
           5.807363576594343,
           6.904996712689021,
           8.09927679158449,
           9.390203813280738,
           10.777777777777782
          ],
          [
           23.95627876397107,
           21.864562787639713,
           19.86949375410914,
           17.97107166337936,
           16.169296515450363,
           14.464168310322155,
           12.855687047994742,
           11.343852728468113,
           9.928665351742273,
           8.61012491781723,
           7.388231426692965,
           6.262984878369494,
           5.234385272846815,
           4.3024326101249155,
           3.4671268902038137,
           2.728468113083498,
           2.08645627876397,
           1.5410913872452339,
           1.0923734385272852,
           0.7403024326101245,
           0.48487836949375457,
           0.32610124917817185,
           0.2639710716633793,
           0.298487836949376,
           0.42965154503616054,
           0.6574621959237342,
           0.9819197896120972,
           1.4030243261012476,
           1.9207758053911892,
           2.5351742274819205,
           3.24621959237344,
           4.053911900065744,
           4.958251150558841,
           5.959237343852729,
           7.0568704799474,
           8.251150558842868,
           9.54207758053912,
           10.929651545036162,
           12.413872452333985,
           13.99474030243261
          ],
          [
           20.085798816568047,
           18.187376725838263,
           16.385601577909267,
           14.680473372781066,
           13.07199211045365,
           11.56015779092702,
           10.144970414201186,
           8.826429980276135,
           7.604536489151872,
           6.4792899408284015,
           5.450690335305719,
           4.518737672583825,
           3.6834319526627217,
           2.944773175542405,
           2.302761341222879,
           1.7573964497041414,
           1.308678500986193,
           0.9566074950690333,
           0.7011834319526616,
           0.5424063116370811,
           0.48027613412228704,
           0.5147928994082843,
           0.645956607495069,
           0.8737672583826429,
           1.1982248520710048,
           1.6193293885601578,
           2.1370808678501003,
           2.7514792899408276,
           3.4625246548323467,
           4.270216962524655,
           5.174556213017754,
           6.175542406311635,
           7.273175542406313,
           8.467455621301779,
           9.758382642998026,
           11.14595660749507,
           12.630177514792898,
           14.211045364891524,
           15.888560157790927,
           17.662721893491128
          ],
          [
           16.666337935568702,
           14.961209730440501,
           13.352728468113085,
           11.84089414858646,
           10.42570677186062,
           9.107166337935569,
           7.88527284681131,
           6.760026298487837,
           5.7314266929651545,
           4.79947403024326,
           3.964168310322156,
           3.22550953320184,
           2.583497698882314,
           2.0381328073635765,
           1.589414858645628,
           1.2373438527284677,
           0.9819197896120975,
           0.8231426692965147,
           0.7610124917817234,
           0.7955292570677184,
           0.9266929651545028,
           1.1545036160420759,
           1.4789612097304408,
           1.9000657462195945,
           2.417817225509533,
           3.0322156476002613,
           3.7432610124917796,
           4.550953320184084,
           5.455292570677186,
           6.456278763971074,
           7.553911900065747,
           8.748191978961206,
           10.039119000657458,
           11.426692965154508,
           12.910913872452333,
           14.491781722550954,
           16.16929651545036,
           17.94345825115056,
           19.814266929651538,
           21.781722550953322
          ],
          [
           13.697896120973049,
           12.18606180144642,
           10.770874424720581,
           9.452333990795532,
           8.230440499671271,
           7.105193951347799,
           6.076594345825118,
           5.144641683103224,
           4.309335963182117,
           3.570677186061804,
           2.928665351742276,
           2.3833004602235377,
           1.9345825115055901,
           1.582511505588428,
           1.3270874424720578,
           1.1683103221564763,
           1.1061801446416828,
           1.1406969099276785,
           1.271860618014462,
           1.4996712689020377,
           1.8241288625903993,
           2.2452333990795537,
           2.7629848783694926,
           3.3773833004602203,
           4.088428665351736,
           4.896120973044048,
           5.80046022353715,
           6.801446416831032,
           7.899079552925704,
           9.093359631821162,
           10.384286653517423,
           11.77186061801446,
           13.2560815253123,
           14.836949375410914,
           16.514464168310315,
           18.288625904010505,
           20.1594345825115,
           22.12689020381329,
           24.190992767915848,
           26.351742274819195
          ],
          [
           11.180473372781064,
           9.861932938856015,
           8.640039447731754,
           7.514792899408284,
           6.4861932938856,
           5.554240631163706,
           4.718934911242605,
           3.9802761341222874,
           3.33826429980276,
           2.7928994082840233,
           2.3441814595660757,
           1.9921104536489154,
           1.7366863905325445,
           1.5779092702169644,
           1.5157790927021708,
           1.5502958579881683,
           1.6814595660749536,
           1.9092702169625264,
           2.2337278106508887,
           2.6548323471400432,
           3.1725838264299817,
           3.786982248520714,
           4.4980276134122334,
           5.305719921104541,
           6.210059171597635,
           7.211045364891524,
           8.3086785009862,
           9.50295857988166,
           10.793885601577912,
           12.181459566074956,
           13.665680473372792,
           15.246548323471405,
           16.924063116370817,
           18.698224852071014,
           20.569033530571993,
           22.536489151873774,
           24.600591715976336,
           26.761341222879697,
           29.018737672583832,
           31.37278106508876
          ],
          [
           9.11406969099277,
           7.988823142669299,
           6.960223537146615,
           6.028270874424723,
           5.192965154503617,
           4.4543063773833005,
           3.8122945430637745,
           3.2669296515450372,
           2.8182117028270883,
           2.4661406969099264,
           2.2107166337935564,
           2.0519395134779734,
           1.9898093359631805,
           2.024326101249178,
           2.155489809335961,
           2.3833004602235377,
           2.707758053911899,
           3.12886259040105,
           3.6466140696909886,
           4.26101249178172,
           4.9720578566732385,
           5.779750164365549,
           6.684089414858645,
           7.685075608152527,
           8.782708744247198,
           9.976988823142666,
           11.267915844838924,
           12.65548980933596,
           14.139710716633791,
           15.720578566732407,
           17.398093359631815,
           19.17225509533201,
           21.043063773833005,
           23.010519395134782,
           25.07462195923734,
           27.235371466140684,
           29.49276791584484,
           31.84681130834977,
           34.29750164365549,
           36.844838921762
          ],
          [
           7.498685075608152,
           6.5667324128862585,
           5.7314266929651545,
           4.992767915844838,
           4.350756081525312,
           3.805391190006576,
           3.356673241288625,
           3.0046022353714648,
           2.749178172255097,
           2.5904010519395135,
           2.5282708744247224,
           2.5627876397107183,
           2.693951347797502,
           2.9217619986850787,
           3.2462195923734414,
           3.667324128862595,
           4.185075608152535,
           4.799474030243262,
           5.51051939513478,
           6.3182117028270905,
           7.222550953320187,
           8.223537146614076,
           9.321170282708747,
           10.515450361604213,
           11.80637738330046,
           13.193951347797508,
           14.678172255095344,
           16.259040105193957,
           17.93655489809336,
           19.71071663379356,
           21.581525312294545,
           23.548980933596333,
           25.613083497698895,
           27.77383300460224,
           30.031229454306374,
           32.38527284681131,
           34.835963182117055,
           37.38330046022356,
           40.027284681130844,
           42.767915844838924
          ],
          [
           6.334319526627219,
           5.595660749506903,
           4.953648915187378,
           4.408284023668639,
           3.959566074950689,
           3.607495069033529,
           3.352071005917159,
           3.193293885601575,
           3.131163708086783,
           3.1656804733727775,
           3.2968441814595657,
           3.524654832347138,
           3.8491124260354983,
           4.270216962524654,
           4.787968441814592,
           5.402366863905325,
           6.113412228796843,
           6.921104536489147,
           7.825443786982243,
           8.826429980276131,
           9.924063116370803,
           11.118343195266268,
           12.409270216962522,
           13.796844181459562,
           15.281065088757387,
           16.861932938856008,
           18.539447731755423,
           20.313609467455613,
           22.184418145956602,
           24.151873767258376,
           26.215976331360952,
           28.376725838264278,
           30.634122287968438,
           32.98816568047337,
           35.43885601577908,
           37.98619329388559,
           40.63017751479288,
           43.370808678500985,
           46.208086785009854,
           49.14201183431952
          ],
          [
           5.620973044049967,
           5.075608152531229,
           4.626890203813282,
           4.274819197896122,
           4.019395134779749,
           3.860618014464169,
           3.798487836949376,
           3.83300460223537,
           3.964168310322158,
           4.191978961209731,
           4.516436554898098,
           4.9375410913872475,
           5.455292570677186,
           6.069690992767921,
           6.780736357659436,
           7.58842866535175,
           8.492767915844844,
           9.493754109138727,
           10.591387245233397,
           11.785667324128868,
           13.076594345825118,
           14.464168310322165,
           15.948389217619992,
           17.529257067718607,
           19.20677186061801,
           20.980933596318227,
           22.851742274819216,
           24.819197896120983,
           26.88330046022354,
           29.044049967126888,
           31.301446416831055,
           33.655489809335954,
           36.1061801446417,
           38.6535174227482,
           41.297501643655494,
           44.03813280736357,
           46.87541091387244,
           49.80933596318215,
           52.83990795529259,
           55.96712689020382
          ],
          [
           5.358645627876398,
           5.0065746219592375,
           4.751150558842871,
           4.592373438527288,
           4.530243261012494,
           4.564760026298492,
           4.6959237343852775,
           4.923734385272851,
           5.248191978961216,
           5.669296515450366,
           6.187047994740313,
           6.801446416831041,
           7.512491781722557,
           8.320184089414871,
           9.224523339907964,
           10.225509533201855,
           11.323142669296528,
           12.51742274819199,
           13.808349769888242,
           15.195923734385289,
           16.680144641683114,
           18.261012491781738,
           19.938527284681147,
           21.712689020381344,
           23.583497698882326,
           25.55095332018412,
           27.615055884286676,
           29.775805391190023,
           32.033201840894165,
           34.3872452333991,
           36.837935568704836,
           39.38527284681132,
           42.02925706771863,
           44.76988823142672,
           47.60716633793558,
           50.541091387245245,
           53.571663379355705,
           56.69888231426696,
           59.92274819197898,
           63.24326101249181
          ],
          [
           5.54733727810651,
           5.388560157790927,
           5.326429980276137,
           5.360946745562131,
           5.492110453648914,
           5.719921104536491,
           6.044378698224852,
           6.465483234714002,
           6.983234714003946,
           7.597633136094673,
           8.308678500986197,
           9.116370808678502,
           10.020710059171595,
           11.021696252465487,
           12.119329388560159,
           13.313609467455626,
           14.604536489151878,
           15.992110453648914,
           17.476331360946745,
           19.057199211045358,
           20.73471400394478,
           22.50887573964497,
           24.379684418145956,
           26.347140039447737,
           28.411242603550292,
           30.571992110453635,
           32.829388560157795,
           35.18343195266272,
           37.63412228796844,
           40.18145956607495,
           42.82544378698224,
           45.56607495069035,
           48.40335305719921,
           51.337278106508876,
           54.367850098619314,
           57.49506903353056,
           60.71893491124263,
           64.03944773175543,
           67.45660749506902,
           70.97041420118342
          ],
          [
           6.187047994740302,
           6.221564760026297,
           6.352728468113087,
           6.580539119000658,
           6.904996712689018,
           7.326101249178174,
           7.8438527284681125,
           8.458251150558846,
           9.169296515450364,
           9.976988823142669,
           10.881328073635771,
           11.882314266929654,
           12.979947403024322,
           14.174227481919795,
           15.465154503616043,
           16.852728468113085,
           18.33694937541091,
           19.917817225509523,
           21.595332018408943,
           23.369493754109143,
           25.240302432610125,
           27.2077580539119,
           29.271860618014454,
           31.432610124917826,
           33.69000657462196,
           36.044049967126895,
           38.49474030243261,
           41.042077580539114,
           43.68606180144643,
           46.426692965154515,
           49.26397107166339,
           52.19789612097304,
           55.228468113083494,
           58.35568704799476,
           61.57955292570675,
           64.9000657462196,
           68.3172255095332,
           71.83103221564761,
           75.44148586456278,
           79.14858645627875
          ],
          [
           7.277777777777777,
           7.505588428665348,
           7.830046022353717,
           8.251150558842866,
           8.768902038132804,
           9.38330046022354,
           10.094345825115056,
           10.902038132807363,
           11.806377383300463,
           12.807363576594344,
           13.904996712689027,
           15.099276791584487,
           16.390203813280735,
           17.777777777777775,
           19.261998685075596,
           20.84286653517423,
           22.52038132807364,
           24.294543063773837,
           26.165351742274822,
           28.13280736357659,
           30.19690992767917,
           32.357659434582516,
           34.61505588428666,
           36.96909927679159,
           39.419789612097304,
           41.96712689020383,
           44.61111111111112,
           47.3517422748192,
           50.18902038132808,
           53.12294543063774,
           56.153517422748216,
           59.28073635765942,
           62.50460223537147,
           65.8251150558843,
           69.2422748191979,
           72.7560815253123,
           76.36653517422747,
           80.07363576594348,
           83.87738330046022,
           87.7777777777778
          ],
          [
           8.819526627218929,
           9.240631163708077,
           9.758382642998024,
           10.372781065088748,
           11.083826429980263,
           11.891518737672577,
           12.79585798816567,
           13.796844181459555,
           14.894477317554232,
           16.0887573964497,
           17.37968441814595,
           18.767258382642986,
           20.25147928994081,
           21.832347140039428,
           23.509861932938854,
           25.284023668639044,
           27.15483234714003,
           29.122287968441796,
           31.18639053254436,
           33.34714003944771,
           35.60453648915187,
           37.95857988165679,
           40.40927021696251,
           42.95660749506902,
           45.60059171597631,
           48.34122287968438,
           51.17850098619328,
           54.112426035502935,
           57.14299802761339,
           60.270216962524636,
           63.49408284023666,
           66.81459566074949,
           70.2317554240631,
           73.7455621301775,
           77.35601577909267,
           81.06311637080864,
           84.86686390532543,
           88.76725838264298,
           92.76429980276131,
           96.85798816568047
          ],
          [
           10.812294543063773,
           11.426692965154498,
           12.137738330046025,
           12.945430637738326,
           13.84976988823142,
           14.850756081525313,
           15.948389217619983,
           17.142669296515443,
           18.43359631821169,
           19.82117028270875,
           21.305391190006578,
           22.886259040105195,
           24.563773833004596,
           26.33793556870479,
           28.208744247205793,
           30.17619986850757,
           32.24030243261013,
           34.40105193951347,
           36.658448389217604,
           39.01249178172254,
           41.463182117028275,
           44.01051939513479,
           46.65450361604208,
           49.39513477975015,
           52.23241288625901,
           55.166337935568684,
           58.19690992767917,
           61.3241288625904,
           64.54799474030243,
           67.86850756081523,
           71.28566732412885,
           74.79947403024327,
           78.40992767915847,
           82.11702827087443,
           85.92077580539117,
           89.82117028270872,
           93.81821170282709,
           97.91190006574624,
           102.10223537146615,
           106.38921761998685
          ],
          [
           13.2560815253123,
           14.063773833004603,
           14.96811308349771,
           15.9690992767916,
           17.06673241288627,
           18.26101249178173,
           19.55193951347798,
           20.939513477975023,
           22.423734385272848,
           24.004602235371483,
           25.68211702827089,
           27.45627876397108,
           29.327087442472063,
           31.29454306377384,
           33.35864562787642,
           35.51939513477977,
           37.77679158448391,
           40.13083497698883,
           42.58152531229456,
           45.12886259040105,
           47.77284681130837,
           50.51347797501646,
           53.350756081525326,
           56.284681130835,
           59.315253122945435,
           62.442472057856676,
           65.66633793556873,
           68.98685075608154,
           72.40401051939514,
           75.91781722550955,
           79.52827087442473,
           83.23537146614073,
           87.03911900065748,
           90.93951347797505,
           94.93655489809336,
           99.0302432610125,
           103.22057856673246,
           107.50756081525316,
           111.89119000657465,
           116.3714661406969
          ],
          [
           16.150887573964496,
           17.151873767258376,
           18.249506903353048,
           19.443786982248525,
           20.734714003944774,
           22.122287968441817,
           23.606508875739642,
           25.187376725838256,
           26.864891518737664,
           28.63905325443788,
           30.509861932938865,
           32.47731755424063,
           34.54142011834319,
           36.70216962524654,
           38.95956607495067,
           41.313609467455635,
           43.76429980276134,
           46.31163708086785,
           48.95562130177514,
           51.69625246548323,
           54.53353057199212,
           57.46745562130178,
           60.49802761341223,
           63.62524654832347,
           66.84911242603549,
           70.16962524654835,
           73.58678500986196,
           77.10059171597634,
           80.71104536489152,
           84.41814595660749,
           88.22189349112428,
           92.12228796844181,
           96.11932938856017,
           100.2130177514793,
           104.40335305719921,
           108.69033530571991,
           113.07396449704142,
           117.55424063116374,
           122.1311637080868,
           126.80473372781066
          ],
          [
           19.496712689020384,
           20.690992767915844,
           21.9819197896121,
           23.369493754109154,
           24.85371466140698,
           26.434582511505596,
           28.112097304405,
           29.886259040105195,
           31.757067718606176,
           33.72452333990797,
           35.78862590401054,
           37.94937541091387,
           40.20677186061801,
           42.56081525312294,
           45.011505588428655,
           47.5588428665352,
           50.202827087442486,
           52.94345825115056,
           55.78073635765943,
           58.71466140696909,
           61.745233399079574,
           64.87245233399082,
           68.09631821170284,
           71.41683103221565,
           74.83399079552925,
           78.34779750164368,
           81.95825115055888,
           85.66535174227482,
           89.46909927679158,
           93.36949375410913,
           97.36653517422751,
           101.46022353714662,
           105.65055884286656,
           109.93754109138726,
           114.32117028270875,
           118.80144641683103,
           123.37836949375412,
           128.051939513478,
           132.82215647600265,
           137.68902038132808
          ],
          [
           23.293556870479943,
           24.681130834976976,
           26.165351742274808,
           27.746219592373446,
           29.423734385272848,
           31.19789612097304,
           33.06870479947402,
           35.03616042077579,
           37.100262984878356,
           39.26101249178173,
           41.51840894148586,
           43.872452333990786,
           46.3231426692965,
           48.87047994740301,
           51.514464168310326,
           54.255095332018406,
           57.09237343852728,
           60.02629848783694,
           63.05687047994739,
           66.18408941485862,
           69.40795529257069,
           72.7284681130835,
           76.1456278763971,
           79.65943458251151,
           83.26988823142668,
           86.97698882314265,
           90.78073635765944,
           94.68113083497697,
           98.67817225509532,
           102.77186061801444,
           106.96219592373436,
           111.2491781722551,
           115.6328073635766,
           120.11308349769887,
           124.69000657462196,
           129.3635765943458,
           134.1337935568705,
           139.00065746219593,
           143.96416831032212,
           149.0243261012492
          ],
          [
           27.541420118343204,
           29.122287968441817,
           30.799802761341223,
           32.573964497041445,
           34.44477317554242,
           36.41222879684419,
           38.47633136094675,
           40.637080867850095,
           42.894477317554234,
           45.24852071005919,
           47.69921104536491,
           50.24654832347141,
           52.8905325443787,
           55.63116370808679,
           58.46844181459569,
           61.40236686390536,
           64.4329388560158,
           67.56015779092704,
           70.78402366863905,
           74.10453648915188,
           77.52169625246552,
           81.03550295857991,
           84.6459566074951,
           88.35305719921105,
           92.1568047337278,
           96.05719921104537,
           100.05424063116375,
           104.14792899408286,
           108.33826429980277,
           112.62524654832347,
           117.00887573964499,
           121.48915187376727,
           126.06607495069038,
           130.73964497041422,
           135.50986193293886,
           140.3767258382643,
           145.34023668639057,
           150.4003944773176,
           155.5571992110454,
           160.81065088757398
          ],
          [
           32.240302432610115,
           34.014464168310305,
           35.88527284681129,
           37.852728468113085,
           39.91683103221564,
           42.07758053911899,
           44.33497698882312,
           46.68902038132805,
           49.13971071663377,
           51.6870479947403,
           54.331032215647596,
           57.07166337935568,
           59.90894148586454,
           62.84286653517421,
           65.87343852728465,
           69.00065746219593,
           72.22452333990795,
           75.54503616042075,
           78.96219592373436,
           82.47600262984875,
           86.08645627876396,
           89.79355687047995,
           93.59730440499669,
           97.49769888231424,
           101.49474030243256,
           105.58842866535176,
           109.77876397107167,
           114.06574621959237,
           118.44937541091386,
           122.92965154503611,
           127.50657462195926,
           132.18014464168306,
           136.95036160420776,
           141.8172255095332,
           146.7807363576594,
           151.84089414858641,
           156.99769888231418,
           162.25115055884288,
           167.60124917817225,
           173.0479947403024
          ],
          [
           37.39020381328074,
           39.3576594345825,
           41.42176199868507,
           43.58251150558845,
           45.839907955292574,
           48.19395134779751,
           50.64464168310322,
           53.19197896120973,
           55.83596318211702,
           58.57659434582513,
           61.413872452334004,
           64.34779750164367,
           67.37836949375411,
           70.50558842866535,
           73.72945430637738,
           77.04996712689021,
           80.46712689020383,
           83.98093359631821,
           87.59138724523339,
           91.29848783694936,
           95.10223537146616,
           99.0026298487837,
           102.99967126890203,
           107.09335963182119,
           111.28369493754109,
           115.57067718606183,
           119.95430637738332,
           124.4345825115056,
           129.0115055884287,
           133.68507560815254,
           138.45529257067722,
           143.32215647600262,
           148.2856673241289,
           153.3458251150559,
           158.50262984878367,
           163.7560815253123,
           169.10618014464166,
           174.55292570677187,
           180.09631821170282,
           185.73635765943456
          ],
          [
           42.99112426035505,
           45.151873767258394,
           47.40927021696253,
           49.76331360946749,
           52.214003944773204,
           54.761341222879715,
           57.405325443787,
           60.14595660749508,
           62.983234714003956,
           65.91715976331365,
           68.9477317554241,
           72.07495069033533,
           75.29881656804736,
           78.61932938856017,
           82.03648915187378,
           85.5502958579882,
           89.16074950690339,
           92.86785009861936,
           96.6715976331361,
           100.57199211045365,
           104.56903353057206,
           108.66272189349117,
           112.85305719921108,
           117.1400394477318,
           121.52366863905327,
           126.00394477317559,
           130.58086785009868,
           135.25443786982254,
           140.02465483234718,
           144.8915187376726,
           149.85502958579886,
           154.91518737672587,
           160.0719921104537,
           165.32544378698228,
           170.67554240631165,
           176.1222879684418,
           181.6656804733728,
           187.30571992110458,
           193.04240631163714,
           198.87573964497045
          ],
          [
           49.043063773833005,
           51.39710716633793,
           53.847797501643655,
           56.39513477975019,
           59.03911900065748,
           61.779750164365566,
           64.61702827087443,
           67.55095332018409,
           70.58152531229453,
           73.7087442472058,
           76.93261012491783,
           80.25312294543065,
           83.67028270874425,
           87.18408941485865,
           90.79454306377386,
           94.50164365548983,
           98.30539119000657,
           102.20578566732415,
           106.20282708744247,
           110.2965154503616,
           114.48685075608157,
           118.77383300460225,
           123.15746219592377,
           127.63773833004603,
           132.2146614069691,
           136.88823142669295,
           141.65844838921765,
           146.52531229454308,
           151.4888231426693,
           156.54898093359634,
           161.70578566732414,
           166.95923734385275,
           172.30933596318215,
           177.7560815253123,
           183.2994740302433,
           188.93951347797503,
           194.67619986850758,
           200.5095332018409,
           206.43951347797503,
           212.46614069690997
          ],
          [
           55.54602235371464,
           58.093359631821144,
           60.73734385272844,
           63.47797501643655,
           66.31525312294542,
           69.24917817225509,
           72.27975016436552,
           75.40696909927676,
           78.63083497698878,
           81.95134779750163,
           85.36850756081525,
           88.88231426692963,
           92.49276791584481,
           96.19986850756078,
           100.00361604207754,
           103.90401051939511,
           107.90105193951345,
           111.99474030243259,
           116.18507560815252,
           120.4720578566732,
           124.85568704799473,
           129.335963182117,
           133.9128862590401,
           138.58645627876393,
           143.35667324128858,
           148.22353714661406,
           153.18704799474028,
           158.2472057856673,
           163.4040105193951,
           168.6574621959237,
           174.0075608152531,
           179.45430637738323,
           184.99769888231424,
           190.63773833004598,
           196.37442472057853,
           202.20775805391185,
           208.13773833004598,
           214.16436554898092,
           220.28763971071658,
           226.5075608152531
          ],
          [
           62.5,
           65.24063116370809,
           68.07790927021695,
           71.01183431952664,
           74.04240631163708,
           77.16962524654832,
           80.39349112426035,
           83.71400394477315,
           87.13116370808677,
           90.6449704142012,
           94.25542406311638,
           97.96252465483235,
           101.76627218934911,
           105.66666666666664,
           109.66370808678496,
           113.75739644970417,
           117.94773175542407,
           122.23471400394476,
           126.61834319526625,
           131.09861932938853,
           135.67554240631168,
           140.34911242603553,
           145.11932938856017,
           149.9861932938856,
           154.9497041420118,
           160.0098619329389,
           165.16666666666669,
           170.42011834319527,
           175.77021696252464,
           181.2169625246548,
           186.76035502958587,
           192.4003944773175,
           198.13708086785013,
           203.97041420118342,
           209.90039447731755,
           215.92702169625244,
           222.05029585798812,
           228.2702169625247,
           234.58678500986196,
           241.0
          ]
         ]
        }
       ],
       "layout": {
        "template": {
         "data": {
          "bar": [
           {
            "error_x": {
             "color": "#2a3f5f"
            },
            "error_y": {
             "color": "#2a3f5f"
            },
            "marker": {
             "line": {
              "color": "#E5ECF6",
              "width": 0.5
             }
            },
            "type": "bar"
           }
          ],
          "barpolar": [
           {
            "marker": {
             "line": {
              "color": "#E5ECF6",
              "width": 0.5
             }
            },
            "type": "barpolar"
           }
          ],
          "carpet": [
           {
            "aaxis": {
             "endlinecolor": "#2a3f5f",
             "gridcolor": "white",
             "linecolor": "white",
             "minorgridcolor": "white",
             "startlinecolor": "#2a3f5f"
            },
            "baxis": {
             "endlinecolor": "#2a3f5f",
             "gridcolor": "white",
             "linecolor": "white",
             "minorgridcolor": "white",
             "startlinecolor": "#2a3f5f"
            },
            "type": "carpet"
           }
          ],
          "choropleth": [
           {
            "colorbar": {
             "outlinewidth": 0,
             "ticks": ""
            },
            "type": "choropleth"
           }
          ],
          "contour": [
           {
            "colorbar": {
             "outlinewidth": 0,
             "ticks": ""
            },
            "colorscale": [
             [
              0.0,
              "#0d0887"
             ],
             [
              0.1111111111111111,
              "#46039f"
             ],
             [
              0.2222222222222222,
              "#7201a8"
             ],
             [
              0.3333333333333333,
              "#9c179e"
             ],
             [
              0.4444444444444444,
              "#bd3786"
             ],
             [
              0.5555555555555556,
              "#d8576b"
             ],
             [
              0.6666666666666666,
              "#ed7953"
             ],
             [
              0.7777777777777778,
              "#fb9f3a"
             ],
             [
              0.8888888888888888,
              "#fdca26"
             ],
             [
              1.0,
              "#f0f921"
             ]
            ],
            "type": "contour"
           }
          ],
          "contourcarpet": [
           {
            "colorbar": {
             "outlinewidth": 0,
             "ticks": ""
            },
            "type": "contourcarpet"
           }
          ],
          "heatmap": [
           {
            "colorbar": {
             "outlinewidth": 0,
             "ticks": ""
            },
            "colorscale": [
             [
              0.0,
              "#0d0887"
             ],
             [
              0.1111111111111111,
              "#46039f"
             ],
             [
              0.2222222222222222,
              "#7201a8"
             ],
             [
              0.3333333333333333,
              "#9c179e"
             ],
             [
              0.4444444444444444,
              "#bd3786"
             ],
             [
              0.5555555555555556,
              "#d8576b"
             ],
             [
              0.6666666666666666,
              "#ed7953"
             ],
             [
              0.7777777777777778,
              "#fb9f3a"
             ],
             [
              0.8888888888888888,
              "#fdca26"
             ],
             [
              1.0,
              "#f0f921"
             ]
            ],
            "type": "heatmap"
           }
          ],
          "heatmapgl": [
           {
            "colorbar": {
             "outlinewidth": 0,
             "ticks": ""
            },
            "colorscale": [
             [
              0.0,
              "#0d0887"
             ],
             [
              0.1111111111111111,
              "#46039f"
             ],
             [
              0.2222222222222222,
              "#7201a8"
             ],
             [
              0.3333333333333333,
              "#9c179e"
             ],
             [
              0.4444444444444444,
              "#bd3786"
             ],
             [
              0.5555555555555556,
              "#d8576b"
             ],
             [
              0.6666666666666666,
              "#ed7953"
             ],
             [
              0.7777777777777778,
              "#fb9f3a"
             ],
             [
              0.8888888888888888,
              "#fdca26"
             ],
             [
              1.0,
              "#f0f921"
             ]
            ],
            "type": "heatmapgl"
           }
          ],
          "histogram": [
           {
            "marker": {
             "colorbar": {
              "outlinewidth": 0,
              "ticks": ""
             }
            },
            "type": "histogram"
           }
          ],
          "histogram2d": [
           {
            "colorbar": {
             "outlinewidth": 0,
             "ticks": ""
            },
            "colorscale": [
             [
              0.0,
              "#0d0887"
             ],
             [
              0.1111111111111111,
              "#46039f"
             ],
             [
              0.2222222222222222,
              "#7201a8"
             ],
             [
              0.3333333333333333,
              "#9c179e"
             ],
             [
              0.4444444444444444,
              "#bd3786"
             ],
             [
              0.5555555555555556,
              "#d8576b"
             ],
             [
              0.6666666666666666,
              "#ed7953"
             ],
             [
              0.7777777777777778,
              "#fb9f3a"
             ],
             [
              0.8888888888888888,
              "#fdca26"
             ],
             [
              1.0,
              "#f0f921"
             ]
            ],
            "type": "histogram2d"
           }
          ],
          "histogram2dcontour": [
           {
            "colorbar": {
             "outlinewidth": 0,
             "ticks": ""
            },
            "colorscale": [
             [
              0.0,
              "#0d0887"
             ],
             [
              0.1111111111111111,
              "#46039f"
             ],
             [
              0.2222222222222222,
              "#7201a8"
             ],
             [
              0.3333333333333333,
              "#9c179e"
             ],
             [
              0.4444444444444444,
              "#bd3786"
             ],
             [
              0.5555555555555556,
              "#d8576b"
             ],
             [
              0.6666666666666666,
              "#ed7953"
             ],
             [
              0.7777777777777778,
              "#fb9f3a"
             ],
             [
              0.8888888888888888,
              "#fdca26"
             ],
             [
              1.0,
              "#f0f921"
             ]
            ],
            "type": "histogram2dcontour"
           }
          ],
          "mesh3d": [
           {
            "colorbar": {
             "outlinewidth": 0,
             "ticks": ""
            },
            "type": "mesh3d"
           }
          ],
          "parcoords": [
           {
            "line": {
             "colorbar": {
              "outlinewidth": 0,
              "ticks": ""
             }
            },
            "type": "parcoords"
           }
          ],
          "pie": [
           {
            "automargin": true,
            "type": "pie"
           }
          ],
          "scatter": [
           {
            "marker": {
             "colorbar": {
              "outlinewidth": 0,
              "ticks": ""
             }
            },
            "type": "scatter"
           }
          ],
          "scatter3d": [
           {
            "line": {
             "colorbar": {
              "outlinewidth": 0,
              "ticks": ""
             }
            },
            "marker": {
             "colorbar": {
              "outlinewidth": 0,
              "ticks": ""
             }
            },
            "type": "scatter3d"
           }
          ],
          "scattercarpet": [
           {
            "marker": {
             "colorbar": {
              "outlinewidth": 0,
              "ticks": ""
             }
            },
            "type": "scattercarpet"
           }
          ],
          "scattergeo": [
           {
            "marker": {
             "colorbar": {
              "outlinewidth": 0,
              "ticks": ""
             }
            },
            "type": "scattergeo"
           }
          ],
          "scattergl": [
           {
            "marker": {
             "colorbar": {
              "outlinewidth": 0,
              "ticks": ""
             }
            },
            "type": "scattergl"
           }
          ],
          "scattermapbox": [
           {
            "marker": {
             "colorbar": {
              "outlinewidth": 0,
              "ticks": ""
             }
            },
            "type": "scattermapbox"
           }
          ],
          "scatterpolar": [
           {
            "marker": {
             "colorbar": {
              "outlinewidth": 0,
              "ticks": ""
             }
            },
            "type": "scatterpolar"
           }
          ],
          "scatterpolargl": [
           {
            "marker": {
             "colorbar": {
              "outlinewidth": 0,
              "ticks": ""
             }
            },
            "type": "scatterpolargl"
           }
          ],
          "scatterternary": [
           {
            "marker": {
             "colorbar": {
              "outlinewidth": 0,
              "ticks": ""
             }
            },
            "type": "scatterternary"
           }
          ],
          "surface": [
           {
            "colorbar": {
             "outlinewidth": 0,
             "ticks": ""
            },
            "colorscale": [
             [
              0.0,
              "#0d0887"
             ],
             [
              0.1111111111111111,
              "#46039f"
             ],
             [
              0.2222222222222222,
              "#7201a8"
             ],
             [
              0.3333333333333333,
              "#9c179e"
             ],
             [
              0.4444444444444444,
              "#bd3786"
             ],
             [
              0.5555555555555556,
              "#d8576b"
             ],
             [
              0.6666666666666666,
              "#ed7953"
             ],
             [
              0.7777777777777778,
              "#fb9f3a"
             ],
             [
              0.8888888888888888,
              "#fdca26"
             ],
             [
              1.0,
              "#f0f921"
             ]
            ],
            "type": "surface"
           }
          ],
          "table": [
           {
            "cells": {
             "fill": {
              "color": "#EBF0F8"
             },
             "line": {
              "color": "white"
             }
            },
            "header": {
             "fill": {
              "color": "#C8D4E3"
             },
             "line": {
              "color": "white"
             }
            },
            "type": "table"
           }
          ]
         },
         "layout": {
          "annotationdefaults": {
           "arrowcolor": "#2a3f5f",
           "arrowhead": 0,
           "arrowwidth": 1
          },
          "coloraxis": {
           "colorbar": {
            "outlinewidth": 0,
            "ticks": ""
           }
          },
          "colorscale": {
           "diverging": [
            [
             0,
             "#8e0152"
            ],
            [
             0.1,
             "#c51b7d"
            ],
            [
             0.2,
             "#de77ae"
            ],
            [
             0.3,
             "#f1b6da"
            ],
            [
             0.4,
             "#fde0ef"
            ],
            [
             0.5,
             "#f7f7f7"
            ],
            [
             0.6,
             "#e6f5d0"
            ],
            [
             0.7,
             "#b8e186"
            ],
            [
             0.8,
             "#7fbc41"
            ],
            [
             0.9,
             "#4d9221"
            ],
            [
             1,
             "#276419"
            ]
           ],
           "sequential": [
            [
             0.0,
             "#0d0887"
            ],
            [
             0.1111111111111111,
             "#46039f"
            ],
            [
             0.2222222222222222,
             "#7201a8"
            ],
            [
             0.3333333333333333,
             "#9c179e"
            ],
            [
             0.4444444444444444,
             "#bd3786"
            ],
            [
             0.5555555555555556,
             "#d8576b"
            ],
            [
             0.6666666666666666,
             "#ed7953"
            ],
            [
             0.7777777777777778,
             "#fb9f3a"
            ],
            [
             0.8888888888888888,
             "#fdca26"
            ],
            [
             1.0,
             "#f0f921"
            ]
           ],
           "sequentialminus": [
            [
             0.0,
             "#0d0887"
            ],
            [
             0.1111111111111111,
             "#46039f"
            ],
            [
             0.2222222222222222,
             "#7201a8"
            ],
            [
             0.3333333333333333,
             "#9c179e"
            ],
            [
             0.4444444444444444,
             "#bd3786"
            ],
            [
             0.5555555555555556,
             "#d8576b"
            ],
            [
             0.6666666666666666,
             "#ed7953"
            ],
            [
             0.7777777777777778,
             "#fb9f3a"
            ],
            [
             0.8888888888888888,
             "#fdca26"
            ],
            [
             1.0,
             "#f0f921"
            ]
           ]
          },
          "colorway": [
           "#636efa",
           "#EF553B",
           "#00cc96",
           "#ab63fa",
           "#FFA15A",
           "#19d3f3",
           "#FF6692",
           "#B6E880",
           "#FF97FF",
           "#FECB52"
          ],
          "font": {
           "color": "#2a3f5f"
          },
          "geo": {
           "bgcolor": "white",
           "lakecolor": "white",
           "landcolor": "#E5ECF6",
           "showlakes": true,
           "showland": true,
           "subunitcolor": "white"
          },
          "hoverlabel": {
           "align": "left"
          },
          "hovermode": "closest",
          "mapbox": {
           "style": "light"
          },
          "paper_bgcolor": "white",
          "plot_bgcolor": "#E5ECF6",
          "polar": {
           "angularaxis": {
            "gridcolor": "white",
            "linecolor": "white",
            "ticks": ""
           },
           "bgcolor": "#E5ECF6",
           "radialaxis": {
            "gridcolor": "white",
            "linecolor": "white",
            "ticks": ""
           }
          },
          "scene": {
           "xaxis": {
            "backgroundcolor": "#E5ECF6",
            "gridcolor": "white",
            "gridwidth": 2,
            "linecolor": "white",
            "showbackground": true,
            "ticks": "",
            "zerolinecolor": "white"
           },
           "yaxis": {
            "backgroundcolor": "#E5ECF6",
            "gridcolor": "white",
            "gridwidth": 2,
            "linecolor": "white",
            "showbackground": true,
            "ticks": "",
            "zerolinecolor": "white"
           },
           "zaxis": {
            "backgroundcolor": "#E5ECF6",
            "gridcolor": "white",
            "gridwidth": 2,
            "linecolor": "white",
            "showbackground": true,
            "ticks": "",
            "zerolinecolor": "white"
           }
          },
          "shapedefaults": {
           "line": {
            "color": "#2a3f5f"
           }
          },
          "ternary": {
           "aaxis": {
            "gridcolor": "white",
            "linecolor": "white",
            "ticks": ""
           },
           "baxis": {
            "gridcolor": "white",
            "linecolor": "white",
            "ticks": ""
           },
           "bgcolor": "#E5ECF6",
           "caxis": {
            "gridcolor": "white",
            "linecolor": "white",
            "ticks": ""
           }
          },
          "title": {
           "x": 0.05
          },
          "xaxis": {
           "automargin": true,
           "gridcolor": "white",
           "linecolor": "white",
           "ticks": "",
           "title": {
            "standoff": 15
           },
           "zerolinecolor": "white",
           "zerolinewidth": 2
          },
          "yaxis": {
           "automargin": true,
           "gridcolor": "white",
           "linecolor": "white",
           "ticks": "",
           "title": {
            "standoff": 15
           },
           "zerolinecolor": "white",
           "zerolinewidth": 2
          }
         }
        }
       }
      },
      "text/html": "<div>\n        \n        \n            <div id=\"ebffbfed-d863-4d33-adfe-9679207edac6\" class=\"plotly-graph-div\" style=\"height:525px; width:100%;\"></div>\n            <script type=\"text/javascript\">\n                require([\"plotly\"], function(Plotly) {\n                    window.PLOTLYENV=window.PLOTLYENV || {};\n                    \n                if (document.getElementById(\"ebffbfed-d863-4d33-adfe-9679207edac6\")) {\n                    Plotly.newPlot(\n                        'ebffbfed-d863-4d33-adfe-9679207edac6',\n                        [{\"mode\": \"markers\", \"name\": \"minima\", \"type\": \"scatter\", \"x\": [10], \"y\": [4]}, {\"contours\": {\"coloring\": \"lines\", \"labelfont\": {\"color\": \"white\", \"size\": 12}, \"showlabels\": true}, \"line\": {\"width\": 2}, \"type\": \"contour\", \"x\": [0.0, 0.358974358974359, 0.717948717948718, 1.0769230769230769, 1.435897435897436, 1.794871794871795, 2.1538461538461537, 2.5128205128205128, 2.871794871794872, 3.230769230769231, 3.58974358974359, 3.948717948717949, 4.3076923076923075, 4.666666666666667, 5.0256410256410255, 5.384615384615385, 5.743589743589744, 6.102564102564102, 6.461538461538462, 6.82051282051282, 7.17948717948718, 7.538461538461538, 7.897435897435898, 8.256410256410257, 8.615384615384615, 8.974358974358974, 9.333333333333334, 9.692307692307692, 10.051282051282051, 10.41025641025641, 10.76923076923077, 11.128205128205128, 11.487179487179487, 11.846153846153847, 12.205128205128204, 12.564102564102564, 12.923076923076923, 13.282051282051283, 13.64102564102564, 14.0], \"y\": [0.0, 0.358974358974359, 0.717948717948718, 1.0769230769230769, 1.435897435897436, 1.794871794871795, 2.1538461538461537, 2.5128205128205128, 2.871794871794872, 3.230769230769231, 3.58974358974359, 3.948717948717949, 4.3076923076923075, 4.666666666666667, 5.0256410256410255, 5.384615384615385, 5.743589743589744, 6.102564102564102, 6.461538461538462, 6.82051282051282, 7.17948717948718, 7.538461538461538, 7.897435897435898, 8.256410256410257, 8.615384615384615, 8.974358974358974, 9.333333333333334, 9.692307692307692, 10.051282051282051, 10.41025641025641, 10.76923076923077, 11.128205128205128, 11.487179487179487, 11.846153846153847, 12.205128205128204, 12.564102564102564, 12.923076923076923, 13.282051282051283, 13.64102564102564, 14.0], \"z\": [[125.5, 120.70216962524655, 116.00098619329387, 111.39644970414201, 106.88856015779095, 102.47731755424061, 98.16272189349112, 93.94477317554241, 89.82347140039448, 85.79881656804734, 81.87080867850098, 78.03944773175542, 74.30473372781066, 70.66666666666666, 67.12524654832347, 63.68047337278106, 60.33234714003944, 57.08086785009863, 53.926035502958584, 50.86785009861933, 47.906311637080876, 45.0414201183432, 42.27317554240631, 39.60157790927021, 37.02662721893491, 34.548323471400394, 32.166666666666664, 29.88165680473373, 27.69329388560158, 25.601577909270215, 23.606508875739642, 21.708086785009865, 19.90631163708087, 18.20118343195266, 16.592702169625248, 15.08086785009862, 13.66568047337278, 12.34714003944773, 11.125246548323474, 10.0], [115.31525312294542, 110.71071663379357, 106.20282708744247, 101.79158448389218, 97.47698882314268, 93.25904010519395, 89.13773833004602, 85.11308349769888, 81.18507560815253, 77.35371466140697, 73.6190006574622, 69.98093359631821, 66.43951347797503, 62.994740302432604, 59.646614069691, 56.395134779750165, 53.24030243261012, 50.18211702827088, 47.220578566732414, 44.35568704799474, 41.58744247205785, 38.91584483892177, 36.34089414858646, 33.86259040105193, 31.480933596318216, 29.195923734385275, 27.00756081525312, 24.915844838921767, 22.920775805391195, 21.022353714661406, 19.22057856673241, 17.51545036160421, 15.906969099276793, 14.395134779750162, 12.97994740302433, 11.661406969099279, 10.439513477975016, 9.314266929651543, 8.285667324128866, 7.35371466140697], [105.58152531229456, 101.17028270874425, 96.85568704799473, 92.63773833004602, 88.51643655489809, 84.49178172255095, 80.5637738330046, 76.73241288625906, 72.99769888231427, 69.35963182117027, 65.81821170282709, 62.37343852728468, 59.02531229454306, 55.77383300460224, 52.619000657462195, 49.56081525312294, 46.59927679158449, 43.734385272846815, 40.96614069690993, 38.29454306377383, 35.71959237343852, 33.24128862590401, 30.859631821170282, 28.57462195923734, 26.386259040105198, 24.294543063773837, 22.29947403024326, 20.401051939513483, 18.599276791584487, 16.89414858645628, 15.285667324128859, 13.773833004602238, 12.358645627876399, 11.040105193951348, 9.81821170282709, 8.692965154503618, 7.664365548980934, 6.732412886259039, 5.897107166337937, 5.158448389217621], [96.29881656804734, 92.08086785009861, 87.95956607495069, 83.93491124260356, 80.0069033530572, 76.17554240631165, 72.44082840236686, 68.80276134122288, 65.26134122287968, 61.816568047337284, 58.46844181459565, 55.21696252465484, 52.062130177514796, 49.00394477317554, 46.04240631163708, 43.1775147928994, 40.409270216962526, 37.73767258382644, 35.162721893491124, 32.68441814595661, 30.302761341222876, 28.01775147928994, 25.829388560157795, 23.737672583826424, 21.74260355029586, 19.844181459566077, 18.042406311637077, 16.337278106508876, 14.728796844181463, 13.21696252465483, 11.801775147928993, 10.483234714003949, 9.261341222879683, 8.136094674556213, 7.107495069033535, 6.175542406311637, 5.340236686390534, 4.6015779092702145, 3.9595660749506902, 3.4142011834319534], [87.46712689020382, 83.44247205785669, 79.51446416831033, 75.68310322156476, 71.94838921761999, 68.310322156476, 64.76890203813281, 61.3241288625904, 57.976002629848786, 54.724523339907954, 51.56969099276792, 48.51150558842866, 45.54996712689021, 42.68507560815253, 39.916831032215654, 37.245233399079545, 34.67028270874425, 32.191978961209735, 29.810322156475998, 27.52531229454307, 25.336949375410914, 23.245233399079552, 21.25016436554898, 19.35174227481919, 17.549967126890202, 15.844838921762, 14.236357659434578, 12.724523339907956, 11.309335963182118, 9.990795529257065, 8.768902038132806, 7.643655489809339, 6.615055884286653, 5.68310322156476, 4.847797501643658, 4.109138724523339, 3.4671268902038137, 2.9217619986850747, 2.473044049967127, 2.120973044049968], [79.08645627876396, 75.25509533201841, 71.52038132807364, 67.88231426692965, 64.34089414858646, 60.896120973044056, 57.54799474030243, 54.29651545036161, 51.14168310322155, 48.08349769888231, 45.12195923734386, 42.25706771860618, 39.48882314266929, 36.8172255095332, 34.242274819197895, 31.763971071663377, 29.382314266929654, 27.097304404996713, 24.90894148586456, 22.817225509533202, 20.822156476002625, 18.923734385272844, 17.12195923734385, 15.416831032215644, 13.808349769888233, 12.296515450361603, 10.881328073635764, 9.562787639710718, 8.340894148586456, 7.215647600262983, 6.187047994740302, 5.255095332018412, 4.419789612097304, 3.6811308349769853, 3.039119000657461, 2.4937541091387248, 2.0450361604207763, 1.6929651545036153, 1.4375410913872457, 1.2787639710716623], [71.15680473372782, 67.51873767258382, 63.977317554240635, 60.532544378698226, 57.184418145956606, 53.93293885601578, 50.778106508875744, 47.71992110453649, 44.75838264299803, 41.89349112426035, 39.125246548323474, 36.45364891518737, 33.87869822485207, 31.400394477317555, 29.01873767258383, 26.733727810650883, 24.545364891518737, 22.45364891518738, 20.458579881656803, 18.560157790927022, 16.758382642998022, 15.053254437869823, 13.444773175542405, 11.932938856015774, 10.517751479289942, 9.199211045364892, 7.97731755424063, 6.8520710059171615, 5.823471400394482, 4.891518737672582, 4.056213017751476, 3.3175542406311633, 2.6755424063116364, 2.1301775147929005, 1.6814595660749532, 1.3293885601577908, 1.0739644970414188, 0.9151873767258376, 0.8530571992110451, 0.8875739644970417], [63.678172255095326, 60.23339907955293, 56.885272846811304, 53.633793556870486, 50.47896120973044, 47.42077580539119, 44.459237343852735, 41.594345825115056, 38.826101249178166, 36.15450361604208, 33.57955292570678, 31.101249178172253, 28.71959237343853, 26.43458251150559, 24.246219592373443, 22.154503616042074, 20.15943458251151, 18.261012491781727, 16.459237343852728, 14.754109138724527, 13.145627876397105, 11.633793556870481, 10.21860618014464, 8.900065746219589, 7.678172255095333, 6.5529257067718625, 5.5243261012491764, 4.592373438527287, 3.757067718606179, 3.0184089414858644, 2.3763971071663383, 1.8310322156476024, 1.3823142669296524, 1.0302432610124903, 0.7748191978961204, 0.6160420775805391, 0.5539119000657469, 0.5884286653517423, 0.7195923734385268, 0.9474030243260999], [56.65055884286654, 53.39907955292571, 50.24424720578567, 47.186061801446414, 44.22452333990796, 41.35963182117028, 38.5913872452334, 35.91978961209731, 33.344838921762, 30.866535174227483, 28.484878369493753, 26.199868507560815, 24.011505588428665, 21.919789612097304, 19.924720578566735, 18.02629848783695, 16.224523339907957, 14.519395134779751, 12.910913872452335, 11.399079552925711, 9.983892176199866, 8.66535174227482, 7.44345825115056, 6.318211702827086, 5.289612097304406, 4.357659434582509, 3.5223537146614063, 2.7836949375410933, 2.1416831032215664, 1.5963182117028274, 1.1476002629848763, 0.7955292570677179, 0.5401051939513482, 0.3813280736357666, 0.3191978961209738, 0.35371466140696917, 0.48487836949375446, 0.7126890203813278, 1.0371466140696894, 1.4582511505588431], [50.073964497041416, 47.01577909270216, 44.05424063116371, 41.18934911242604, 38.421104536489146, 35.74950690335305, 33.17455621301775, 30.69625246548323, 28.314595660749504, 26.029585798816566, 23.841222879684416, 21.749506903353055, 19.754437869822485, 17.8560157790927, 16.054240631163708, 14.349112426035497, 12.740631163708084, 11.22879684418146, 9.81360946745562, 8.495069033530571, 7.273175542406309, 6.147928994082837, 5.119329388560156, 4.187376725838263, 3.3520710059171606, 2.6134122287968435, 1.9714003944773142, 1.4260355029585785, 0.9773175542406314, 0.6252465483234713, 0.36982248520709937, 0.21104536489151832, 0.14891518737672543, 0.18343195266272155, 0.31459566074950596, 0.5424063116370811, 0.8668639053254446, 1.287968441814598, 1.8057199211045372, 2.420118343195265], [43.94838921761999, 41.08349769888231, 38.315253122945435, 35.64365548980933, 33.068704799474034, 30.59040105193951, 28.20874424720578, 25.923734385272844, 23.7353714661407, 21.643655489809333, 19.64858645627876, 17.750164365548983, 15.948389217619987, 14.243261012491777, 12.634779750164366, 11.122945430637737, 9.707758053911896, 8.389217619986852, 7.167324128862586, 6.042077580539117, 5.0134779750164356, 4.081525312294543, 3.246219592373438, 2.507560815253119, 1.8655489809335948, 1.3201840894148584, 0.8714661406969094, 0.5193951347797509, 0.2639710716633794, 0.10519395134779676, 0.04306377383300446, 0.07758053911900044, 0.20874424720578574, 0.43655489809335984, 0.7610124917817216, 1.1821170282708753, 1.6998685075608166, 2.3142669296515463, 3.025312294543063, 3.833004602235373], [38.27383300460224, 35.602235371466136, 33.02728468113084, 30.54898093359632, 28.16732412886259, 25.882314266929647, 23.6939513477975, 21.60223537146614, 19.607166337935567, 17.708744247205786, 15.906969099276793, 14.201840894148585, 12.593359631821173, 11.081525312294536, 9.666337935568704, 8.347797501643651, 7.125904010519392, 6.000657462195924, 4.972057856673241, 4.040105193951346, 3.204799474030244, 2.466140696909926, 1.8241288625904, 1.2787639710716632, 0.830046022353716, 0.4779750164365545, 0.22255095332018282, 0.06377383300460193, 0.0016436554898093243, 0.036160420775805294, 0.167324128862591, 0.3951347797501643, 0.7195923734385289, 1.1406969099276802, 1.6584483892176194, 2.2728468113083466, 2.98389217619987, 3.7915844838921826, 4.6959237343852775, 5.69690992767916], [33.05029585798817, 30.57199211045365, 28.190335305719927, 25.905325443786985, 23.71696252465483, 21.625246548323467, 19.6301775147929, 17.731755424063117, 15.92998027613412, 14.224852071005918, 12.6163708086785, 11.104536489151876, 9.689349112426036, 8.370808678500985, 7.148915187376728, 6.023668639053255, 4.995069033530573, 4.063116370808681, 3.2278106508875726, 2.489151873767259, 1.8471400394477313, 1.3017751479289947, 0.8530571992110462, 0.5009861932938843, 0.2455621301775147, 0.08678500986193297, 0.024654832347139867, 0.059171597633135675, 0.19033530571992063, 0.418145956607496, 0.7426035502958591, 1.1637080867850096, 1.6814595660749498, 2.2958579881656798, 3.0069033530571954, 3.814595660749508, 4.718934911242605, 5.719921104536491, 6.817554240631161, 8.011834319526624], [28.27777777777777, 25.992767915844837, 23.80440499671269, 21.712689020381326, 19.717619986850753, 17.81919789612097, 16.01742274819198, 14.312294543063777, 12.703813280736355, 11.191978961209728, 9.77679158448389, 8.45825115055884, 7.236357659434582, 6.111111111111109, 5.082511505588427, 4.150558842866533, 3.31525312294543, 2.5765943458251144, 1.9345825115055888, 1.3892176199868507, 0.9404996712689013, 0.5884286653517423, 0.3330046022353704, 0.17422748191978935, 0.11209730440499655, 0.1466140696909926, 0.2777777777777788, 0.505588428665352, 0.8300460223537155, 1.251150558842866, 1.7689020381328084, 2.383300460223536, 3.0943458251150577, 3.902038132807368, 4.806377383300461, 5.807363576594343, 6.904996712689021, 8.09927679158449, 9.390203813280738, 10.777777777777782], [23.95627876397107, 21.864562787639713, 19.86949375410914, 17.97107166337936, 16.169296515450363, 14.464168310322155, 12.855687047994742, 11.343852728468113, 9.928665351742273, 8.61012491781723, 7.388231426692965, 6.262984878369494, 5.234385272846815, 4.3024326101249155, 3.4671268902038137, 2.728468113083498, 2.08645627876397, 1.5410913872452339, 1.0923734385272852, 0.7403024326101245, 0.48487836949375457, 0.32610124917817185, 0.2639710716633793, 0.298487836949376, 0.42965154503616054, 0.6574621959237342, 0.9819197896120972, 1.4030243261012476, 1.9207758053911892, 2.5351742274819205, 3.24621959237344, 4.053911900065744, 4.958251150558841, 5.959237343852729, 7.0568704799474, 8.251150558842868, 9.54207758053912, 10.929651545036162, 12.413872452333985, 13.99474030243261], [20.085798816568047, 18.187376725838263, 16.385601577909267, 14.680473372781066, 13.07199211045365, 11.56015779092702, 10.144970414201186, 8.826429980276135, 7.604536489151872, 6.4792899408284015, 5.450690335305719, 4.518737672583825, 3.6834319526627217, 2.944773175542405, 2.302761341222879, 1.7573964497041414, 1.308678500986193, 0.9566074950690333, 0.7011834319526616, 0.5424063116370811, 0.48027613412228704, 0.5147928994082843, 0.645956607495069, 0.8737672583826429, 1.1982248520710048, 1.6193293885601578, 2.1370808678501003, 2.7514792899408276, 3.4625246548323467, 4.270216962524655, 5.174556213017754, 6.175542406311635, 7.273175542406313, 8.467455621301779, 9.758382642998026, 11.14595660749507, 12.630177514792898, 14.211045364891524, 15.888560157790927, 17.662721893491128], [16.666337935568702, 14.961209730440501, 13.352728468113085, 11.84089414858646, 10.42570677186062, 9.107166337935569, 7.88527284681131, 6.760026298487837, 5.7314266929651545, 4.79947403024326, 3.964168310322156, 3.22550953320184, 2.583497698882314, 2.0381328073635765, 1.589414858645628, 1.2373438527284677, 0.9819197896120975, 0.8231426692965147, 0.7610124917817234, 0.7955292570677184, 0.9266929651545028, 1.1545036160420759, 1.4789612097304408, 1.9000657462195945, 2.417817225509533, 3.0322156476002613, 3.7432610124917796, 4.550953320184084, 5.455292570677186, 6.456278763971074, 7.553911900065747, 8.748191978961206, 10.039119000657458, 11.426692965154508, 12.910913872452333, 14.491781722550954, 16.16929651545036, 17.94345825115056, 19.814266929651538, 21.781722550953322], [13.697896120973049, 12.18606180144642, 10.770874424720581, 9.452333990795532, 8.230440499671271, 7.105193951347799, 6.076594345825118, 5.144641683103224, 4.309335963182117, 3.570677186061804, 2.928665351742276, 2.3833004602235377, 1.9345825115055901, 1.582511505588428, 1.3270874424720578, 1.1683103221564763, 1.1061801446416828, 1.1406969099276785, 1.271860618014462, 1.4996712689020377, 1.8241288625903993, 2.2452333990795537, 2.7629848783694926, 3.3773833004602203, 4.088428665351736, 4.896120973044048, 5.80046022353715, 6.801446416831032, 7.899079552925704, 9.093359631821162, 10.384286653517423, 11.77186061801446, 13.2560815253123, 14.836949375410914, 16.514464168310315, 18.288625904010505, 20.1594345825115, 22.12689020381329, 24.190992767915848, 26.351742274819195], [11.180473372781064, 9.861932938856015, 8.640039447731754, 7.514792899408284, 6.4861932938856, 5.554240631163706, 4.718934911242605, 3.9802761341222874, 3.33826429980276, 2.7928994082840233, 2.3441814595660757, 1.9921104536489154, 1.7366863905325445, 1.5779092702169644, 1.5157790927021708, 1.5502958579881683, 1.6814595660749536, 1.9092702169625264, 2.2337278106508887, 2.6548323471400432, 3.1725838264299817, 3.786982248520714, 4.4980276134122334, 5.305719921104541, 6.210059171597635, 7.211045364891524, 8.3086785009862, 9.50295857988166, 10.793885601577912, 12.181459566074956, 13.665680473372792, 15.246548323471405, 16.924063116370817, 18.698224852071014, 20.569033530571993, 22.536489151873774, 24.600591715976336, 26.761341222879697, 29.018737672583832, 31.37278106508876], [9.11406969099277, 7.988823142669299, 6.960223537146615, 6.028270874424723, 5.192965154503617, 4.4543063773833005, 3.8122945430637745, 3.2669296515450372, 2.8182117028270883, 2.4661406969099264, 2.2107166337935564, 2.0519395134779734, 1.9898093359631805, 2.024326101249178, 2.155489809335961, 2.3833004602235377, 2.707758053911899, 3.12886259040105, 3.6466140696909886, 4.26101249178172, 4.9720578566732385, 5.779750164365549, 6.684089414858645, 7.685075608152527, 8.782708744247198, 9.976988823142666, 11.267915844838924, 12.65548980933596, 14.139710716633791, 15.720578566732407, 17.398093359631815, 19.17225509533201, 21.043063773833005, 23.010519395134782, 25.07462195923734, 27.235371466140684, 29.49276791584484, 31.84681130834977, 34.29750164365549, 36.844838921762], [7.498685075608152, 6.5667324128862585, 5.7314266929651545, 4.992767915844838, 4.350756081525312, 3.805391190006576, 3.356673241288625, 3.0046022353714648, 2.749178172255097, 2.5904010519395135, 2.5282708744247224, 2.5627876397107183, 2.693951347797502, 2.9217619986850787, 3.2462195923734414, 3.667324128862595, 4.185075608152535, 4.799474030243262, 5.51051939513478, 6.3182117028270905, 7.222550953320187, 8.223537146614076, 9.321170282708747, 10.515450361604213, 11.80637738330046, 13.193951347797508, 14.678172255095344, 16.259040105193957, 17.93655489809336, 19.71071663379356, 21.581525312294545, 23.548980933596333, 25.613083497698895, 27.77383300460224, 30.031229454306374, 32.38527284681131, 34.835963182117055, 37.38330046022356, 40.027284681130844, 42.767915844838924], [6.334319526627219, 5.595660749506903, 4.953648915187378, 4.408284023668639, 3.959566074950689, 3.607495069033529, 3.352071005917159, 3.193293885601575, 3.131163708086783, 3.1656804733727775, 3.2968441814595657, 3.524654832347138, 3.8491124260354983, 4.270216962524654, 4.787968441814592, 5.402366863905325, 6.113412228796843, 6.921104536489147, 7.825443786982243, 8.826429980276131, 9.924063116370803, 11.118343195266268, 12.409270216962522, 13.796844181459562, 15.281065088757387, 16.861932938856008, 18.539447731755423, 20.313609467455613, 22.184418145956602, 24.151873767258376, 26.215976331360952, 28.376725838264278, 30.634122287968438, 32.98816568047337, 35.43885601577908, 37.98619329388559, 40.63017751479288, 43.370808678500985, 46.208086785009854, 49.14201183431952], [5.620973044049967, 5.075608152531229, 4.626890203813282, 4.274819197896122, 4.019395134779749, 3.860618014464169, 3.798487836949376, 3.83300460223537, 3.964168310322158, 4.191978961209731, 4.516436554898098, 4.9375410913872475, 5.455292570677186, 6.069690992767921, 6.780736357659436, 7.58842866535175, 8.492767915844844, 9.493754109138727, 10.591387245233397, 11.785667324128868, 13.076594345825118, 14.464168310322165, 15.948389217619992, 17.529257067718607, 19.20677186061801, 20.980933596318227, 22.851742274819216, 24.819197896120983, 26.88330046022354, 29.044049967126888, 31.301446416831055, 33.655489809335954, 36.1061801446417, 38.6535174227482, 41.297501643655494, 44.03813280736357, 46.87541091387244, 49.80933596318215, 52.83990795529259, 55.96712689020382], [5.358645627876398, 5.0065746219592375, 4.751150558842871, 4.592373438527288, 4.530243261012494, 4.564760026298492, 4.6959237343852775, 4.923734385272851, 5.248191978961216, 5.669296515450366, 6.187047994740313, 6.801446416831041, 7.512491781722557, 8.320184089414871, 9.224523339907964, 10.225509533201855, 11.323142669296528, 12.51742274819199, 13.808349769888242, 15.195923734385289, 16.680144641683114, 18.261012491781738, 19.938527284681147, 21.712689020381344, 23.583497698882326, 25.55095332018412, 27.615055884286676, 29.775805391190023, 32.033201840894165, 34.3872452333991, 36.837935568704836, 39.38527284681132, 42.02925706771863, 44.76988823142672, 47.60716633793558, 50.541091387245245, 53.571663379355705, 56.69888231426696, 59.92274819197898, 63.24326101249181], [5.54733727810651, 5.388560157790927, 5.326429980276137, 5.360946745562131, 5.492110453648914, 5.719921104536491, 6.044378698224852, 6.465483234714002, 6.983234714003946, 7.597633136094673, 8.308678500986197, 9.116370808678502, 10.020710059171595, 11.021696252465487, 12.119329388560159, 13.313609467455626, 14.604536489151878, 15.992110453648914, 17.476331360946745, 19.057199211045358, 20.73471400394478, 22.50887573964497, 24.379684418145956, 26.347140039447737, 28.411242603550292, 30.571992110453635, 32.829388560157795, 35.18343195266272, 37.63412228796844, 40.18145956607495, 42.82544378698224, 45.56607495069035, 48.40335305719921, 51.337278106508876, 54.367850098619314, 57.49506903353056, 60.71893491124263, 64.03944773175543, 67.45660749506902, 70.97041420118342], [6.187047994740302, 6.221564760026297, 6.352728468113087, 6.580539119000658, 6.904996712689018, 7.326101249178174, 7.8438527284681125, 8.458251150558846, 9.169296515450364, 9.976988823142669, 10.881328073635771, 11.882314266929654, 12.979947403024322, 14.174227481919795, 15.465154503616043, 16.852728468113085, 18.33694937541091, 19.917817225509523, 21.595332018408943, 23.369493754109143, 25.240302432610125, 27.2077580539119, 29.271860618014454, 31.432610124917826, 33.69000657462196, 36.044049967126895, 38.49474030243261, 41.042077580539114, 43.68606180144643, 46.426692965154515, 49.26397107166339, 52.19789612097304, 55.228468113083494, 58.35568704799476, 61.57955292570675, 64.9000657462196, 68.3172255095332, 71.83103221564761, 75.44148586456278, 79.14858645627875], [7.277777777777777, 7.505588428665348, 7.830046022353717, 8.251150558842866, 8.768902038132804, 9.38330046022354, 10.094345825115056, 10.902038132807363, 11.806377383300463, 12.807363576594344, 13.904996712689027, 15.099276791584487, 16.390203813280735, 17.777777777777775, 19.261998685075596, 20.84286653517423, 22.52038132807364, 24.294543063773837, 26.165351742274822, 28.13280736357659, 30.19690992767917, 32.357659434582516, 34.61505588428666, 36.96909927679159, 39.419789612097304, 41.96712689020383, 44.61111111111112, 47.3517422748192, 50.18902038132808, 53.12294543063774, 56.153517422748216, 59.28073635765942, 62.50460223537147, 65.8251150558843, 69.2422748191979, 72.7560815253123, 76.36653517422747, 80.07363576594348, 83.87738330046022, 87.7777777777778], [8.819526627218929, 9.240631163708077, 9.758382642998024, 10.372781065088748, 11.083826429980263, 11.891518737672577, 12.79585798816567, 13.796844181459555, 14.894477317554232, 16.0887573964497, 17.37968441814595, 18.767258382642986, 20.25147928994081, 21.832347140039428, 23.509861932938854, 25.284023668639044, 27.15483234714003, 29.122287968441796, 31.18639053254436, 33.34714003944771, 35.60453648915187, 37.95857988165679, 40.40927021696251, 42.95660749506902, 45.60059171597631, 48.34122287968438, 51.17850098619328, 54.112426035502935, 57.14299802761339, 60.270216962524636, 63.49408284023666, 66.81459566074949, 70.2317554240631, 73.7455621301775, 77.35601577909267, 81.06311637080864, 84.86686390532543, 88.76725838264298, 92.76429980276131, 96.85798816568047], [10.812294543063773, 11.426692965154498, 12.137738330046025, 12.945430637738326, 13.84976988823142, 14.850756081525313, 15.948389217619983, 17.142669296515443, 18.43359631821169, 19.82117028270875, 21.305391190006578, 22.886259040105195, 24.563773833004596, 26.33793556870479, 28.208744247205793, 30.17619986850757, 32.24030243261013, 34.40105193951347, 36.658448389217604, 39.01249178172254, 41.463182117028275, 44.01051939513479, 46.65450361604208, 49.39513477975015, 52.23241288625901, 55.166337935568684, 58.19690992767917, 61.3241288625904, 64.54799474030243, 67.86850756081523, 71.28566732412885, 74.79947403024327, 78.40992767915847, 82.11702827087443, 85.92077580539117, 89.82117028270872, 93.81821170282709, 97.91190006574624, 102.10223537146615, 106.38921761998685], [13.2560815253123, 14.063773833004603, 14.96811308349771, 15.9690992767916, 17.06673241288627, 18.26101249178173, 19.55193951347798, 20.939513477975023, 22.423734385272848, 24.004602235371483, 25.68211702827089, 27.45627876397108, 29.327087442472063, 31.29454306377384, 33.35864562787642, 35.51939513477977, 37.77679158448391, 40.13083497698883, 42.58152531229456, 45.12886259040105, 47.77284681130837, 50.51347797501646, 53.350756081525326, 56.284681130835, 59.315253122945435, 62.442472057856676, 65.66633793556873, 68.98685075608154, 72.40401051939514, 75.91781722550955, 79.52827087442473, 83.23537146614073, 87.03911900065748, 90.93951347797505, 94.93655489809336, 99.0302432610125, 103.22057856673246, 107.50756081525316, 111.89119000657465, 116.3714661406969], [16.150887573964496, 17.151873767258376, 18.249506903353048, 19.443786982248525, 20.734714003944774, 22.122287968441817, 23.606508875739642, 25.187376725838256, 26.864891518737664, 28.63905325443788, 30.509861932938865, 32.47731755424063, 34.54142011834319, 36.70216962524654, 38.95956607495067, 41.313609467455635, 43.76429980276134, 46.31163708086785, 48.95562130177514, 51.69625246548323, 54.53353057199212, 57.46745562130178, 60.49802761341223, 63.62524654832347, 66.84911242603549, 70.16962524654835, 73.58678500986196, 77.10059171597634, 80.71104536489152, 84.41814595660749, 88.22189349112428, 92.12228796844181, 96.11932938856017, 100.2130177514793, 104.40335305719921, 108.69033530571991, 113.07396449704142, 117.55424063116374, 122.1311637080868, 126.80473372781066], [19.496712689020384, 20.690992767915844, 21.9819197896121, 23.369493754109154, 24.85371466140698, 26.434582511505596, 28.112097304405, 29.886259040105195, 31.757067718606176, 33.72452333990797, 35.78862590401054, 37.94937541091387, 40.20677186061801, 42.56081525312294, 45.011505588428655, 47.5588428665352, 50.202827087442486, 52.94345825115056, 55.78073635765943, 58.71466140696909, 61.745233399079574, 64.87245233399082, 68.09631821170284, 71.41683103221565, 74.83399079552925, 78.34779750164368, 81.95825115055888, 85.66535174227482, 89.46909927679158, 93.36949375410913, 97.36653517422751, 101.46022353714662, 105.65055884286656, 109.93754109138726, 114.32117028270875, 118.80144641683103, 123.37836949375412, 128.051939513478, 132.82215647600265, 137.68902038132808], [23.293556870479943, 24.681130834976976, 26.165351742274808, 27.746219592373446, 29.423734385272848, 31.19789612097304, 33.06870479947402, 35.03616042077579, 37.100262984878356, 39.26101249178173, 41.51840894148586, 43.872452333990786, 46.3231426692965, 48.87047994740301, 51.514464168310326, 54.255095332018406, 57.09237343852728, 60.02629848783694, 63.05687047994739, 66.18408941485862, 69.40795529257069, 72.7284681130835, 76.1456278763971, 79.65943458251151, 83.26988823142668, 86.97698882314265, 90.78073635765944, 94.68113083497697, 98.67817225509532, 102.77186061801444, 106.96219592373436, 111.2491781722551, 115.6328073635766, 120.11308349769887, 124.69000657462196, 129.3635765943458, 134.1337935568705, 139.00065746219593, 143.96416831032212, 149.0243261012492], [27.541420118343204, 29.122287968441817, 30.799802761341223, 32.573964497041445, 34.44477317554242, 36.41222879684419, 38.47633136094675, 40.637080867850095, 42.894477317554234, 45.24852071005919, 47.69921104536491, 50.24654832347141, 52.8905325443787, 55.63116370808679, 58.46844181459569, 61.40236686390536, 64.4329388560158, 67.56015779092704, 70.78402366863905, 74.10453648915188, 77.52169625246552, 81.03550295857991, 84.6459566074951, 88.35305719921105, 92.1568047337278, 96.05719921104537, 100.05424063116375, 104.14792899408286, 108.33826429980277, 112.62524654832347, 117.00887573964499, 121.48915187376727, 126.06607495069038, 130.73964497041422, 135.50986193293886, 140.3767258382643, 145.34023668639057, 150.4003944773176, 155.5571992110454, 160.81065088757398], [32.240302432610115, 34.014464168310305, 35.88527284681129, 37.852728468113085, 39.91683103221564, 42.07758053911899, 44.33497698882312, 46.68902038132805, 49.13971071663377, 51.6870479947403, 54.331032215647596, 57.07166337935568, 59.90894148586454, 62.84286653517421, 65.87343852728465, 69.00065746219593, 72.22452333990795, 75.54503616042075, 78.96219592373436, 82.47600262984875, 86.08645627876396, 89.79355687047995, 93.59730440499669, 97.49769888231424, 101.49474030243256, 105.58842866535176, 109.77876397107167, 114.06574621959237, 118.44937541091386, 122.92965154503611, 127.50657462195926, 132.18014464168306, 136.95036160420776, 141.8172255095332, 146.7807363576594, 151.84089414858641, 156.99769888231418, 162.25115055884288, 167.60124917817225, 173.0479947403024], [37.39020381328074, 39.3576594345825, 41.42176199868507, 43.58251150558845, 45.839907955292574, 48.19395134779751, 50.64464168310322, 53.19197896120973, 55.83596318211702, 58.57659434582513, 61.413872452334004, 64.34779750164367, 67.37836949375411, 70.50558842866535, 73.72945430637738, 77.04996712689021, 80.46712689020383, 83.98093359631821, 87.59138724523339, 91.29848783694936, 95.10223537146616, 99.0026298487837, 102.99967126890203, 107.09335963182119, 111.28369493754109, 115.57067718606183, 119.95430637738332, 124.4345825115056, 129.0115055884287, 133.68507560815254, 138.45529257067722, 143.32215647600262, 148.2856673241289, 153.3458251150559, 158.50262984878367, 163.7560815253123, 169.10618014464166, 174.55292570677187, 180.09631821170282, 185.73635765943456], [42.99112426035505, 45.151873767258394, 47.40927021696253, 49.76331360946749, 52.214003944773204, 54.761341222879715, 57.405325443787, 60.14595660749508, 62.983234714003956, 65.91715976331365, 68.9477317554241, 72.07495069033533, 75.29881656804736, 78.61932938856017, 82.03648915187378, 85.5502958579882, 89.16074950690339, 92.86785009861936, 96.6715976331361, 100.57199211045365, 104.56903353057206, 108.66272189349117, 112.85305719921108, 117.1400394477318, 121.52366863905327, 126.00394477317559, 130.58086785009868, 135.25443786982254, 140.02465483234718, 144.8915187376726, 149.85502958579886, 154.91518737672587, 160.0719921104537, 165.32544378698228, 170.67554240631165, 176.1222879684418, 181.6656804733728, 187.30571992110458, 193.04240631163714, 198.87573964497045], [49.043063773833005, 51.39710716633793, 53.847797501643655, 56.39513477975019, 59.03911900065748, 61.779750164365566, 64.61702827087443, 67.55095332018409, 70.58152531229453, 73.7087442472058, 76.93261012491783, 80.25312294543065, 83.67028270874425, 87.18408941485865, 90.79454306377386, 94.50164365548983, 98.30539119000657, 102.20578566732415, 106.20282708744247, 110.2965154503616, 114.48685075608157, 118.77383300460225, 123.15746219592377, 127.63773833004603, 132.2146614069691, 136.88823142669295, 141.65844838921765, 146.52531229454308, 151.4888231426693, 156.54898093359634, 161.70578566732414, 166.95923734385275, 172.30933596318215, 177.7560815253123, 183.2994740302433, 188.93951347797503, 194.67619986850758, 200.5095332018409, 206.43951347797503, 212.46614069690997], [55.54602235371464, 58.093359631821144, 60.73734385272844, 63.47797501643655, 66.31525312294542, 69.24917817225509, 72.27975016436552, 75.40696909927676, 78.63083497698878, 81.95134779750163, 85.36850756081525, 88.88231426692963, 92.49276791584481, 96.19986850756078, 100.00361604207754, 103.90401051939511, 107.90105193951345, 111.99474030243259, 116.18507560815252, 120.4720578566732, 124.85568704799473, 129.335963182117, 133.9128862590401, 138.58645627876393, 143.35667324128858, 148.22353714661406, 153.18704799474028, 158.2472057856673, 163.4040105193951, 168.6574621959237, 174.0075608152531, 179.45430637738323, 184.99769888231424, 190.63773833004598, 196.37442472057853, 202.20775805391185, 208.13773833004598, 214.16436554898092, 220.28763971071658, 226.5075608152531], [62.5, 65.24063116370809, 68.07790927021695, 71.01183431952664, 74.04240631163708, 77.16962524654832, 80.39349112426035, 83.71400394477315, 87.13116370808677, 90.6449704142012, 94.25542406311638, 97.96252465483235, 101.76627218934911, 105.66666666666664, 109.66370808678496, 113.75739644970417, 117.94773175542407, 122.23471400394476, 126.61834319526625, 131.09861932938853, 135.67554240631168, 140.34911242603553, 145.11932938856017, 149.9861932938856, 154.9497041420118, 160.0098619329389, 165.16666666666669, 170.42011834319527, 175.77021696252464, 181.2169625246548, 186.76035502958587, 192.4003944773175, 198.13708086785013, 203.97041420118342, 209.90039447731755, 215.92702169625244, 222.05029585798812, 228.2702169625247, 234.58678500986196, 241.0]]}],\n                        {\"template\": {\"data\": {\"bar\": [{\"error_x\": {\"color\": \"#2a3f5f\"}, \"error_y\": {\"color\": \"#2a3f5f\"}, \"marker\": {\"line\": {\"color\": \"#E5ECF6\", \"width\": 0.5}}, \"type\": \"bar\"}], \"barpolar\": [{\"marker\": {\"line\": {\"color\": \"#E5ECF6\", \"width\": 0.5}}, \"type\": \"barpolar\"}], \"carpet\": [{\"aaxis\": {\"endlinecolor\": \"#2a3f5f\", \"gridcolor\": \"white\", \"linecolor\": \"white\", \"minorgridcolor\": \"white\", \"startlinecolor\": \"#2a3f5f\"}, \"baxis\": {\"endlinecolor\": \"#2a3f5f\", \"gridcolor\": \"white\", \"linecolor\": \"white\", \"minorgridcolor\": \"white\", \"startlinecolor\": \"#2a3f5f\"}, \"type\": \"carpet\"}], \"choropleth\": [{\"colorbar\": {\"outlinewidth\": 0, \"ticks\": \"\"}, \"type\": \"choropleth\"}], \"contour\": [{\"colorbar\": {\"outlinewidth\": 0, \"ticks\": \"\"}, \"colorscale\": [[0.0, \"#0d0887\"], [0.1111111111111111, \"#46039f\"], [0.2222222222222222, \"#7201a8\"], [0.3333333333333333, \"#9c179e\"], [0.4444444444444444, \"#bd3786\"], [0.5555555555555556, \"#d8576b\"], [0.6666666666666666, \"#ed7953\"], [0.7777777777777778, \"#fb9f3a\"], [0.8888888888888888, \"#fdca26\"], [1.0, \"#f0f921\"]], \"type\": \"contour\"}], \"contourcarpet\": [{\"colorbar\": {\"outlinewidth\": 0, \"ticks\": \"\"}, \"type\": \"contourcarpet\"}], \"heatmap\": [{\"colorbar\": {\"outlinewidth\": 0, \"ticks\": \"\"}, \"colorscale\": [[0.0, \"#0d0887\"], [0.1111111111111111, \"#46039f\"], [0.2222222222222222, \"#7201a8\"], [0.3333333333333333, \"#9c179e\"], [0.4444444444444444, \"#bd3786\"], [0.5555555555555556, \"#d8576b\"], [0.6666666666666666, \"#ed7953\"], [0.7777777777777778, \"#fb9f3a\"], [0.8888888888888888, \"#fdca26\"], [1.0, \"#f0f921\"]], \"type\": \"heatmap\"}], \"heatmapgl\": [{\"colorbar\": {\"outlinewidth\": 0, \"ticks\": \"\"}, \"colorscale\": [[0.0, \"#0d0887\"], [0.1111111111111111, \"#46039f\"], [0.2222222222222222, \"#7201a8\"], [0.3333333333333333, \"#9c179e\"], [0.4444444444444444, \"#bd3786\"], [0.5555555555555556, \"#d8576b\"], [0.6666666666666666, \"#ed7953\"], [0.7777777777777778, \"#fb9f3a\"], [0.8888888888888888, \"#fdca26\"], [1.0, \"#f0f921\"]], \"type\": \"heatmapgl\"}], \"histogram\": [{\"marker\": {\"colorbar\": {\"outlinewidth\": 0, \"ticks\": \"\"}}, \"type\": \"histogram\"}], \"histogram2d\": [{\"colorbar\": {\"outlinewidth\": 0, \"ticks\": \"\"}, \"colorscale\": [[0.0, \"#0d0887\"], [0.1111111111111111, \"#46039f\"], [0.2222222222222222, \"#7201a8\"], [0.3333333333333333, \"#9c179e\"], [0.4444444444444444, \"#bd3786\"], [0.5555555555555556, \"#d8576b\"], [0.6666666666666666, \"#ed7953\"], [0.7777777777777778, \"#fb9f3a\"], [0.8888888888888888, \"#fdca26\"], [1.0, \"#f0f921\"]], \"type\": \"histogram2d\"}], \"histogram2dcontour\": [{\"colorbar\": {\"outlinewidth\": 0, \"ticks\": \"\"}, \"colorscale\": [[0.0, \"#0d0887\"], [0.1111111111111111, \"#46039f\"], [0.2222222222222222, \"#7201a8\"], [0.3333333333333333, \"#9c179e\"], [0.4444444444444444, \"#bd3786\"], [0.5555555555555556, \"#d8576b\"], [0.6666666666666666, \"#ed7953\"], [0.7777777777777778, \"#fb9f3a\"], [0.8888888888888888, \"#fdca26\"], [1.0, \"#f0f921\"]], \"type\": \"histogram2dcontour\"}], \"mesh3d\": [{\"colorbar\": {\"outlinewidth\": 0, \"ticks\": \"\"}, \"type\": \"mesh3d\"}], \"parcoords\": [{\"line\": {\"colorbar\": {\"outlinewidth\": 0, \"ticks\": \"\"}}, \"type\": \"parcoords\"}], \"pie\": [{\"automargin\": true, \"type\": \"pie\"}], \"scatter\": [{\"marker\": {\"colorbar\": {\"outlinewidth\": 0, \"ticks\": \"\"}}, \"type\": \"scatter\"}], \"scatter3d\": [{\"line\": {\"colorbar\": {\"outlinewidth\": 0, \"ticks\": \"\"}}, \"marker\": {\"colorbar\": {\"outlinewidth\": 0, \"ticks\": \"\"}}, \"type\": \"scatter3d\"}], \"scattercarpet\": [{\"marker\": {\"colorbar\": {\"outlinewidth\": 0, \"ticks\": \"\"}}, \"type\": \"scattercarpet\"}], \"scattergeo\": [{\"marker\": {\"colorbar\": {\"outlinewidth\": 0, \"ticks\": \"\"}}, \"type\": \"scattergeo\"}], \"scattergl\": [{\"marker\": {\"colorbar\": {\"outlinewidth\": 0, \"ticks\": \"\"}}, \"type\": \"scattergl\"}], \"scattermapbox\": [{\"marker\": {\"colorbar\": {\"outlinewidth\": 0, \"ticks\": \"\"}}, \"type\": \"scattermapbox\"}], \"scatterpolar\": [{\"marker\": {\"colorbar\": {\"outlinewidth\": 0, \"ticks\": \"\"}}, \"type\": \"scatterpolar\"}], \"scatterpolargl\": [{\"marker\": {\"colorbar\": {\"outlinewidth\": 0, \"ticks\": \"\"}}, \"type\": \"scatterpolargl\"}], \"scatterternary\": [{\"marker\": {\"colorbar\": {\"outlinewidth\": 0, \"ticks\": \"\"}}, \"type\": \"scatterternary\"}], \"surface\": [{\"colorbar\": {\"outlinewidth\": 0, \"ticks\": \"\"}, \"colorscale\": [[0.0, \"#0d0887\"], [0.1111111111111111, \"#46039f\"], [0.2222222222222222, \"#7201a8\"], [0.3333333333333333, \"#9c179e\"], [0.4444444444444444, \"#bd3786\"], [0.5555555555555556, \"#d8576b\"], [0.6666666666666666, \"#ed7953\"], [0.7777777777777778, \"#fb9f3a\"], [0.8888888888888888, \"#fdca26\"], [1.0, \"#f0f921\"]], \"type\": \"surface\"}], \"table\": [{\"cells\": {\"fill\": {\"color\": \"#EBF0F8\"}, \"line\": {\"color\": \"white\"}}, \"header\": {\"fill\": {\"color\": \"#C8D4E3\"}, \"line\": {\"color\": \"white\"}}, \"type\": \"table\"}]}, \"layout\": {\"annotationdefaults\": {\"arrowcolor\": \"#2a3f5f\", \"arrowhead\": 0, \"arrowwidth\": 1}, \"coloraxis\": {\"colorbar\": {\"outlinewidth\": 0, \"ticks\": \"\"}}, \"colorscale\": {\"diverging\": [[0, \"#8e0152\"], [0.1, \"#c51b7d\"], [0.2, \"#de77ae\"], [0.3, \"#f1b6da\"], [0.4, \"#fde0ef\"], [0.5, \"#f7f7f7\"], [0.6, \"#e6f5d0\"], [0.7, \"#b8e186\"], [0.8, \"#7fbc41\"], [0.9, \"#4d9221\"], [1, \"#276419\"]], \"sequential\": [[0.0, \"#0d0887\"], [0.1111111111111111, \"#46039f\"], [0.2222222222222222, \"#7201a8\"], [0.3333333333333333, \"#9c179e\"], [0.4444444444444444, \"#bd3786\"], [0.5555555555555556, \"#d8576b\"], [0.6666666666666666, \"#ed7953\"], [0.7777777777777778, \"#fb9f3a\"], [0.8888888888888888, \"#fdca26\"], [1.0, \"#f0f921\"]], \"sequentialminus\": [[0.0, \"#0d0887\"], [0.1111111111111111, \"#46039f\"], [0.2222222222222222, \"#7201a8\"], [0.3333333333333333, \"#9c179e\"], [0.4444444444444444, \"#bd3786\"], [0.5555555555555556, \"#d8576b\"], [0.6666666666666666, \"#ed7953\"], [0.7777777777777778, \"#fb9f3a\"], [0.8888888888888888, \"#fdca26\"], [1.0, \"#f0f921\"]]}, \"colorway\": [\"#636efa\", \"#EF553B\", \"#00cc96\", \"#ab63fa\", \"#FFA15A\", \"#19d3f3\", \"#FF6692\", \"#B6E880\", \"#FF97FF\", \"#FECB52\"], \"font\": {\"color\": \"#2a3f5f\"}, \"geo\": {\"bgcolor\": \"white\", \"lakecolor\": \"white\", \"landcolor\": \"#E5ECF6\", \"showlakes\": true, \"showland\": true, \"subunitcolor\": \"white\"}, \"hoverlabel\": {\"align\": \"left\"}, \"hovermode\": \"closest\", \"mapbox\": {\"style\": \"light\"}, \"paper_bgcolor\": \"white\", \"plot_bgcolor\": \"#E5ECF6\", \"polar\": {\"angularaxis\": {\"gridcolor\": \"white\", \"linecolor\": \"white\", \"ticks\": \"\"}, \"bgcolor\": \"#E5ECF6\", \"radialaxis\": {\"gridcolor\": \"white\", \"linecolor\": \"white\", \"ticks\": \"\"}}, \"scene\": {\"xaxis\": {\"backgroundcolor\": \"#E5ECF6\", \"gridcolor\": \"white\", \"gridwidth\": 2, \"linecolor\": \"white\", \"showbackground\": true, \"ticks\": \"\", \"zerolinecolor\": \"white\"}, \"yaxis\": {\"backgroundcolor\": \"#E5ECF6\", \"gridcolor\": \"white\", \"gridwidth\": 2, \"linecolor\": \"white\", \"showbackground\": true, \"ticks\": \"\", \"zerolinecolor\": \"white\"}, \"zaxis\": {\"backgroundcolor\": \"#E5ECF6\", \"gridcolor\": \"white\", \"gridwidth\": 2, \"linecolor\": \"white\", \"showbackground\": true, \"ticks\": \"\", \"zerolinecolor\": \"white\"}}, \"shapedefaults\": {\"line\": {\"color\": \"#2a3f5f\"}}, \"ternary\": {\"aaxis\": {\"gridcolor\": \"white\", \"linecolor\": \"white\", \"ticks\": \"\"}, \"baxis\": {\"gridcolor\": \"white\", \"linecolor\": \"white\", \"ticks\": \"\"}, \"bgcolor\": \"#E5ECF6\", \"caxis\": {\"gridcolor\": \"white\", \"linecolor\": \"white\", \"ticks\": \"\"}}, \"title\": {\"x\": 0.05}, \"xaxis\": {\"automargin\": true, \"gridcolor\": \"white\", \"linecolor\": \"white\", \"ticks\": \"\", \"title\": {\"standoff\": 15}, \"zerolinecolor\": \"white\", \"zerolinewidth\": 2}, \"yaxis\": {\"automargin\": true, \"gridcolor\": \"white\", \"linecolor\": \"white\", \"ticks\": \"\", \"title\": {\"standoff\": 15}, \"zerolinecolor\": \"white\", \"zerolinewidth\": 2}}}},\n                        {\"responsive\": true}\n                    ).then(function(){\n                            \nvar gd = document.getElementById('ebffbfed-d863-4d33-adfe-9679207edac6');\nvar x = new MutationObserver(function (mutations, observer) {{\n        var display = window.getComputedStyle(gd).display;\n        if (!display || display === 'none') {{\n            console.log([gd, 'removed!']);\n            Plotly.purge(gd);\n            observer.disconnect();\n        }}\n}});\n\n// Listen for the removal of the full notebook cells\nvar notebookContainer = gd.closest('#notebook-container');\nif (notebookContainer) {{\n    x.observe(notebookContainer, {childList: true});\n}}\n\n// Listen for the clearing of the current output cell\nvar outputEl = gd.closest('.output');\nif (outputEl) {{\n    x.observe(outputEl, {childList: true});\n}}\n\n                        })\n                };\n                });\n            </script>\n        </div>"
     },
     "metadata": {},
     "output_type": "display_data"
    }
   ],
   "source": [
    "contour = Graph()\n",
    "contour.plot2DArray([[10], [4]], \"minima\")\n",
    "contour.plotContourLine(\n",
    "    CostFunction(dataset).squaredError,\n",
    "    0, 14, 40\n",
    ")\n",
    "contour.render()"
   ]
  },
  {
   "cell_type": "markdown",
   "metadata": {},
   "source": [
    "## Gradient descent\n",
    "\n",
    "repeat until convergence {\n",
    "\n",
    "$ \\theta_j := \\theta_j - \\alpha \\frac{\\partial}{\\partial \\theta_j} J(\\theta_o, \\theta_1) $\n",
    "\n",
    "}"
   ]
  },
  {
   "cell_type": "markdown",
   "metadata": {
    "pycharm": {
     "name": "#%% md\n"
    }
   },
   "source": [
    "# Questions:\n",
    "\n",
    "### 1) In $ \\frac{1}{2m} \\sum_{i=1}^m (h_\\theta(x^{(i)}) - y^i)^2 $ why $ \\frac{1}{2m} $ and not simply $ \\frac{1}{m} $ like a regular average ?\n",
    "\n",
    "A youtube comments says: we are dividing by m to get the mean (average) and 2 is for simplification of the derivative (a^2 =2a)\n",
    "\n",
    "What does that mean ? Is $ \\frac{1}{2m} $ simpler to derive than $ \\frac{1}{m} $ ?\n",
    "\n",
    "### 2) How to figure out a good range for a contour plot ?\n",
    "\n",
    "I can't find a good range of value for which my contour plot looks nice and pretty\n"
   ]
  }
 ],
 "metadata": {
  "kernelspec": {
   "display_name": "Python 3",
   "language": "python",
   "name": "python3"
  },
  "language_info": {
   "codemirror_mode": {
    "name": "ipython",
    "version": 3
   },
   "file_extension": ".py",
   "mimetype": "text/x-python",
   "name": "python",
   "nbconvert_exporter": "python",
   "pygments_lexer": "ipython3",
   "version": "3.7.7"
  }
 },
 "nbformat": 4,
 "nbformat_minor": 4
}